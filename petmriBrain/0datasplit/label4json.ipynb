{
 "cells": [
  {
   "cell_type": "code",
   "execution_count": null,
   "metadata": {},
   "outputs": [],
   "source": []
  },
  {
   "cell_type": "code",
   "execution_count": 5,
   "metadata": {},
   "outputs": [
    {
     "name": "stdout",
     "output_type": "stream",
     "text": [
      "<class 'list'>\n",
      "45\n",
      "label_dict['0'] = \"Background\"\n",
      "label_dict['1'] = \"Left-Cerebral-White-Matter\"\n",
      "label_dict['2'] = \"Left-Cerebral-Cortex\"\n",
      "label_dict['3'] = \"Left-Lateral-Ventricle\"\n",
      "label_dict['4'] = \"Left-Inf-Lat-Vent\"\n",
      "label_dict['5'] = \"Left-Cerebellum-White-Matter\"\n",
      "label_dict['6'] = \"Left-Cerebellum-Cortex\"\n",
      "label_dict['7'] = \"Left-Thalamus-Proper\"\n",
      "label_dict['8'] = \"Left-Caudate\"\n",
      "label_dict['9'] = \"Left-Putamen\"\n",
      "label_dict['10'] = \"Left-Pallidum\"\n",
      "label_dict['11'] = \"3rd-Ventricle\"\n",
      "label_dict['12'] = \"4th-Ventricle\"\n",
      "label_dict['13'] = \"Brain-Stem\"\n",
      "label_dict['14'] = \"Left-Hippocampus\"\n",
      "label_dict['15'] = \"Left-Amygdala\"\n",
      "label_dict['16'] = \"CSF\"\n",
      "label_dict['17'] = \"Left-Accumbens-area\"\n",
      "label_dict['18'] = \"Left-VentralDC\"\n",
      "label_dict['19'] = \"Left-vessel\"\n",
      "label_dict['20'] = \"Left-choroid-plexus\"\n",
      "label_dict['21'] = \"Right-Cerebral-White-Matter\"\n",
      "label_dict['22'] = \"Right-Cerebral-Cortex\"\n",
      "label_dict['23'] = \"Right-Lateral-Ventricle\"\n",
      "label_dict['24'] = \"Right-Inf-Lat-Vent\"\n",
      "label_dict['25'] = \"Right-Cerebellum-White-Matter\"\n",
      "label_dict['26'] = \"Right-Cerebellum-Cortex\"\n",
      "label_dict['27'] = \"Right-Thalamus-Proper\"\n",
      "label_dict['28'] = \"Right-Caudate\"\n",
      "label_dict['29'] = \"Right-Putamen\"\n",
      "label_dict['30'] = \"Right-Pallidum\"\n",
      "label_dict['31'] = \"Right-Hippocampus\"\n",
      "label_dict['32'] = \"Right-Amygdala\"\n",
      "label_dict['33'] = \"Right-Accumbens-area\"\n",
      "label_dict['34'] = \"Right-VentralDC\"\n",
      "label_dict['35'] = \"Right-vessel\"\n",
      "label_dict['36'] = \"Right-choroid-plexus\"\n",
      "label_dict['37'] = \"WM-hypointensities\"\n",
      "label_dict['38'] = \"non-WM-hypointensities\"\n",
      "label_dict['39'] = \"Optic-Chiasm\"\n",
      "label_dict['40'] = \"CC_Posterior\"\n",
      "label_dict['41'] = \"CC_Mid_Posterior\"\n",
      "label_dict['42'] = \"CC_Central\"\n",
      "label_dict['43'] = \"CC_Mid_Anterior\"\n",
      "label_dict['44'] = \"CC_Anterior\"\n",
      "\n"
     ]
    }
   ],
   "source": [
    "aneurysm_path = \"./label.txt\"\n",
    "with open(aneurysm_path) as f:\n",
    "    class_names = f.readlines()# 全部读取最后返回一个列表存所有的类,每行后面都会带有“\\n”\n",
    "    aneurysm_path = [c.strip() for c in class_names]# 采用strip（）方法可以去掉最后的“\\n”\n",
    "    print (type(aneurysm_path))\n",
    "    print (len(aneurysm_path))\n",
    "    f.close()\n",
    "json_txt = ''\n",
    "for line in aneurysm_path:\n",
    "    label_id = line.split('\\t')[0]\n",
    "    label_class = line.split('\\t')[-1]\n",
    "    line = \"label_dict['\"+str(label_id)+\"'] = \"+ '\"'+label_class+'\"\\n'\n",
    "    json_txt+=line\n",
    "print (json_txt)"
   ]
  },
  {
   "cell_type": "code",
   "execution_count": 7,
   "metadata": {},
   "outputs": [
    {
     "name": "stdout",
     "output_type": "stream",
     "text": [
      "OrderedDict([('0', 'Background'), ('1', 'Left-Cerebral-White-Matter'), ('2', 'Left-Cerebral-Cortex'), ('3', 'Left-Lateral-Ventricle'), ('4', 'Left-Inf-Lat-Vent'), ('5', 'Left-Cerebellum-White-Matter'), ('6', 'Left-Cerebellum-Cortex'), ('7', 'Left-Thalamus-Proper'), ('8', 'Left-Caudate'), ('9', 'Left-Putamen'), ('10', 'Left-Pallidum'), ('11', '3rd-Ventricle'), ('12', '4th-Ventricle'), ('13', 'Brain-Stem'), ('14', 'Left-Hippocampus'), ('15', 'Left-Amygdala'), ('16', 'CSF'), ('17', 'Left-Accumbens-area'), ('18', 'Left-VentralDC'), ('19', 'Left-vessel'), ('20', 'Left-choroid-plexus'), ('21', 'Right-Cerebral-White-Matter'), ('22', 'Right-Cerebral-Cortex'), ('23', 'Right-Lateral-Ventricle'), ('24', 'Right-Inf-Lat-Vent'), ('25', 'Right-Cerebellum-White-Matter'), ('26', 'Right-Cerebellum-Cortex'), ('27', 'Right-Thalamus-Proper'), ('28', 'Right-Caudate'), ('29', 'Right-Putamen'), ('30', 'Right-Pallidum'), ('31', 'Right-Hippocampus'), ('32', 'Right-Amygdala'), ('33', 'Right-Accumbens-area'), ('34', 'Right-VentralDC'), ('35', 'Right-vessel'), ('36', 'Right-choroid-plexus'), ('37', 'WM-hypointensities'), ('38', 'non-WM-hypointensities'), ('39', 'Optic-Chiasm'), ('40', 'CC_Posterior'), ('41', 'CC_Mid_Posterior'), ('42', 'CC_Central'), ('43', 'CC_Mid_Anterior'), ('44', 'CC_Anterior')])\n"
     ]
    }
   ],
   "source": [
    "from collections import OrderedDict\n",
    "label_dict = OrderedDict()\n",
    "label_dict['0'] = \"Background\"\n",
    "label_dict['1'] = \"Left-Cerebral-White-Matter\"\n",
    "label_dict['2'] = \"Left-Cerebral-Cortex\"\n",
    "label_dict['3'] = \"Left-Lateral-Ventricle\"\n",
    "label_dict['4'] = \"Left-Inf-Lat-Vent\"\n",
    "label_dict['5'] = \"Left-Cerebellum-White-Matter\"\n",
    "label_dict['6'] = \"Left-Cerebellum-Cortex\"\n",
    "label_dict['7'] = \"Left-Thalamus-Proper\"\n",
    "label_dict['8'] = \"Left-Caudate\"\n",
    "label_dict['9'] = \"Left-Putamen\"\n",
    "label_dict['10'] = \"Left-Pallidum\"\n",
    "label_dict['11'] = \"3rd-Ventricle\"\n",
    "label_dict['12'] = \"4th-Ventricle\"\n",
    "label_dict['13'] = \"Brain-Stem\"\n",
    "label_dict['14'] = \"Left-Hippocampus\"\n",
    "label_dict['15'] = \"Left-Amygdala\"\n",
    "label_dict['16'] = \"CSF\"\n",
    "label_dict['17'] = \"Left-Accumbens-area\"\n",
    "label_dict['18'] = \"Left-VentralDC\"\n",
    "label_dict['19'] = \"Left-vessel\"\n",
    "label_dict['20'] = \"Left-choroid-plexus\"\n",
    "label_dict['21'] = \"Right-Cerebral-White-Matter\"\n",
    "label_dict['22'] = \"Right-Cerebral-Cortex\"\n",
    "label_dict['23'] = \"Right-Lateral-Ventricle\"\n",
    "label_dict['24'] = \"Right-Inf-Lat-Vent\"\n",
    "label_dict['25'] = \"Right-Cerebellum-White-Matter\"\n",
    "label_dict['26'] = \"Right-Cerebellum-Cortex\"\n",
    "label_dict['27'] = \"Right-Thalamus-Proper\"\n",
    "label_dict['28'] = \"Right-Caudate\"\n",
    "label_dict['29'] = \"Right-Putamen\"\n",
    "label_dict['30'] = \"Right-Pallidum\"\n",
    "label_dict['31'] = \"Right-Hippocampus\"\n",
    "label_dict['32'] = \"Right-Amygdala\"\n",
    "label_dict['33'] = \"Right-Accumbens-area\"\n",
    "label_dict['34'] = \"Right-VentralDC\"\n",
    "label_dict['35'] = \"Right-vessel\"\n",
    "label_dict['36'] = \"Right-choroid-plexus\"\n",
    "label_dict['37'] = \"WM-hypointensities\"\n",
    "label_dict['38'] = \"non-WM-hypointensities\"\n",
    "label_dict['39'] = \"Optic-Chiasm\"\n",
    "label_dict['40'] = \"CC_Posterior\"\n",
    "label_dict['41'] = \"CC_Mid_Posterior\"\n",
    "label_dict['42'] = \"CC_Central\"\n",
    "label_dict['43'] = \"CC_Mid_Anterior\"\n",
    "label_dict['44'] = \"CC_Anterior\"\n",
    "print (label_dict)"
   ]
  },
  {
   "cell_type": "code",
   "execution_count": null,
   "metadata": {},
   "outputs": [],
   "source": []
  }
 ],
 "metadata": {
  "kernelspec": {
   "display_name": "Python 3",
   "language": "python",
   "name": "python3"
  },
  "language_info": {
   "codemirror_mode": {
    "name": "ipython",
    "version": 3
   },
   "file_extension": ".py",
   "mimetype": "text/x-python",
   "name": "python",
   "nbconvert_exporter": "python",
   "pygments_lexer": "ipython3",
   "version": "3.8.3"
  }
 },
 "nbformat": 4,
 "nbformat_minor": 4
}
