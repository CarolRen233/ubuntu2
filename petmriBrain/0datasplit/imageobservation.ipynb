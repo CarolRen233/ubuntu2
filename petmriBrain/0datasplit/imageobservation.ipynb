{
 "cells": [
  {
   "cell_type": "code",
   "execution_count": 4,
   "metadata": {},
   "outputs": [],
   "source": [
    "import os,glob\n",
    "import numpy as np\n",
    "import SimpleITK as sitk\n",
    "import operator"
   ]
  },
  {
   "cell_type": "code",
   "execution_count": 10,
   "metadata": {},
   "outputs": [],
   "source": [
    "name = '071.nii.gz'\n",
    "data_file = 'F:/data/petmrBrain'"
   ]
  },
  {
   "cell_type": "code",
   "execution_count": 11,
   "metadata": {},
   "outputs": [],
   "source": [
    "pet_itk = sitk.ReadImage(os.path.join(data_file,'raw_pet','pet_'+name))\n",
    "mri_itk = sitk.ReadImage(os.path.join(data_file,'raw_mri','mri_'+name))\n",
    "mask_itk = sitk.ReadImage(os.path.join(data_file,'raw_mask','mask_'+name))"
   ]
  },
  {
   "cell_type": "code",
   "execution_count": 12,
   "metadata": {},
   "outputs": [],
   "source": [
    "def get_itk_info(data_itk):\n",
    "    original_size_of_raw_data = np.array(data_itk.GetSize())[[2, 1, 0]]\n",
    "    original_spacing = np.array(data_itk.GetSpacing())[[2, 1, 0]]\n",
    "    itk_origin = data_itk.GetOrigin()\n",
    "    itk_spacing = data_itk.GetSpacing()\n",
    "    itk_direction = data_itk.GetDirection()\n",
    "    print ('original_size_of_raw_data: ',original_size_of_raw_data)\n",
    "    print ('original_spacing: ',original_spacing)\n",
    "    print ('itk_origin: ',itk_origin)\n",
    "    print ('itk_spacing: ',itk_spacing)\n",
    "    print ('itk_direction: ',itk_direction)\n",
    "    print\n",
    "    "
   ]
  },
  {
   "cell_type": "code",
   "execution_count": 13,
   "metadata": {},
   "outputs": [
    {
     "name": "stdout",
     "output_type": "stream",
     "text": [
      "original_size_of_raw_data:  [256 256 256]\n",
      "original_spacing:  [1. 1. 1.]\n",
      "itk_origin:  (-124.71966552734375, 123.5367202758789, 127.67292785644531)\n",
      "itk_spacing:  (1.0, 1.0, 1.0)\n",
      "itk_direction:  (1.0, -2.3283067140944524e-10, 1.4551916963090328e-11, 1.4551916963090328e-11, -5.684341886080802e-14, -1.0, -2.3283067140944524e-10, -1.0, 5.684341886080802e-14)\n"
     ]
    }
   ],
   "source": [
    "get_itk_info(pet_itk)"
   ]
  },
  {
   "cell_type": "code",
   "execution_count": 14,
   "metadata": {},
   "outputs": [
    {
     "name": "stdout",
     "output_type": "stream",
     "text": [
      "original_size_of_raw_data:  [256 256 256]\n",
      "original_spacing:  [1. 1. 1.]\n",
      "itk_origin:  (-124.71966552734375, 123.5367202758789, 127.67292785644531)\n",
      "itk_spacing:  (1.0, 1.0, 1.0)\n",
      "itk_direction:  (1.0, -4.656613428188971e-10, 0.0, 2.910383392618107e-11, 9.208634953205729e-11, -1.0, 0.0, -1.0, 9.220003638333143e-11)\n"
     ]
    }
   ],
   "source": [
    "get_itk_info(mri_itk)"
   ]
  },
  {
   "cell_type": "code",
   "execution_count": 15,
   "metadata": {},
   "outputs": [
    {
     "name": "stdout",
     "output_type": "stream",
     "text": [
      "original_size_of_raw_data:  [256 256 256]\n",
      "original_spacing:  [0.99999988 0.99999988 0.99999988]\n",
      "itk_origin:  (-124.71966552734375, 123.5367202758789, 127.67292785644531)\n",
      "itk_spacing:  (0.9999998807907104, 0.9999998807907104, 0.9999998807907104)\n",
      "itk_direction:  (1.0, -4.656613428188971e-10, 0.0, 2.910383392618107e-11, 9.208634953205729e-11, -1.0, 0.0, -1.0, 9.220003638333143e-11)\n"
     ]
    }
   ],
   "source": [
    "get_itk_info(mask_itk)"
   ]
  },
  {
   "cell_type": "code",
   "execution_count": 54,
   "metadata": {},
   "outputs": [
    {
     "name": "stdout",
     "output_type": "stream",
     "text": [
      "[ 0  1  2  3  4  5  6  7  8  9 10 11 12 13 14 15 16 17 18 20 21 22 23 24\n",
      " 25 26 27 28 29 30 31 32 33 34 35 36 37 39 40 41 42 43 44]\n"
     ]
    }
   ],
   "source": [
    "mask_np = sitk.GetArrayFromImage(mask_itk).astype(np.int32)\n",
    "print (np.unique(mask_np))"
   ]
  },
  {
   "cell_type": "code",
   "execution_count": null,
   "metadata": {},
   "outputs": [],
   "source": []
  }
 ],
 "metadata": {
  "kernelspec": {
   "display_name": "Python 3",
   "language": "python",
   "name": "python3"
  },
  "language_info": {
   "codemirror_mode": {
    "name": "ipython",
    "version": 3
   },
   "file_extension": ".py",
   "mimetype": "text/x-python",
   "name": "python",
   "nbconvert_exporter": "python",
   "pygments_lexer": "ipython3",
   "version": "3.8.3"
  }
 },
 "nbformat": 4,
 "nbformat_minor": 4
}
