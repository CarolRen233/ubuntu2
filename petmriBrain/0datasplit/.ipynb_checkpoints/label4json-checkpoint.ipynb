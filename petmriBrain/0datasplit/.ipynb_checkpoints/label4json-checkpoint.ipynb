{
 "cells": [
  {
   "cell_type": "code",
   "execution_count": null,
   "metadata": {},
   "outputs": [],
   "source": []
  },
  {
   "cell_type": "code",
   "execution_count": 1,
   "metadata": {},
   "outputs": [
    {
     "name": "stdout",
     "output_type": "stream",
     "text": [
      "<class 'list'>\n",
      "45\n",
      "\"0\tBackground\":\"0\tBackground\",\n",
      "\"1\tLeft-Cerebral-White-Matter\":\"1\tLeft-Cerebral-White-Matter\",\n",
      "\"2\tLeft-Cerebral-Cortex\":\"2\tLeft-Cerebral-Cortex\",\n",
      "\"3\tLeft-Lateral-Ventricle\":\"3\tLeft-Lateral-Ventricle\",\n",
      "\"4\tLeft-Inf-Lat-Vent\":\"4\tLeft-Inf-Lat-Vent\",\n",
      "\"5\tLeft-Cerebellum-White-Matter\":\"5\tLeft-Cerebellum-White-Matter\",\n",
      "\"6\tLeft-Cerebellum-Cortex\":\"6\tLeft-Cerebellum-Cortex\",\n",
      "\"7\tLeft-Thalamus-Proper\":\"7\tLeft-Thalamus-Proper\",\n",
      "\"8\tLeft-Caudate\":\"8\tLeft-Caudate\",\n",
      "\"9\tLeft-Putamen\":\"9\tLeft-Putamen\",\n",
      "\"10\tLeft-Pallidum\":\"10\tLeft-Pallidum\",\n",
      "\"11\t3rd-Ventricle\":\"11\t3rd-Ventricle\",\n",
      "\"12\t4th-Ventricle\":\"12\t4th-Ventricle\",\n",
      "\"13\tBrain-Stem\":\"13\tBrain-Stem\",\n",
      "\"14\tLeft-Hippocampus\":\"14\tLeft-Hippocampus\",\n",
      "\"15\tLeft-Amygdala\":\"15\tLeft-Amygdala\",\n",
      "\"16\tCSF\":\"16\tCSF\",\n",
      "\"17\tLeft-Accumbens-area\":\"17\tLeft-Accumbens-area\",\n",
      "\"18\tLeft-VentralDC\":\"18\tLeft-VentralDC\",\n",
      "\"19\tLeft-vessel\":\"19\tLeft-vessel\",\n",
      "\"20\tLeft-choroid-plexus\":\"20\tLeft-choroid-plexus\",\n",
      "\"21\tRight-Cerebral-White-Matter\":\"21\tRight-Cerebral-White-Matter\",\n",
      "\"22\tRight-Cerebral-Cortex\":\"22\tRight-Cerebral-Cortex\",\n",
      "\"23\tRight-Lateral-Ventricle\":\"23\tRight-Lateral-Ventricle\",\n",
      "\"24\tRight-Inf-Lat-Vent\":\"24\tRight-Inf-Lat-Vent\",\n",
      "\"25\tRight-Cerebellum-White-Matter\":\"25\tRight-Cerebellum-White-Matter\",\n",
      "\"26\tRight-Cerebellum-Cortex\":\"26\tRight-Cerebellum-Cortex\",\n",
      "\"27\tRight-Thalamus-Proper\":\"27\tRight-Thalamus-Proper\",\n",
      "\"28\tRight-Caudate\":\"28\tRight-Caudate\",\n",
      "\"29\tRight-Putamen\":\"29\tRight-Putamen\",\n",
      "\"30\tRight-Pallidum\":\"30\tRight-Pallidum\",\n",
      "\"31\tRight-Hippocampus\":\"31\tRight-Hippocampus\",\n",
      "\"32\tRight-Amygdala\":\"32\tRight-Amygdala\",\n",
      "\"33\tRight-Accumbens-area\":\"33\tRight-Accumbens-area\",\n",
      "\"34\tRight-VentralDC\":\"34\tRight-VentralDC\",\n",
      "\"35\tRight-vessel\":\"35\tRight-vessel\",\n",
      "\"36\tRight-choroid-plexus\":\"36\tRight-choroid-plexus\",\n",
      "\"37\tWM-hypointensities\":\"37\tWM-hypointensities\",\n",
      "\"38\tnon-WM-hypointensities\":\"38\tnon-WM-hypointensities\",\n",
      "\"39\tOptic-Chiasm\":\"39\tOptic-Chiasm\",\n",
      "\"40\tCC_Posterior\":\"40\tCC_Posterior\",\n",
      "\"41\tCC_Mid_Posterior\":\"41\tCC_Mid_Posterior\",\n",
      "\"42\tCC_Central\":\"42\tCC_Central\",\n",
      "\"43\tCC_Mid_Anterior\":\"43\tCC_Mid_Anterior\",\n",
      "\"44\tCC_Anterior\":\"44\tCC_Anterior\",\n",
      "\n"
     ]
    }
   ],
   "source": [
    "aneurysm_path = \"./label.txt\"\n",
    "with open(aneurysm_path) as f:\n",
    "    class_names = f.readlines()# 全部读取最后返回一个列表存所有的类,每行后面都会带有“\\n”\n",
    "    aneurysm_path = [c.strip() for c in class_names]# 采用strip（）方法可以去掉最后的“\\n”\n",
    "    print (type(aneurysm_path))\n",
    "    print (len(aneurysm_path))\n",
    "    f.close()\n",
    "json_txt = ''\n",
    "for line in aneurysm_path:\n",
    "    label_id = line.split('       ')[0]\n",
    "    label_class = line.split('       ')[-1]\n",
    "    \n",
    "    line = '\"'+str(label_id)+'\":'+ '\"'+label_class+'\",\\n'\n",
    "    json_txt+=line\n",
    "print (json_txt)"
   ]
  },
  {
   "cell_type": "code",
   "execution_count": null,
   "metadata": {},
   "outputs": [],
   "source": []
  }
 ],
 "metadata": {
  "kernelspec": {
   "display_name": "Python 3",
   "language": "python",
   "name": "python3"
  },
  "language_info": {
   "codemirror_mode": {
    "name": "ipython",
    "version": 3
   },
   "file_extension": ".py",
   "mimetype": "text/x-python",
   "name": "python",
   "nbconvert_exporter": "python",
   "pygments_lexer": "ipython3",
   "version": "3.8.3"
  }
 },
 "nbformat": 4,
 "nbformat_minor": 4
}
