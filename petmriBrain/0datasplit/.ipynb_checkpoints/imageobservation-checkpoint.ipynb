{
 "cells": [
  {
   "cell_type": "code",
   "execution_count": 21,
   "metadata": {},
   "outputs": [],
   "source": [
    "import os,glob\n",
    "import numpy as np\n",
    "import SimpleITK as sitk\n",
    "import operator"
   ]
  },
  {
   "cell_type": "code",
   "execution_count": 8,
   "metadata": {},
   "outputs": [],
   "source": [
    "name = '002.nii.gz'\n",
    "data_file = 'F:/data/petmrBrain'"
   ]
  },
  {
   "cell_type": "code",
   "execution_count": 9,
   "metadata": {},
   "outputs": [],
   "source": [
    "pet_itk = sitk.ReadImage(os.path.join(data_file,'raw_pet','pet_'+name))\n",
    "mri_itk = sitk.ReadImage(os.path.join(data_file,'raw_mri','mri_'+name))\n",
    "mask_itk = sitk.ReadImage(os.path.join(data_file,'raw_mask','mask_'+name))"
   ]
  },
  {
   "cell_type": "code",
   "execution_count": 32,
   "metadata": {},
   "outputs": [],
   "source": [
    "def get_itk_info(data_itk)\n",
    "    original_size_of_raw_data = np.array(data_itk.GetSize())[[2, 1, 0]]\n",
    "    original_spacing = np.array(data_itk.GetSpacing())[[2, 1, 0]]\n",
    "    itk_origin = data_itk.GetOrigin()\n",
    "    itk_spacing = data_itk.GetSpacing()\n",
    "    itk_direction = data_itk.GetDirection()\n",
    "    print ('original_size_of_raw_data: ',original_size_of_raw_data)\n",
    "    print ('original_spacing: ',original_spacing)\n",
    "    print ('itk_origin: ',itk_origin)\n",
    "    print ('itk_spacing: ',itk_spacing)\n",
    "    print ('itk_direction: ',itk_direction)\n",
    "    "
   ]
  },
  {
   "cell_type": "code",
   "execution_count": 34,
   "metadata": {},
   "outputs": [
    {
     "name": "stdout",
     "output_type": "stream",
     "text": [
      "pet info: [array([-123.610054,  123.54262 ,  127.677216], dtype=float32), array([1, 1, 1]), array([ 1,  0,  0,  0,  0, -1,  0, -1,  0])]\n",
      "mri_itk_info: [array([-123.610054,  123.54262 ,  127.677216], dtype=float32), array([1, 1, 1]), array([ 1,  0,  0,  0,  0, -1,  0, -1,  0])]\n",
      "mask_itk_info: [array([-123.610054,  123.54262 ,  127.677216], dtype=float32), array([0, 0, 0]), array([ 1,  0,  0,  0,  0, -1,  0, -1,  0])]\n"
     ]
    }
   ],
   "source": [
    "get_itk_info(pet_itk)"
   ]
  },
  {
   "cell_type": "code",
   "execution_count": null,
   "metadata": {},
   "outputs": [],
   "source": [
    "get_itk_info(mri_itk)"
   ]
  },
  {
   "cell_type": "code",
   "execution_count": null,
   "metadata": {},
   "outputs": [],
   "source": [
    "get_itk_info(mask_itk)"
   ]
  },
  {
   "cell_type": "code",
   "execution_count": 35,
   "metadata": {},
   "outputs": [
    {
     "ename": "ValueError",
     "evalue": "The truth value of an array with more than one element is ambiguous. Use a.any() or a.all()",
     "output_type": "error",
     "traceback": [
      "\u001b[1;31m---------------------------------------------------------------------------\u001b[0m",
      "\u001b[1;31mValueError\u001b[0m                                Traceback (most recent call last)",
      "Input \u001b[1;32mIn [35]\u001b[0m, in \u001b[0;36m<cell line: 1>\u001b[1;34m()\u001b[0m\n\u001b[1;32m----> 1\u001b[0m (\u001b[43mpet_itk_info\u001b[49m\u001b[43m \u001b[49m\u001b[38;5;241;43m==\u001b[39;49m\u001b[43m \u001b[49m\u001b[43mmri_itk_info\u001b[49m)\u001b[38;5;241m.\u001b[39mall()\n",
      "\u001b[1;31mValueError\u001b[0m: The truth value of an array with more than one element is ambiguous. Use a.any() or a.all()"
     ]
    }
   ],
   "source": []
  },
  {
   "cell_type": "code",
   "execution_count": 36,
   "metadata": {},
   "outputs": [],
   "source": [
    "def check_unanimous(a,b):\n",
    "    if not len(a)==len(b):\n",
    "        return False\n",
    "    for i in range(len(a)):\n",
    "        if (a[i]==b[i]).all():\n",
    "            continue\n",
    "        else:\n",
    "            return False\n",
    "    return True"
   ]
  },
  {
   "cell_type": "code",
   "execution_count": 37,
   "metadata": {},
   "outputs": [
    {
     "data": {
      "text/plain": [
       "True"
      ]
     },
     "execution_count": 37,
     "metadata": {},
     "output_type": "execute_result"
    }
   ],
   "source": [
    "check_unanimous(pet_itk_info,mri_itk_info)"
   ]
  },
  {
   "cell_type": "code",
   "execution_count": null,
   "metadata": {},
   "outputs": [],
   "source": []
  }
 ],
 "metadata": {
  "kernelspec": {
   "display_name": "Python 3",
   "language": "python",
   "name": "python3"
  },
  "language_info": {
   "codemirror_mode": {
    "name": "ipython",
    "version": 3
   },
   "file_extension": ".py",
   "mimetype": "text/x-python",
   "name": "python",
   "nbconvert_exporter": "python",
   "pygments_lexer": "ipython3",
   "version": "3.8.3"
  }
 },
 "nbformat": 4,
 "nbformat_minor": 4
}
