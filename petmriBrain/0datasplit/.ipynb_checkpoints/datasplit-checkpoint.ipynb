{
 "cells": [
  {
   "cell_type": "code",
   "execution_count": 8,
   "metadata": {},
   "outputs": [
    {
     "ename": "ModuleNotFoundError",
     "evalue": "No module named 'batchgenerators'",
     "output_type": "error",
     "traceback": [
      "\u001b[1;31m---------------------------------------------------------------------------\u001b[0m",
      "\u001b[1;31mModuleNotFoundError\u001b[0m                       Traceback (most recent call last)",
      "Input \u001b[1;32mIn [8]\u001b[0m, in \u001b[0;36m<cell line: 9>\u001b[1;34m()\u001b[0m\n\u001b[0;32m      7\u001b[0m \u001b[38;5;28;01mfrom\u001b[39;00m \u001b[38;5;21;01mutils\u001b[39;00m \u001b[38;5;28;01mimport\u001b[39;00m \u001b[38;5;241m*\u001b[39m\n\u001b[0;32m      8\u001b[0m \u001b[38;5;28;01mimport\u001b[39;00m \u001b[38;5;21;01moperator\u001b[39;00m\n\u001b[1;32m----> 9\u001b[0m \u001b[38;5;28;01mfrom\u001b[39;00m \u001b[38;5;21;01mbatchgenerators\u001b[39;00m\u001b[38;5;21;01m.\u001b[39;00m\u001b[38;5;21;01mutilities\u001b[39;00m\u001b[38;5;21;01m.\u001b[39;00m\u001b[38;5;21;01mfile_and_folder_operations\u001b[39;00m \u001b[38;5;28;01mimport\u001b[39;00m \u001b[38;5;241m*\u001b[39m\n",
      "\u001b[1;31mModuleNotFoundError\u001b[0m: No module named 'batchgenerators'"
     ]
    }
   ],
   "source": [
    "import os,glob\n",
    "import numpy as np\n",
    "import SimpleITK as sitk\n",
    "from math import fabs, copysign\n",
    "from collections import OrderedDict\n",
    "import shutil\n",
    "from utils import *\n",
    "import operator"
   ]
  },
  {
   "cell_type": "code",
   "execution_count": 2,
   "metadata": {},
   "outputs": [],
   "source": [
    "data_file = 'F:/data/petmrBrain'"
   ]
  },
  {
   "cell_type": "code",
   "execution_count": 3,
   "metadata": {},
   "outputs": [
    {
     "name": "stdout",
     "output_type": "stream",
     "text": [
      "120\n",
      "mask_002.nii.gz\n",
      "120\n",
      "002.nii.gz\n"
     ]
    }
   ],
   "source": [
    "data_list = sorted(os.listdir(os.path.join(data_file,'raw_mask')))\n",
    "print (len(data_list))\n",
    "print (data_list[0])\n",
    "name_list = [name.split('_')[-1] for name in data_list]\n",
    "print (len(name_list))\n",
    "print (name_list[0])"
   ]
  },
  {
   "cell_type": "code",
   "execution_count": 6,
   "metadata": {},
   "outputs": [],
   "source": [
    "def generate_datainfo_csv(name,ppty):\n",
    " \n",
    "    #name_attribute = ['id','class_num','size','ori_spacing','origin','spacing','direction','class']\n",
    "\n",
    "    img = dict()\n",
    "    img['id'] = name\n",
    "    \n",
    "    img['class_num'] = ppty['class_num']\n",
    "    img[\"size\"] = ppty['original_size_of_raw_data']\n",
    "    img[\"ori_spacing\"] = ppty['original_spacing']\n",
    "    img['origin'] = ppty['itk_origin']\n",
    "    img['spacing'] = ppty['itk_spacing']\n",
    "    img['direction'] = ppty['itk_direction']\n",
    "    img['class'] = ppty['class']\n",
    "    \n",
    "    return img"
   ]
  },
  {
   "cell_type": "code",
   "execution_count": null,
   "metadata": {},
   "outputs": [],
   "source": [
    "def generate_datainfo_pkl(name,data_file,pet,mri,mask,class_num):\n",
    "\n",
    "    property = OrderedDict()\n",
    "    property['id'] = name\n",
    "    \n",
    "    property['ori_pet'] = os.path.join(data_file,'raw_pet','pet_'+ name+'.nii.gz')\n",
    "    property['ori_mri'] = os.path.join(data_file,'raw_mri','mri_'+ name+'.nii.gz')\n",
    "    property['ori_mask'] = os.path.join(data_file,'raw_mask','mask_'+ name+'.nii.gz')\n",
    "    \n",
    "    property['class_num'] = len(class_num)\n",
    "    property['class'] = class_num\n",
    "    \n",
    "    property[\"original_size_of_raw_data\"] = np.array(pet.GetSize())[[2, 1, 0]]\n",
    "    property[\"original_spacing\"] = np.array(pet.GetSpacing())[[2, 1, 0]]\n",
    "    property[\"itk_origin\"] = pet.GetOrigin()\n",
    "    property[\"itk_spacing\"] = pet.GetSpacing()\n",
    "    property[\"itk_direction\"] = pet.GetDirection()\n",
    "    \n",
    "    return property"
   ]
  },
  {
   "cell_type": "code",
   "execution_count": 7,
   "metadata": {},
   "outputs": [
    {
     "name": "stdout",
     "output_type": "stream",
     "text": [
      "--------------002--------------\n",
      "pet info: [array([-123.610054,  123.54262 ,  127.677216], dtype=float32), array([1, 1, 1]), array([ 1,  0,  0,  0,  0, -1,  0, -1,  0])]\n",
      "mri_itk_info: [array([-123.610054,  123.54262 ,  127.677216], dtype=float32), array([1, 1, 1]), array([ 1,  0,  0,  0,  0, -1,  0, -1,  0])]\n",
      "mask_itk_info: [array([-123.610054,  123.54262 ,  127.677216], dtype=float32), array([0, 0, 0]), array([ 1,  0,  0,  0,  0, -1,  0, -1,  0])]\n"
     ]
    },
    {
     "ename": "AssertionError",
     "evalue": "",
     "output_type": "error",
     "traceback": [
      "\u001b[1;31m---------------------------------------------------------------------------\u001b[0m",
      "\u001b[1;31mAssertionError\u001b[0m                            Traceback (most recent call last)",
      "Input \u001b[1;32mIn [7]\u001b[0m, in \u001b[0;36m<cell line: 3>\u001b[1;34m()\u001b[0m\n\u001b[0;32m     10\u001b[0m mask_np \u001b[38;5;241m=\u001b[39m sitk\u001b[38;5;241m.\u001b[39mGetArrayFromImage(mask_itk)\u001b[38;5;241m.\u001b[39mastype(np\u001b[38;5;241m.\u001b[39mint32)\n\u001b[0;32m     11\u001b[0m class_num \u001b[38;5;241m=\u001b[39m np\u001b[38;5;241m.\u001b[39munique(mask_np)\n\u001b[1;32m---> 13\u001b[0m csv_info_list\u001b[38;5;241m.\u001b[39mappend(\u001b[43mgenerate_datainfo_csv\u001b[49m\u001b[43m(\u001b[49m\u001b[43mname\u001b[49m\u001b[43m,\u001b[49m\u001b[43mpet_itk\u001b[49m\u001b[43m,\u001b[49m\u001b[43mmri_itk\u001b[49m\u001b[43m,\u001b[49m\u001b[43mmask_itk\u001b[49m\u001b[43m,\u001b[49m\u001b[43mclass_num\u001b[49m\u001b[43m)\u001b[49m)\n",
      "Input \u001b[1;32mIn [6]\u001b[0m, in \u001b[0;36mgenerate_datainfo_csv\u001b[1;34m(name, pet, mri, mask, class_num)\u001b[0m\n\u001b[0;32m     15\u001b[0m \u001b[38;5;28mprint\u001b[39m (\u001b[38;5;124m'\u001b[39m\u001b[38;5;124mmask_itk_info:\u001b[39m\u001b[38;5;124m'\u001b[39m,mask_itk_info)\n\u001b[0;32m     17\u001b[0m \u001b[38;5;28;01massert\u001b[39;00m check_unanimous(pet_itk_info,mri_itk_info)\n\u001b[1;32m---> 18\u001b[0m \u001b[38;5;28;01massert\u001b[39;00m check_unanimous(pet_itk_info,mask_itk_info)\n\u001b[0;32m     20\u001b[0m img[\u001b[38;5;124m'\u001b[39m\u001b[38;5;124mclass_num\u001b[39m\u001b[38;5;124m'\u001b[39m] \u001b[38;5;241m=\u001b[39m \u001b[38;5;28mlen\u001b[39m(class_num)\n\u001b[0;32m     22\u001b[0m img[\u001b[38;5;124m\"\u001b[39m\u001b[38;5;124msize\u001b[39m\u001b[38;5;124m\"\u001b[39m] \u001b[38;5;241m=\u001b[39m np\u001b[38;5;241m.\u001b[39marray(mask\u001b[38;5;241m.\u001b[39mGetSize())[[\u001b[38;5;241m2\u001b[39m, \u001b[38;5;241m1\u001b[39m, \u001b[38;5;241m0\u001b[39m]]\n",
      "\u001b[1;31mAssertionError\u001b[0m: "
     ]
    }
   ],
   "source": [
    "csv_info_list = []\n",
    "all_properties = OrderedDict()\n",
    "\n",
    "for file_name in name_list:\n",
    "    name = file_name.split('.')[0]\n",
    "    #print ('name:',name)\n",
    "    pet_itk = sitk.ReadImage(os.path.join(data_file,'raw_pet','pet_'+file_name))\n",
    "    mri_itk = sitk.ReadImage(os.path.join(data_file,'raw_mri','mri_'+file_name))\n",
    "    mask_itk = sitk.ReadImage(os.path.join(data_file,'raw_mask','mask_'+file_name))\n",
    "    \n",
    "    mask_np = sitk.GetArrayFromImage(mask_itk).astype(np.int32)\n",
    "    class_num = np.unique(mask_np)\n",
    "    \n",
    "    # pkl\n",
    "    properti = generate_datainfo_pkl(name,data_file,pet_itk,mri_itk,mask_itk,class_num)\n",
    "    all_properties[name] = properti\n",
    "    \n",
    "    #csv\n",
    "    csv_info_list.append(generate_datainfo_csv(name,properti))\n",
    "    "
   ]
  },
  {
   "cell_type": "code",
   "execution_count": null,
   "metadata": {},
   "outputs": [],
   "source": [
    "name_attribute = ['id','class_num','size','ori_spacing','origin','spacing','direction','class']\n",
    "save_csv(csv_info_list,'pet_mri_Brain_info.csv',name_attribute)"
   ]
  },
  {
   "cell_type": "code",
   "execution_count": null,
   "metadata": {},
   "outputs": [],
   "source": [
    "save_pickle(all_properties,'pet_mri_Brain_info.pkl')"
   ]
  }
 ],
 "metadata": {
  "kernelspec": {
   "display_name": "Python 3",
   "language": "python",
   "name": "python3"
  },
  "language_info": {
   "codemirror_mode": {
    "name": "ipython",
    "version": 3
   },
   "file_extension": ".py",
   "mimetype": "text/x-python",
   "name": "python",
   "nbconvert_exporter": "python",
   "pygments_lexer": "ipython3",
   "version": "3.8.3"
  }
 },
 "nbformat": 4,
 "nbformat_minor": 4
}
