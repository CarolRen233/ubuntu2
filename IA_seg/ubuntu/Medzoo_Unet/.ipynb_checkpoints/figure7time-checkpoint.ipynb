{
 "cells": [
  {
   "cell_type": "code",
   "execution_count": null,
   "metadata": {},
   "outputs": [],
   "source": [
    "import os\n",
    "import glob\n",
    "import configs\n",
    "# Lib files\n",
    "import lib.utils as utils\n",
    "import lib.medloaders as medical_loaders\n",
    "from lib.medloaders import medical_image_process as img_loader\n",
    "import lib.medzoo as medzoo\n",
    "from lib.losses3D import DiceLoss\n",
    "from lib.visual3D_temp import viz\n",
    "import datetime\n"
   ]
  },
  {
   "cell_type": "code",
   "execution_count": null,
   "metadata": {},
   "outputs": [],
   "source": [
    "save = 'F:/codes/ubuntu/Medzoo_Unet/output/XJ18'\n",
    "time_txt = os.path.join(save,'time_spend.txt')"
   ]
  },
  {
   "cell_type": "code",
   "execution_count": null,
   "metadata": {},
   "outputs": [],
   "source": [
    "seed = 1777777\n",
    "utils.reproducibility(args, seed)"
   ]
  }
 ],
 "metadata": {
  "kernelspec": {
   "display_name": "Python 3",
   "language": "python",
   "name": "python3"
  },
  "language_info": {
   "codemirror_mode": {
    "name": "ipython",
    "version": 3
   },
   "file_extension": ".py",
   "mimetype": "text/x-python",
   "name": "python",
   "nbconvert_exporter": "python",
   "pygments_lexer": "ipython3",
   "version": "3.8.3"
  }
 },
 "nbformat": 4,
 "nbformat_minor": 4
}
