{
 "cells": [
  {
   "cell_type": "markdown",
   "metadata": {},
   "source": [
    "生成glia-net所用的数据csv"
   ]
  },
  {
   "cell_type": "code",
   "execution_count": 2,
   "metadata": {},
   "outputs": [],
   "source": [
    "import csv\n",
    "import os,glob\n",
    "import nibabel as nib\n",
    "import random"
   ]
  },
  {
   "cell_type": "markdown",
   "metadata": {},
   "source": [
    "修改csv的名字"
   ]
  },
  {
   "cell_type": "code",
   "execution_count": 3,
   "metadata": {},
   "outputs": [],
   "source": [
    "csv_path = 'F:/data/Medzoo_code_use_data/IACTA/aneurysm_seg_cross.csv'"
   ]
  },
  {
   "cell_type": "markdown",
   "metadata": {},
   "source": [
    "确保测试图都是有brain坐标的"
   ]
  },
  {
   "cell_type": "code",
   "execution_count": 4,
   "metadata": {},
   "outputs": [
    {
     "name": "stdout",
     "output_type": "stream",
     "text": [
      "475\n",
      "['298447_cta.nii', '125', '98', '249', '399', '423', '567']\n"
     ]
    }
   ],
   "source": [
    "brain_file = '/data/Medzoo_code_use_data/IACTA/brain_coords.txt'\n",
    "brain_data = []\n",
    "with open(brain_file) as f:\n",
    "    for line in f.readlines():\n",
    "        temp = line.split()\n",
    "        brain_data.append(temp)\n",
    "print (len(brain_data))\n",
    "print (brain_data[0])"
   ]
  },
  {
   "cell_type": "code",
   "execution_count": 5,
   "metadata": {},
   "outputs": [
    {
     "name": "stdout",
     "output_type": "stream",
     "text": [
      "475\n"
     ]
    }
   ],
   "source": [
    "brain_ids = []\n",
    "for brain in brain_data:\n",
    "    brain_ids.append(brain[0][:-8])\n",
    "print (len(brain_ids))"
   ]
  },
  {
   "cell_type": "code",
   "execution_count": 8,
   "metadata": {},
   "outputs": [
    {
     "name": "stdout",
     "output_type": "stream",
     "text": [
      "566\n",
      "F:/data/Medzoo_code_use_data/IACTA/cta_img\\0813_cta.nii.gz\n"
     ]
    }
   ],
   "source": [
    "cta_list = sorted(glob.glob(os.path.join('F:/data/Medzoo_code_use_data/IACTA/cta_img','*_cta.nii.gz')))\n",
    "seg_list = sorted(glob.glob(os.path.join('F:/data/Medzoo_code_use_data/IACTA/ane_seg','*_seg.nii.gz')))\n",
    "\n",
    "assert len(cta_list)==len(seg_list)\n",
    "print (len(cta_list))\n",
    "\n",
    "print (cta_list[0])\n",
    "    \n"
   ]
  },
  {
   "cell_type": "code",
   "execution_count": 11,
   "metadata": {},
   "outputs": [
    {
     "name": "stdout",
     "output_type": "stream",
     "text": [
      "475\n"
     ]
    }
   ],
   "source": [
    "\n",
    "with_brain_cta_list = []\n",
    "for cta in cta_list:\n",
    "    cta_id = os.path.basename(cta)[:-11]\n",
    "    #print (cta_id)\n",
    "    if cta_id in brain_ids:\n",
    "        with_brain_cta_list.append(cta)\n",
    "print (len(with_brain_cta_list))"
   ]
  },
  {
   "cell_type": "code",
   "execution_count": 12,
   "metadata": {},
   "outputs": [
    {
     "name": "stdout",
     "output_type": "stream",
     "text": [
      "66\n"
     ]
    }
   ],
   "source": [
    "\n",
    "random.seed(7)\n",
    "test_eval_index = random.sample(range(len(with_brain_cta_list)), 66)\n",
    "test_index = test_eval_index[:66]\n",
    "#eval_index = test_eval_index[66:]\n",
    "\n",
    "print (len(test_index))\n",
    "#print (len(eval_index))"
   ]
  },
  {
   "cell_type": "code",
   "execution_count": 13,
   "metadata": {},
   "outputs": [
    {
     "name": "stdout",
     "output_type": "stream",
     "text": [
      "566\n"
     ]
    }
   ],
   "source": [
    "csv_rows = []  \n",
    "for i, cta in enumerate(cta_list):\n",
    "    #cta_nii = nib.load(cta) \n",
    "    #cta_data = cta_nii.get_fdata()\n",
    "\n",
    "    #seg_nii = nib.load(seg_list[i]) \n",
    "    #seg_data = seg_nii.get_fdata()\n",
    "\n",
    "    #assert cta_data.shape==seg_data.shape\n",
    "\n",
    "    if i in test_index:\n",
    "        csv_subset = 'test'\n",
    "    #elif i in eval_index:\n",
    "        #csv_subset = 'eval'\n",
    "    else:\n",
    "        csv_subset = 'train'\n",
    "\n",
    "    ctaID = os.path.basename(cta)[:-11]\n",
    "    segID = os.path.basename(seg_list[i])[:-11]\n",
    "\n",
    "    assert ctaID == segID \n",
    "\n",
    "    csv_id = ctaID\n",
    "\n",
    "    csv_cta_img_file = 'cta_img/' + os.path.basename(cta)\n",
    "    csv_aneurysm_seg_file = 'ane_seg/' + os.path.basename(seg_list[i])\n",
    "    \n",
    "    csv_rows.append([csv_subset, csv_id, '', csv_cta_img_file, csv_aneurysm_seg_file])\n",
    "    #print ([csv_subset, csv_id, '', csv_cta_img_file, csv_aneurysm_seg_file])\n",
    "    \n",
    "\n",
    "print (len(csv_rows))\n",
    "        "
   ]
  },
  {
   "cell_type": "code",
   "execution_count": 14,
   "metadata": {},
   "outputs": [
    {
     "name": "stdout",
     "output_type": "stream",
     "text": [
      "done!\n"
     ]
    }
   ],
   "source": [
    "with open(csv_path, mode='w') as file:\n",
    "    writer = csv.writer(file, delimiter=',', quotechar='\"', quoting=csv.QUOTE_MINIMAL)\n",
    "\n",
    "    writer.writerow(['subset',\t'id',\t'hospital',\t'cta_img_file',\t'aneurysm_seg_file'])\n",
    "    \n",
    "    for row in csv_rows:\n",
    "        \n",
    "        writer.writerow(row)\n",
    "print ('done!')"
   ]
  },
  {
   "cell_type": "code",
   "execution_count": null,
   "metadata": {},
   "outputs": [],
   "source": []
  }
 ],
 "metadata": {
  "kernelspec": {
   "display_name": "Python 3 (ipykernel)",
   "language": "python",
   "name": "python3"
  },
  "language_info": {
   "codemirror_mode": {
    "name": "ipython",
    "version": 3
   },
   "file_extension": ".py",
   "mimetype": "text/x-python",
   "name": "python",
   "nbconvert_exporter": "python",
   "pygments_lexer": "ipython3",
   "version": "3.7.11"
  }
 },
 "nbformat": 4,
 "nbformat_minor": 4
}
