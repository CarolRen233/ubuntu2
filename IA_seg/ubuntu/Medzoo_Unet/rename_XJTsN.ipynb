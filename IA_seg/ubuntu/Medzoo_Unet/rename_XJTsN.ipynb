{
 "cells": [
  {
   "cell_type": "code",
   "execution_count": 1,
   "metadata": {},
   "outputs": [],
   "source": [
    "import os,glob\n",
    "import shutil\n"
   ]
  },
  {
   "cell_type": "code",
   "execution_count": null,
   "metadata": {},
   "outputs": [],
   "source": []
  },
  {
   "cell_type": "code",
   "execution_count": 4,
   "metadata": {},
   "outputs": [],
   "source": []
  },
  {
   "cell_type": "code",
   "execution_count": 2,
   "metadata": {},
   "outputs": [
    {
     "name": "stdout",
     "output_type": "stream",
     "text": [
      "500\n",
      "['XJTr0495', 'XJTr0496', 'XJTr0497', 'XJTr0498', 'XJTr0499']\n",
      "66\n",
      "['XJTs0061', 'XJTs0062', 'XJTs0063', 'XJTs0064', 'XJTs0065']\n"
     ]
    }
   ],
   "source": [
    "XJTr_list = []\n",
    "for i in range(500):\n",
    "    num = str(i).zfill(4)\n",
    "    new_name = 'XJTr'+num\n",
    "    XJTr_list.append(new_name)\n",
    "print (len(XJTr_list))\n",
    "print (XJTr_list[-5:])\n",
    "\n",
    "\n",
    "XJTs_list = []\n",
    "for i in range(66):\n",
    "    num = str(i).zfill(4)\n",
    "    new_name = 'XJTs'+num\n",
    "    XJTs_list.append(new_name)\n",
    "print (len(XJTs_list))\n",
    "print (XJTs_list[-5:])"
   ]
  },
  {
   "cell_type": "code",
   "execution_count": 3,
   "metadata": {},
   "outputs": [],
   "source": [
    "txt_list = []\n",
    "for i,name in enumerate(XJTr_list):\n",
    "    \n",
    "    new_name = 'XJTsN' + str(i+66).zfill(4)\n",
    "    txt_list.append(new_name+' ' + name)\n"
   ]
  },
  {
   "cell_type": "code",
   "execution_count": 4,
   "metadata": {},
   "outputs": [],
   "source": [
    "for i,name in enumerate(XJTs_list):\n",
    "    \n",
    "    new_name = 'XJTsN' + str(i).zfill(4)\n",
    "    txt_list.append(new_name+' ' + name)\n",
    "    "
   ]
  },
  {
   "cell_type": "code",
   "execution_count": 6,
   "metadata": {},
   "outputs": [],
   "source": [
    "txtName = \"rename.txt\"\n",
    "\n",
    "f=open(txtName, \"a+\")\n",
    "for i in txt_list:\n",
    "    new_context = i + '\\n'\n",
    "    f.write(new_context)\n",
    "f.close()"
   ]
  },
  {
   "cell_type": "code",
   "execution_count": null,
   "metadata": {},
   "outputs": [],
   "source": []
  },
  {
   "cell_type": "code",
   "execution_count": 9,
   "metadata": {},
   "outputs": [],
   "source": [
    "def rename_file_in_folder(txt_list,folder):\n",
    "    for item in txt_list:\n",
    "        XJTsN_name = item.split(' ')[0]\n",
    "        XJ_name = item.split(' ')[1]\n",
    "        os.rename(os.path.join(folder,XJTsN_name+'.nii.gz'),os.path.join(folder,XJ_name+'.nii.gz'))\n",
    "    "
   ]
  },
  {
   "cell_type": "code",
   "execution_count": 11,
   "metadata": {},
   "outputs": [],
   "source": [
    "rename_file_in_folder(txt_list,'/home/ubuntu/codes/MyMedicalZoo/output/XJTsN/_headcut_refined')"
   ]
  },
  {
   "cell_type": "code",
   "execution_count": null,
   "metadata": {},
   "outputs": [],
   "source": []
  }
 ],
 "metadata": {
  "kernelspec": {
   "display_name": "medzoo",
   "language": "python",
   "name": "medzoo"
  },
  "language_info": {
   "codemirror_mode": {
    "name": "ipython",
    "version": 3
   },
   "file_extension": ".py",
   "mimetype": "text/x-python",
   "name": "python",
   "nbconvert_exporter": "python",
   "pygments_lexer": "ipython3",
   "version": "3.7.11"
  }
 },
 "nbformat": 4,
 "nbformat_minor": 2
}
