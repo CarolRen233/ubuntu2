{
 "cells": [
  {
   "cell_type": "code",
   "execution_count": 27,
   "metadata": {},
   "outputs": [],
   "source": [
    "import pprint, pickle\n",
    "\n",
    "\n",
    "pkl_file = open('just_head_properties.pkl', 'rb')\n",
    "data1 = pickle.load(pkl_file)\n",
    "#pprint.pprint(data1)\n",
    "pkl_file.close()\n",
    "\n"
   ]
  },
  {
   "cell_type": "code",
   "execution_count": 28,
   "metadata": {},
   "outputs": [
    {
     "data": {
      "text/plain": [
       "1.5"
      ]
     },
     "execution_count": 28,
     "metadata": {},
     "output_type": "execute_result"
    }
   ],
   "source": [
    "3/2\n"
   ]
  },
  {
   "cell_type": "code",
   "execution_count": 34,
   "metadata": {},
   "outputs": [
    {
     "name": "stdout",
     "output_type": "stream",
     "text": [
      "0.3357301908271243\n",
      "145227776.0\n",
      "42685241.755813956\n"
     ]
    }
   ],
   "source": [
    "import numpy as np\n",
    "\n",
    "ratio = []\n",
    "before = []\n",
    "after = []\n",
    "\n",
    "for key in data1:\n",
    "    #print (key)\n",
    "    try:\n",
    "        before_size = np.prod(np.array(data1[key]['before_size']))\n",
    "        after_size = np.prod(np.array(data1[key]['after_size']))\n",
    "        before.append(before_size)\n",
    "        after.append(after_size)\n",
    "        #print (after_size/before_size)\n",
    "        ratio.append(after_size/before_size)\n",
    "        \n",
    "    except:\n",
    "        continue\n",
    "    \n",
    "print (np.mean(ratio))\n",
    "print (np.mean(before))\n",
    "print (np.mean(after))"
   ]
  },
  {
   "cell_type": "code",
   "execution_count": 37,
   "metadata": {},
   "outputs": [
    {
     "name": "stdout",
     "output_type": "stream",
     "text": [
      "349.48288533421464\n"
     ]
    }
   ],
   "source": [
    "from math import fabs, copysign\n",
    "x = 42685241\n",
    "y = copysign(fabs(x) ** (1 / 3), x)\n",
    "print (y)"
   ]
  },
  {
   "cell_type": "code",
   "execution_count": null,
   "metadata": {},
   "outputs": [],
   "source": []
  }
 ],
 "metadata": {
  "kernelspec": {
   "display_name": "Python 3",
   "language": "python",
   "name": "python3"
  },
  "language_info": {
   "codemirror_mode": {
    "name": "ipython",
    "version": 3
   },
   "file_extension": ".py",
   "mimetype": "text/x-python",
   "name": "python",
   "nbconvert_exporter": "python",
   "pygments_lexer": "ipython3",
   "version": "3.8.3"
  }
 },
 "nbformat": 4,
 "nbformat_minor": 4
}
