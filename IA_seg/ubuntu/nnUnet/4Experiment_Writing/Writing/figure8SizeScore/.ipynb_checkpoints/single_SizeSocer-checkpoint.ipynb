{
 "cells": [
  {
   "cell_type": "code",
   "execution_count": 2,
   "metadata": {},
   "outputs": [
    {
     "name": "stdout",
     "output_type": "stream",
     "text": [
      "Collecting SimpleITK==2.0.2\n",
      "  Downloading SimpleITK-2.0.2-cp38-cp38-win_amd64.whl (25.6 MB)\n",
      "Installing collected packages: SimpleITK\n",
      "Successfully installed SimpleITK-2.0.2\n"
     ]
    }
   ],
   "source": [
    "#!pip install SimpleITK==2.0.2"
   ]
  },
  {
   "cell_type": "code",
   "execution_count": 16,
   "metadata": {},
   "outputs": [],
   "source": [
    "import SimpleITK as sitk\n",
    "import sys, glob, os\n",
    "import pandas as pd\n",
    "import shutil\n",
    "import pprint, pickle\n",
    "import numpy as np\n",
    "from skimage import measure\n",
    "import math\n",
    "from skimage.measure import regionprops"
   ]
  },
  {
   "cell_type": "raw",
   "metadata": {},
   "source": [
    "int(((4/3)*(math.pi)*((5/2)**3)))"
   ]
  },
  {
   "cell_type": "code",
   "execution_count": 21,
   "metadata": {},
   "outputs": [],
   "source": [
    "prediction = 'F:/codes/ubuntu/nnUnet/3nnUnet/nnUNet_output/nnUNet_trained_models/nnUNet/3d_fullres/Task152_CellPress110/nnUNetTrainerV2__nnUNetPlansv2.1/fold_0/Task171_XJallTest/full/XJTr0001_full.nii.gz'\n",
    "property_file = 'F:/codes/ubuntu/nnUnet/file/after_headcut_properties_XJdata.pkl'"
   ]
  },
  {
   "cell_type": "code",
   "execution_count": 7,
   "metadata": {},
   "outputs": [],
   "source": [
    "def save_itk_from_numpy(numpy_data, property):\n",
    "\n",
    "    pred_itk_image = sitk.GetImageFromArray(numpy_data)\n",
    "    pred_itk_image.SetSpacing(property[\"itk_spacing\"])\n",
    "    pred_itk_image.SetOrigin(property[\"itk_origin\"])\n",
    "\n",
    "    return pred_itk_image"
   ]
  },
  {
   "cell_type": "code",
   "execution_count": 12,
   "metadata": {},
   "outputs": [],
   "source": [
    "def compt_real_size(original_spacing):\n",
    "    space_prod = np.prod(original_spacing)\n",
    "    small_voxels = int(((4/3)*(math.pi)*((5/2)**3))/space_prod)\n",
    "    middle_voxels = int(((4/3)*(math.pi)*((15/2)**3))/space_prod)\n",
    "    return small_voxels,middle_voxels"
   ]
  },
  {
   "cell_type": "code",
   "execution_count": 9,
   "metadata": {},
   "outputs": [],
   "source": [
    "def generate_datainfo_csv(name,small_IAs_num,middle_IAs_num,large_IAs_num):\n",
    " \n",
    "    #name_attribute = ['id','small_IAs_num','middle_IAs_num','large_IAs_num']\n",
    "    \n",
    "    img = dict()\n",
    "    img['id'] = name\n",
    "    img['small_IAs_num'] = small_IAs_num\n",
    "    img['middle_IAs_num'] = middle_IAs_num\n",
    "    img['large_IAs_num'] = large_IAs_num\n",
    "    \n",
    "    return img"
   ]
  },
  {
   "cell_type": "raw",
   "metadata": {},
   "source": [
    "maybe_create_path(os.path.join(ori_folder,'small'))\n",
    "maybe_create_path(os.path.join(ori_folder,'middle'))\n",
    "maybe_create_path(os.path.join(ori_folder,'large'))"
   ]
  },
  {
   "cell_type": "code",
   "execution_count": 6,
   "metadata": {},
   "outputs": [],
   "source": [
    "pkl_file = open(property_file, 'rb')\n",
    "propertes = pickle.load(pkl_file)"
   ]
  },
  {
   "cell_type": "code",
   "execution_count": 22,
   "metadata": {},
   "outputs": [
    {
     "name": "stdout",
     "output_type": "stream",
     "text": [
      "1\n",
      "(array([], dtype=int64),)\n",
      "2\n",
      "(array([], dtype=int64),)\n",
      "XJTr0001_full 1 1 0\n"
     ]
    }
   ],
   "source": [
    "import random\n",
    "small_IAs_num, middle_IAs_num, large_IAs_num = 0,0,0\n",
    "\n",
    "patientID = os.path.basename(prediction)[:-7]\n",
    "\n",
    "pred_nii = sitk.ReadImage(prediction)\n",
    "pred_np = sitk.GetArrayFromImage(pred_nii).astype(np.int32)\n",
    "\n",
    "pred_bin_np = pred_np > 0\n",
    "pred_lbls_np = measure.label(pred_bin_np)\n",
    "labels = np.unique(pred_lbls_np)\n",
    "\n",
    "if len(labels) == 1 and labels[0] == 0:\n",
    "    print ('000')\n",
    "    #shutil.copyfile(prediction,os.path.join(ori_folder,'small',patientID+'.nii.gz'))\n",
    "    #shutil.copyfile(prediction,os.path.join(ori_folder,'middle',patientID+'.nii.gz'))\n",
    "    #shutil.copyfile(prediction,os.path.join(ori_folder,'large',patientID+'.nii.gz'))\n",
    "\n",
    "elif len(labels) > 1:\n",
    "    labels = labels[1:]\n",
    "\n",
    "    small_save_np = np.zeros_like(pred_lbls_np)\n",
    "    middle_save_np = np.zeros_like(pred_lbls_np)\n",
    "    large_save_np = np.zeros_like(pred_lbls_np)\n",
    "\n",
    "    small_v,middle_v = compt_real_size(propertes[patientID[:-5]]['original_spacing'])\n",
    "\n",
    "    for lbl in labels:\n",
    "        pred_lbl_np = np.zeros_like(pred_lbls_np)\n",
    "        lbl_voxels = np.sum(pred_lbls_np == lbl)\n",
    "        assert lbl_voxels > 0\n",
    "        \n",
    "        print ('\\n\\n',lbl)\n",
    "        pred_lbl_np[pred_lbls_np == lbl] = 1\n",
    "        print (np.where(pred_lbl_np == 1))\n",
    "        \n",
    "        if lbl_voxels < small_v:\n",
    "            small_save_np[pred_lbls_np == lbl] = 1\n",
    "            small_IAs_num += 1\n",
    "        elif (lbl_voxels >= small_v) and (lbl_voxels < middle_v):\n",
    "            middle_save_np[pred_lbls_np == lbl] = 1\n",
    "            middle_IAs_num += 1\n",
    "        elif lbl_voxels >= middle_v:\n",
    "            large_save_np[pred_lbls_np == lbl] = 1\n",
    "            large_IAs_num += 1\n",
    "    \n",
    "    #small_nii = save_itk_from_numpy(small_save_np, propertes[patientID])\n",
    "    #sitk.WriteImage(small_nii, os.path.join(ori_folder,'small',patientID+'.nii.gz'))\n",
    "\n",
    "    #middle_nii = save_itk_from_numpy(middle_save_np, propertes[patientID])\n",
    "    #sitk.WriteImage(middle_nii, os.path.join(ori_folder,'middle',patientID+'.nii.gz'))\n",
    "\n",
    "    #large_nii = save_itk_from_numpy(large_save_np, propertes[patientID])\n",
    "    #sitk.WriteImage(large_nii, os.path.join(ori_folder,'large',patientID+'.nii.gz'))\n",
    "    \n",
    "print (patientID,small_IAs_num, middle_IAs_num, large_IAs_num)\n",
    "        \n",
    "        "
   ]
  },
  {
   "cell_type": "code",
   "execution_count": 19,
   "metadata": {},
   "outputs": [],
   "source": [
    "name_attribute = ['id','small_IAs_num','middle_IAs_num','large_IAs_num']\n",
    "save_csv(csv_info_list,save_csv_name,name_attribute)"
   ]
  },
  {
   "cell_type": "code",
   "execution_count": null,
   "metadata": {},
   "outputs": [],
   "source": []
  }
 ],
 "metadata": {
  "kernelspec": {
   "display_name": "nnunet",
   "language": "python",
   "name": "medzoo"
  },
  "language_info": {
   "codemirror_mode": {
    "name": "ipython",
    "version": 3
   },
   "file_extension": ".py",
   "mimetype": "text/x-python",
   "name": "python",
   "nbconvert_exporter": "python",
   "pygments_lexer": "ipython3",
   "version": "3.8.3"
  }
 },
 "nbformat": 4,
 "nbformat_minor": 4
}
