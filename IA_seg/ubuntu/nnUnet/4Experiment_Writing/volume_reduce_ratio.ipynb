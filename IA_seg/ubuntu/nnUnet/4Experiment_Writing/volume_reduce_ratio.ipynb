{
 "cells": [
  {
   "cell_type": "code",
   "execution_count": 1,
   "metadata": {},
   "outputs": [],
   "source": [
    "from batchgenerators.utilities.file_and_folder_operations import *\n",
    "import pprint, pickle\n",
    "import pandas as pd"
   ]
  },
  {
   "cell_type": "raw",
   "metadata": {},
   "source": [
    "a = load_json('./dataset.json')\n",
    "pprint.pprint(a)"
   ]
  },
  {
   "cell_type": "code",
   "execution_count": 15,
   "metadata": {},
   "outputs": [
    {
     "name": "stdout",
     "output_type": "stream",
     "text": [
      "566\n"
     ]
    }
   ],
   "source": [
    "import pprint, pickle\n",
    "\n",
    "\n",
    "pkl_file = open('./after_headcut_properties_XJTsN.pkl', 'rb')\n",
    "data1 = pickle.load(pkl_file)\n",
    "pprint.pprint(len(data1))\n",
    "pkl_file.close()\n"
   ]
  },
  {
   "cell_type": "code",
   "execution_count": 16,
   "metadata": {},
   "outputs": [
    {
     "name": "stdout",
     "output_type": "stream",
     "text": [
      "396.52650176678446\n",
      "432.12544169611306\n",
      "365.2720848056537\n",
      "--------\n",
      "645.4505300353356\n",
      "512.0\n",
      "512.0\n"
     ]
    }
   ],
   "source": [
    "z=0\n",
    "y=0\n",
    "x=0\n",
    "s = 0\n",
    "\n",
    "z1 = 0\n",
    "y1 = 0\n",
    "x1 = 0\n",
    "\n",
    "for key in data1:\n",
    "    a,b,c = data1[key]['after_size']\n",
    "    z+=a\n",
    "    y+=b\n",
    "    x+=c\n",
    "    d,e,f = data1[key]['before_size']\n",
    "    z1+=d\n",
    "    y1+=e\n",
    "    x1+=f\n",
    "    \n",
    "print (z/len(data1))\n",
    "print (y/len(data1))\n",
    "print (x/len(data1))\n",
    "print ('--------')\n",
    "print (z1/len(data1))\n",
    "print (y1/len(data1))\n",
    "print (x1/len(data1))\n",
    "\n"
   ]
  },
  {
   "cell_type": "code",
   "execution_count": 21,
   "metadata": {},
   "outputs": [
    {
     "name": "stdout",
     "output_type": "stream",
     "text": [
      "639.7242990654205\n",
      "512.7955607476636\n",
      "512.7955607476636\n"
     ]
    }
   ],
   "source": [
    "print ((645)*(566/(566+67+71+152)) + (703)*(71/(566+67+71+152)) + (743)*(67/(566+67+71+152)) + (545)*(152/(566+67+71+152)))\n",
    "print ((512)*(566/(566+67+71+152)) + (565)*(71/(566+67+71+152)) + (466)*(67/(566+67+71+152)) + (512)*(152/(566+67+71+152)))\n",
    "print ((512)*(566/(566+67+71+152)) + (565)*(71/(566+67+71+152)) + (466)*(67/(566+67+71+152)) + (512)*(152/(566+67+71+152)))"
   ]
  },
  {
   "cell_type": "code",
   "execution_count": 22,
   "metadata": {},
   "outputs": [
    {
     "name": "stdout",
     "output_type": "stream",
     "text": [
      "395.446261682243\n",
      "428.6623831775701\n",
      "362.3025700934579\n"
     ]
    }
   ],
   "source": [
    "print ((397)*(566/(566+67+71+152)) + (416)*(71/(566+67+71+152)) + (416)*(67/(566+67+71+152)) + (371)*(152/(566+67+71+152)))\n",
    "print ((432)*(566/(566+67+71+152)) + (420)*(71/(566+67+71+152)) + (393)*(67/(566+67+71+152)) + (436)*(152/(566+67+71+152)))\n",
    "print ((365)*(566/(566+67+71+152)) + (356)*(71/(566+67+71+152)) + (331)*(67/(566+67+71+152)) + (369)*(152/(566+67+71+152)))"
   ]
  },
  {
   "cell_type": "code",
   "execution_count": 24,
   "metadata": {},
   "outputs": [
    {
     "name": "stdout",
     "output_type": "stream",
     "text": [
      "0.6297735169876453\n"
     ]
    }
   ],
   "source": [
    "print (1-(397*432*365)/(645*512*512))"
   ]
  },
  {
   "cell_type": "code",
   "execution_count": 25,
   "metadata": {},
   "outputs": [
    {
     "name": "stdout",
     "output_type": "stream",
     "text": [
      "0.7228337165701919\n"
     ]
    }
   ],
   "source": [
    "print (1-(416*420*356)/(703*565*565))"
   ]
  },
  {
   "cell_type": "code",
   "execution_count": 26,
   "metadata": {},
   "outputs": [
    {
     "name": "stdout",
     "output_type": "stream",
     "text": [
      "0.6646075919843472\n"
     ]
    }
   ],
   "source": [
    "print (1-(416*393*331)/(743*466*466))"
   ]
  },
  {
   "cell_type": "code",
   "execution_count": 27,
   "metadata": {},
   "outputs": [
    {
     "name": "stdout",
     "output_type": "stream",
     "text": [
      "0.5822174072265625\n"
     ]
    }
   ],
   "source": [
    "print (1-(371*436*369)/(545*512*512))"
   ]
  },
  {
   "cell_type": "code",
   "execution_count": 28,
   "metadata": {},
   "outputs": [
    {
     "name": "stdout",
     "output_type": "stream",
     "text": [
      "0.63579302890918\n"
     ]
    }
   ],
   "source": [
    "print (1-(395*429*362)/(640*513*513))"
   ]
  },
  {
   "cell_type": "code",
   "execution_count": 21,
   "metadata": {},
   "outputs": [
    {
     "name": "stdout",
     "output_type": "stream",
     "text": [
      "0.9670636646096329\n"
     ]
    }
   ],
   "source": [
    "size_reductions = data1['size_reductions']\n",
    "re = 0.0\n",
    "for key in size_reductions.keys():\n",
    "    re+=size_reductions[key]\n",
    "print (re/497)"
   ]
  },
  {
   "cell_type": "code",
   "execution_count": 4,
   "metadata": {},
   "outputs": [
    {
     "name": "stdout",
     "output_type": "stream",
     "text": [
      "OrderedDict([('id', '299916'),\n",
      "             ('ori_cta',\n",
      "              '/media/ubuntu/Seagate Expansion '\n",
      "              'Drive/IACTA/xianjin/Medzoo_code_use_data/nii/cta_img/299916.nii.gz'),\n",
      "             ('ori_seg',\n",
      "              '/media/ubuntu/Seagate Expansion '\n",
      "              'Drive/IACTA/xianjin/Medzoo_code_use_data/nii/ane_seg/299916.nii.gz'),\n",
      "             ('original_size_of_raw_data', array([176, 512, 512], dtype=int64)),\n",
      "             ('original_spacing', array([1.        , 0.48828125, 0.48828125])),\n",
      "             ('itk_origin', (-125.0, -148.10000610351562, -361.3999938964844)),\n",
      "             ('itk_spacing', (0.48828125, 0.48828125, 1.0)),\n",
      "             ('itk_direction', (1.0, 0.0, 0.0, 0.0, 1.0, 0.0, 0.0, 0.0, 1.0)),\n",
      "             ('slices', 176),\n",
      "             ('IA_voxels', 2806),\n",
      "             ('IA_minz', 54),\n",
      "             ('full_cta_file',\n",
      "              '/mnt/f/data/xianjin_data/cta_img/XJTr0000.nii.gz'),\n",
      "             ('full_seg_file',\n",
      "              '/mnt/f/data/xianjin_data/ane_seg/XJTr0000.nii.gz')])\n"
     ]
    }
   ],
   "source": [
    "pkl_file = open('rename_All_Data_Info.pkl', 'rb')\n",
    "data1 = pickle.load(pkl_file)\n",
    "pprint.pprint(data1['XJTr0000'])\n",
    "pkl_file.close()"
   ]
  },
  {
   "cell_type": "code",
   "execution_count": 9,
   "metadata": {},
   "outputs": [
    {
     "name": "stdout",
     "output_type": "stream",
     "text": [
      "497\n",
      "['XJTr0000', 'XJTr0001', 'XJTr0002']\n",
      "66\n"
     ]
    }
   ],
   "source": [
    "df = pd.read_csv('All_Renamed_Data_Info_split.csv')\n",
    "tr_list,ts_list = [],[]\n",
    "\n",
    "for i in range(len(df)):\n",
    "    ori_name = df.loc[i]['new_id']\n",
    "    if ori_name in ['XJTr0151','XJTr0212','XJTr0265']:\n",
    "        continue\n",
    "    if df.loc[i]['subset'] == 'train':\n",
    "        tr_list.append(ori_name)\n",
    "    elif df.loc[i]['subset'] == 'test':\n",
    "        ts_list.append(ori_name)\n",
    "    \n",
    "print (len(tr_list))\n",
    "print (tr_list[:3])\n",
    "print (len(ts_list))"
   ]
  },
  {
   "cell_type": "code",
   "execution_count": 11,
   "metadata": {},
   "outputs": [],
   "source": [
    "from collections import OrderedDict\n",
    "rename_csv = []\n",
    "\n",
    "data_info = load_pickle('./rename_All_Data_Info.pkl')\n",
    "new_all_properties = OrderedDict()\n",
    "\n",
    "for new_name in tr_list:\n",
    "\n",
    "    row = dict()\n",
    "    row['id'] = new_name\n",
    "    row['slices'] = data_info[new_name]['slices']\n",
    "    row['IA_voxels'] = data_info[new_name]['IA_voxels']\n",
    "    a,b,c = data_info[new_name]['itk_spacing']\n",
    "    row['IA_volume'] = row['IA_voxels']*(a*b*c)\n",
    "    row['subset'] = 'train'\n",
    "    rename_csv.append(row)\n",
    "    \n",
    "\n",
    "for new_name in ts_list:\n",
    "\n",
    "    row = dict()\n",
    "    row['id'] = new_name\n",
    "    row['slices'] = data_info[new_name]['slices']\n",
    "    row['IA_voxels'] = data_info[new_name]['IA_voxels']\n",
    "    a,b,c = data_info[new_name]['itk_spacing']\n",
    "    row['IA_volume'] = row['IA_voxels']*(a*b*c)\n",
    "    row['subset'] = 'test'\n",
    "    rename_csv.append(row)\n"
   ]
  },
  {
   "cell_type": "code",
   "execution_count": 12,
   "metadata": {},
   "outputs": [],
   "source": [
    "def save_csv(csv_rows,csv_path,name_attribute):\n",
    "    with open(csv_path, mode='w') as file:\n",
    "        writerCSV = pd.DataFrame(columns=name_attribute, data=csv_rows)\n",
    "        writerCSV.to_csv(csv_path, encoding='utf-8', index=False)"
   ]
  },
  {
   "cell_type": "code",
   "execution_count": 13,
   "metadata": {},
   "outputs": [],
   "source": [
    "name_attribute = ['id','slices','IA_voxels','IA_volume','subset']\n",
    "save_csv(rename_csv,'All_info_new.csv',name_attribute)"
   ]
  },
  {
   "cell_type": "code",
   "execution_count": 17,
   "metadata": {},
   "outputs": [
    {
     "name": "stdout",
     "output_type": "stream",
     "text": [
      "67\n",
      "['ExtB0001', 'ExtB0002', 'ExtB0003']\n"
     ]
    }
   ],
   "source": [
    "df = pd.read_csv('external_B_All_Data_Info.csv')\n",
    "tr_list= []\n",
    "\n",
    "for i in range(len(df)):\n",
    "    ori_name = df.loc[i]['id']\n",
    "    tr_list.append(ori_name)\n",
    "    \n",
    "print (len(tr_list))\n",
    "print (tr_list[:3])\n",
    "\n",
    "from collections import OrderedDict\n",
    "rename_csv = []\n",
    "\n",
    "data_info = load_pickle('./external_B_All_Data_Info.pkl')\n",
    "new_all_properties = OrderedDict()\n",
    "\n",
    "for new_name in tr_list:\n",
    "\n",
    "    row = dict()\n",
    "    row['id'] = new_name\n",
    "    row['slices'] = data_info[new_name]['slices']\n",
    "    row['IA_voxels'] = data_info[new_name]['IA_voxels']\n",
    "    a,b,c = data_info[new_name]['itk_spacing']\n",
    "    row['IA_volume'] = row['IA_voxels']*(a*b*c)\n",
    "    rename_csv.append(row)"
   ]
  },
  {
   "cell_type": "code",
   "execution_count": 18,
   "metadata": {},
   "outputs": [],
   "source": [
    "name_attribute = ['id','slices','IA_voxels','IA_volume']\n",
    "save_csv(rename_csv,'B_info_new.csv',name_attribute)"
   ]
  },
  {
   "cell_type": "code",
   "execution_count": null,
   "metadata": {},
   "outputs": [],
   "source": []
  }
 ],
 "metadata": {
  "kernelspec": {
   "display_name": "Python 3",
   "language": "python",
   "name": "python3"
  },
  "language_info": {
   "codemirror_mode": {
    "name": "ipython",
    "version": 3
   },
   "file_extension": ".py",
   "mimetype": "text/x-python",
   "name": "python",
   "nbconvert_exporter": "python",
   "pygments_lexer": "ipython3",
   "version": "3.8.3"
  }
 },
 "nbformat": 4,
 "nbformat_minor": 4
}
