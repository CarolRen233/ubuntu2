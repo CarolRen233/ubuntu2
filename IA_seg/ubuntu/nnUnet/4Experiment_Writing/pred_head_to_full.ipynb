{
 "cells": [
  {
   "cell_type": "code",
   "execution_count": 2,
   "metadata": {},
   "outputs": [],
   "source": [
    "import imageio\n",
    "from matplotlib import pyplot as plt \n",
    "import numpy as np\n",
    "from scipy.ndimage import label\n",
    "import SimpleITK as sitk\n",
    "import torch\n",
    "import pprint, pickle"
   ]
  },
  {
   "cell_type": "code",
   "execution_count": 3,
   "metadata": {},
   "outputs": [
    {
     "name": "stdout",
     "output_type": "stream",
     "text": [
      "(1031, 512, 512)\n",
      "(1031, 512, 512)\n",
      "1.0\n",
      "0.0\n"
     ]
    }
   ],
   "source": [
    "full_ane_seg = '/root/workspace/renyan/output/nnUNet/nnUNet_raw_data/Task153_CellPress110new/labelsTs'\n",
    "head_pred_ane_seg = '/root/workspace/renyan/output/nnUNet/nnUNet_trained_models/nnUNet/3d_fullres/Task154_CellPress110new_justhead/nnUNetTrainerV2__nnUNetPlansv2.1/fold_0/inferts10_ep200'\n",
    "just_head_properties = '/root/workspace/renyan/data/CellPress110new_justhead/just_head_properties.pkl'\n",
    "\n",
    "all_properties = pickle.load(just_head_properties)"
   ]
  },
  {
   "cell_type": "code",
   "execution_count": null,
   "metadata": {},
   "outputs": [],
   "source": [
    "cases = sorted(os.listdir(full_ane_seg))\n",
    "print (cases)\n",
    "for case in cases:\n",
    "    full = os.path.join(full_ane_seg,case)\n",
    "    head_pred = os.path.join(head_pred_ane_seg,case)\n",
    "    \n",
    "    full_nii = sitk.ReadImage(full)\n",
    "    full_np = sitk.GetArrayFromImage(full_nii).astype(np.int32)\n",
    "    \n",
    "    head_pred_nii = sitk.ReadImage(head_pred)\n",
    "    head_pred_np = sitk.GetArrayFromImage(head_pred_nii).astype(np.int32)\n",
    "    \n",
    "    print (\"full_np:\",full_np.shape)\n",
    "    print (\"head_pred_np:\",head_pred_np.shape)\n",
    "    \n",
    "    prediction = np.zeros(full_np.shape)\n",
    "    print ('prediction:',prediction.shape)\n",
    "    \n",
    "    min_z, max_z, min_y, max_y, min_x, max_x = all_properties[case]['brain_coords']\n",
    "    \n",
    "    prediction[min_z:max_z,min_y:max_y,min_x:max_x] = head_pred_np\n",
    "    \n",
    "    pred_itk_image = sitk.GetImageFromArray(prediction)\n",
    "    pred_itk_image.CopyInformation(full_nii)\n",
    "    sitk.WriteImage(pred_itk_image, os.path.join(head_pred_ane_seg,case+'_full.nii.gz'))\n",
    "    \n",
    "    \n",
    "    \n",
    "    \n",
    "    \n",
    "    "
   ]
  },
  {
   "cell_type": "code",
   "execution_count": null,
   "metadata": {},
   "outputs": [],
   "source": [
    "import imageio\n",
    "pred_MIP_2 = imageio.imread('D:/codes/mycodes/test/pred/Tr0447.png',as_gray=True)\n",
    "pred_MIP_2 = (pred_MIP_2/255).astype(np.uint8)\n",
    "plt.imshow(pred_MIP_2)\n",
    "print (np.unique(pred_MIP_2))\n"
   ]
  },
  {
   "cell_type": "code",
   "execution_count": null,
   "metadata": {},
   "outputs": [],
   "source": [
    "brain_coord = np.where(pred_MIP_2 > 0)\n",
    "brain_max_z = np.max(brain_coord[0])\n",
    "brain_min_z = np.min(brain_coord[0])\n",
    "\n",
    "print (brain_max_z)\n",
    "print (brain_min_z)"
   ]
  },
  {
   "cell_type": "code",
   "execution_count": null,
   "metadata": {},
   "outputs": [],
   "source": [
    "13//2\n"
   ]
  },
  {
   "cell_type": "code",
   "execution_count": null,
   "metadata": {},
   "outputs": [],
   "source": [
    "def get_brain_coord(threedimage,brain_max_z,brain_min_z):\n",
    "    \n",
    "    for i in range(threedimage.shape[0]//2, threedimage.shape[0]):\n",
    "        print (i)\n",
    "        if np.sum(threedimage[i]) != 0:\n",
    "            continue\n",
    "        else:\n",
    "            threedimage_max_z = i\n",
    "            break\n",
    "    max_z = max([threedimage_max_z,brain_max_z])\n",
    "    min_z = brain_min_z\n",
    "    \n",
    "    \n",
    "    for j in range(threedimage.shape[1]//2,threedimage.shape[1]):\n",
    "        if np.sum(threedimage[:,j,:]) != 0:\n",
    "            continue\n",
    "        else:\n",
    "            max_y = j\n",
    "    for k in reversed(range(0,threedimage.shape[1]//2)):\n",
    "        if np.sum(threedimage[:,j,:]) != 0:\n",
    "            continue\n",
    "        else:\n",
    "            min_y = k\n",
    "    \n",
    "    for m in range(threedimage.shape[2]//2,threedimage.shape[1]):\n",
    "        if np.sum(threedimage[:,:,m]) == 0:\n",
    "            continue\n",
    "        else:\n",
    "            min_x = m\n",
    "    for n in reversed(range(threedimage.shape[2])):\n",
    "        if np.sum(threedimage[:,:,n]) == 0:\n",
    "            continue\n",
    "        else:\n",
    "            max_x = n\n",
    "            \n",
    "    #threedimage = threedimage[min_z:max_z,min_y:max_y,min_x:max_x]\n",
    "    \n",
    "    return min_z,max_z,min_y,max_y,min_x,max_x"
   ]
  },
  {
   "cell_type": "code",
   "execution_count": null,
   "metadata": {},
   "outputs": [],
   "source": [
    "def get_cube_as_coords(image,min_z,max_z,min_y,max_y,min_x,max_x):\n",
    "    image = image[min_z:max_z,min_y:max_y,min_x:max_x]\n",
    "    return image"
   ]
  },
  {
   "cell_type": "code",
   "execution_count": null,
   "metadata": {},
   "outputs": [],
   "source": [
    "min_z,max_z,min_y,max_y,min_x,max_x = get_brain_coord(bone_image,brain_max_z,brain_min_z)\n",
    "\n",
    "print (min_z,max_z,min_y,max_y,min_x,max_x)"
   ]
  },
  {
   "cell_type": "code",
   "execution_count": 27,
   "metadata": {},
   "outputs": [],
   "source": [
    "from collections import OrderedDict\n",
    "from batchgenerators.utilities.file_and_folder_operations import *"
   ]
  },
  {
   "cell_type": "code",
   "execution_count": 32,
   "metadata": {},
   "outputs": [
    {
     "name": "stdout",
     "output_type": "stream",
     "text": [
      "OrderedDict([('Tr0966', OrderedDict([('subset', 'Tr'), ('ori_cta', '/root/workspace/renyan/data/CellPress1338/cta_img/Tr0966_cta.nii.gz'), ('ori_seg', '/root/workspace/renyan/data/CellPress1338/ane_seg/Tr0966_seg.nii.gz'), ('ori_bone_cta', '/root/workspace/renyan/output/nnUNet/nnUNet_raw_data/Task153_CellPress110new/imagesTr/Tr0966_0002.nii.gz'), ('original_size_of_raw_data', array([264, 512, 512], dtype=int64)), ('original_spacing', array([0.40002441, 0.48046875, 0.48046875])), ('itk_origin', (-122.759765625, -310.259765625, -659.4000244140625)), ('itk_spacing', (0.48046875, 0.48046875, 0.4000244140625)), ('itk_direction', (1.0, 0.0, 0.0, 0.0, 1.0, 0.0, 0.0, 0.0, 1.0))])), ('Tr0436', OrderedDict([('subset', 'Tr'), ('ori_cta', '/root/workspace/renyan/data/CellPress1338/cta_img/Tr0436_cta.nii.gz'), ('ori_seg', '/root/workspace/renyan/data/CellPress1338/ane_seg/Tr0436_seg.nii.gz'), ('ori_bone_cta', '/root/workspace/renyan/output/nnUNet/nnUNet_raw_data/Task153_CellPress110new/imagesTr/Tr0436_0002.nii.gz'), ('original_size_of_raw_data', array([237, 512, 512], dtype=int64)), ('original_spacing', array([0.69995117, 0.58007812, 0.58007812])), ('itk_origin', (-145.2099609375, -291.2099609375, -1077.699951171875)), ('itk_spacing', (0.580078125, 0.580078125, 0.699951171875)), ('itk_direction', (1.0, 0.0, 0.0, 0.0, 1.0, 0.0, 0.0, 0.0, 1.0))])), ('Tr0181', OrderedDict([('subset', 'Tr'), ('ori_cta', '/root/workspace/renyan/data/CellPress1338/cta_img/Tr0181_cta.nii.gz'), ('ori_seg', '/root/workspace/renyan/data/CellPress1338/ane_seg/Tr0181_seg.nii.gz'), ('ori_bone_cta', '/root/workspace/renyan/output/nnUNet/nnUNet_raw_data/Task153_CellPress110new/imagesTr/Tr0181_0002.nii.gz'), ('original_size_of_raw_data', array([973, 512, 512], dtype=int64)), ('original_spacing', array([0.40000153, 0.41992188, 0.41992188])), ('itk_origin', (-109.2900390625, -251.7900390625, -86.0)), ('itk_spacing', (0.419921875, 0.419921875, 0.40000152587890625)), ('itk_direction', (1.0, 0.0, 0.0, 0.0, 1.0, 0.0, 0.0, 0.0, 1.0))])), ('Tr0447', OrderedDict([('subset', 'Tr'), ('ori_cta', '/root/workspace/renyan/data/CellPress1338/cta_img/Tr0447_cta.nii.gz'), ('ori_seg', '/root/workspace/renyan/data/CellPress1338/ane_seg/Tr0447_seg.nii.gz'), ('ori_bone_cta', '/root/workspace/renyan/output/nnUNet/nnUNet_raw_data/Task153_CellPress110new/imagesTr/Tr0447_0002.nii.gz'), ('original_size_of_raw_data', array([1031,  512,  512], dtype=int64)), ('original_spacing', array([0.40002441, 0.48242188, 0.48242188])), ('itk_origin', (-123.2587890625, -252.7587890625, -1309.0)), ('itk_spacing', (0.482421875, 0.482421875, 0.4000244140625)), ('itk_direction', (1.0, 0.0, 0.0, 0.0, 1.0, 0.0, 0.0, 0.0, 1.0))])), ('Ts0109', OrderedDict([('subset', 'Ts'), ('ori_cta', '/root/workspace/renyan/data/CellPress1338/cta_img/Ts0109_cta.nii.gz'), ('ori_seg', '/root/workspace/renyan/data/CellPress1338/ane_seg/Ts0109_seg.nii.gz'), ('ori_bone_cta', '/root/workspace/renyan/output/nnUNet/nnUNet_raw_data/Task153_CellPress110new/imagesTs/Ts0109_0002.nii.gz'), ('original_size_of_raw_data', array([243, 512, 512], dtype=int64)), ('original_spacing', array([0.3999939 , 0.41796875, 0.41796875])), ('itk_origin', (-106.791015625, -268.291015625, -160.0)), ('itk_spacing', (0.41796875, 0.41796875, 0.399993896484375)), ('itk_direction', (1.0, 0.0, 0.0, 0.0, 1.0, 0.0, 0.0, 0.0, 1.0))])), ('Ts0122', OrderedDict([('subset', 'Ts'), ('ori_cta', '/root/workspace/renyan/data/CellPress1338/cta_img/Ts0122_cta.nii.gz'), ('ori_seg', '/root/workspace/renyan/data/CellPress1338/ane_seg/Ts0122_seg.nii.gz'), ('ori_bone_cta', '/root/workspace/renyan/output/nnUNet/nnUNet_raw_data/Task153_CellPress110new/imagesTs/Ts0122_0002.nii.gz'), ('original_size_of_raw_data', array([383, 512, 512], dtype=int64)), ('original_spacing', array([0.40002441, 0.390625  , 0.390625  ])), ('itk_origin', (-99.8046875, -245.8046875, -526.5)), ('itk_spacing', (0.390625, 0.390625, 0.4000244140625)), ('itk_direction', (1.0, 0.0, 0.0, 0.0, 1.0, 0.0, 0.0, 0.0, 1.0))])), ('Ts0077', OrderedDict([('subset', 'Ts'), ('ori_cta', '/root/workspace/renyan/data/CellPress1338/cta_img/Ts0077_cta.nii.gz'), ('ori_seg', '/root/workspace/renyan/data/CellPress1338/ane_seg/Ts0077_seg.nii.gz'), ('ori_bone_cta', '/root/workspace/renyan/output/nnUNet/nnUNet_raw_data/Task153_CellPress110new/imagesTs/Ts0077_0002.nii.gz'), ('original_size_of_raw_data', array([856, 512, 512], dtype=int64)), ('original_spacing', array([0.3999939 , 0.48242188, 0.48242188])), ('itk_origin', (-123.2587890625, -269.2587890625, -462.5)), ('itk_spacing', (0.482421875, 0.482421875, 0.399993896484375)), ('itk_direction', (1.0, 0.0, 0.0, 0.0, 1.0, 0.0, 0.0, 0.0, 1.0))])), ('Ts0068', OrderedDict([('subset', 'Ts'), ('ori_cta', '/root/workspace/renyan/data/CellPress1338/cta_img/Ts0068_cta.nii.gz'), ('ori_seg', '/root/workspace/renyan/data/CellPress1338/ane_seg/Ts0068_seg.nii.gz'), ('ori_bone_cta', '/root/workspace/renyan/output/nnUNet/nnUNet_raw_data/Task153_CellPress110new/imagesTs/Ts0068_0002.nii.gz'), ('original_size_of_raw_data', array([911, 512, 512], dtype=int64)), ('original_spacing', array([0.40002441, 0.48242188, 0.48242188])), ('itk_origin', (-123.2587890625, -269.2587890625, -1305.0)), ('itk_spacing', (0.482421875, 0.482421875, 0.4000244140625)), ('itk_direction', (1.0, 0.0, 0.0, 0.0, 1.0, 0.0, 0.0, 0.0, 1.0))]))])\n",
      "OrderedDict([('Tr0966', OrderedDict([('subset', 'Tr'), ('ori_cta', '/root/workspace/renyan/data/CellPress1338/cta_img/Tr0966_cta.nii.gz'), ('ori_seg', '/root/workspace/renyan/data/CellPress1338/ane_seg/Tr0966_seg.nii.gz'), ('ori_bone_cta', '/root/workspace/renyan/output/nnUNet/nnUNet_raw_data/Task153_CellPress110new/imagesTr/Tr0966_0002.nii.gz'), ('original_size_of_raw_data', array([264, 512, 512], dtype=int64)), ('original_spacing', array([0.40002441, 0.48046875, 0.48046875])), ('itk_origin', (-122.759765625, -310.259765625, -659.4000244140625)), ('itk_spacing', (0.48046875, 0.48046875, 0.4000244140625)), ('itk_direction', (1.0, 0.0, 0.0, 0.0, 1.0, 0.0, 0.0, 0.0, 1.0)), ('alll', 'alll')])), ('Tr0436', OrderedDict([('subset', 'Tr'), ('ori_cta', '/root/workspace/renyan/data/CellPress1338/cta_img/Tr0436_cta.nii.gz'), ('ori_seg', '/root/workspace/renyan/data/CellPress1338/ane_seg/Tr0436_seg.nii.gz'), ('ori_bone_cta', '/root/workspace/renyan/output/nnUNet/nnUNet_raw_data/Task153_CellPress110new/imagesTr/Tr0436_0002.nii.gz'), ('original_size_of_raw_data', array([237, 512, 512], dtype=int64)), ('original_spacing', array([0.69995117, 0.58007812, 0.58007812])), ('itk_origin', (-145.2099609375, -291.2099609375, -1077.699951171875)), ('itk_spacing', (0.580078125, 0.580078125, 0.699951171875)), ('itk_direction', (1.0, 0.0, 0.0, 0.0, 1.0, 0.0, 0.0, 0.0, 1.0))])), ('Tr0181', OrderedDict([('subset', 'Tr'), ('ori_cta', '/root/workspace/renyan/data/CellPress1338/cta_img/Tr0181_cta.nii.gz'), ('ori_seg', '/root/workspace/renyan/data/CellPress1338/ane_seg/Tr0181_seg.nii.gz'), ('ori_bone_cta', '/root/workspace/renyan/output/nnUNet/nnUNet_raw_data/Task153_CellPress110new/imagesTr/Tr0181_0002.nii.gz'), ('original_size_of_raw_data', array([973, 512, 512], dtype=int64)), ('original_spacing', array([0.40000153, 0.41992188, 0.41992188])), ('itk_origin', (-109.2900390625, -251.7900390625, -86.0)), ('itk_spacing', (0.419921875, 0.419921875, 0.40000152587890625)), ('itk_direction', (1.0, 0.0, 0.0, 0.0, 1.0, 0.0, 0.0, 0.0, 1.0))])), ('Tr0447', OrderedDict([('subset', 'Tr'), ('ori_cta', '/root/workspace/renyan/data/CellPress1338/cta_img/Tr0447_cta.nii.gz'), ('ori_seg', '/root/workspace/renyan/data/CellPress1338/ane_seg/Tr0447_seg.nii.gz'), ('ori_bone_cta', '/root/workspace/renyan/output/nnUNet/nnUNet_raw_data/Task153_CellPress110new/imagesTr/Tr0447_0002.nii.gz'), ('original_size_of_raw_data', array([1031,  512,  512], dtype=int64)), ('original_spacing', array([0.40002441, 0.48242188, 0.48242188])), ('itk_origin', (-123.2587890625, -252.7587890625, -1309.0)), ('itk_spacing', (0.482421875, 0.482421875, 0.4000244140625)), ('itk_direction', (1.0, 0.0, 0.0, 0.0, 1.0, 0.0, 0.0, 0.0, 1.0))])), ('Ts0109', OrderedDict([('subset', 'Ts'), ('ori_cta', '/root/workspace/renyan/data/CellPress1338/cta_img/Ts0109_cta.nii.gz'), ('ori_seg', '/root/workspace/renyan/data/CellPress1338/ane_seg/Ts0109_seg.nii.gz'), ('ori_bone_cta', '/root/workspace/renyan/output/nnUNet/nnUNet_raw_data/Task153_CellPress110new/imagesTs/Ts0109_0002.nii.gz'), ('original_size_of_raw_data', array([243, 512, 512], dtype=int64)), ('original_spacing', array([0.3999939 , 0.41796875, 0.41796875])), ('itk_origin', (-106.791015625, -268.291015625, -160.0)), ('itk_spacing', (0.41796875, 0.41796875, 0.399993896484375)), ('itk_direction', (1.0, 0.0, 0.0, 0.0, 1.0, 0.0, 0.0, 0.0, 1.0))])), ('Ts0122', OrderedDict([('subset', 'Ts'), ('ori_cta', '/root/workspace/renyan/data/CellPress1338/cta_img/Ts0122_cta.nii.gz'), ('ori_seg', '/root/workspace/renyan/data/CellPress1338/ane_seg/Ts0122_seg.nii.gz'), ('ori_bone_cta', '/root/workspace/renyan/output/nnUNet/nnUNet_raw_data/Task153_CellPress110new/imagesTs/Ts0122_0002.nii.gz'), ('original_size_of_raw_data', array([383, 512, 512], dtype=int64)), ('original_spacing', array([0.40002441, 0.390625  , 0.390625  ])), ('itk_origin', (-99.8046875, -245.8046875, -526.5)), ('itk_spacing', (0.390625, 0.390625, 0.4000244140625)), ('itk_direction', (1.0, 0.0, 0.0, 0.0, 1.0, 0.0, 0.0, 0.0, 1.0))])), ('Ts0077', OrderedDict([('subset', 'Ts'), ('ori_cta', '/root/workspace/renyan/data/CellPress1338/cta_img/Ts0077_cta.nii.gz'), ('ori_seg', '/root/workspace/renyan/data/CellPress1338/ane_seg/Ts0077_seg.nii.gz'), ('ori_bone_cta', '/root/workspace/renyan/output/nnUNet/nnUNet_raw_data/Task153_CellPress110new/imagesTs/Ts0077_0002.nii.gz'), ('original_size_of_raw_data', array([856, 512, 512], dtype=int64)), ('original_spacing', array([0.3999939 , 0.48242188, 0.48242188])), ('itk_origin', (-123.2587890625, -269.2587890625, -462.5)), ('itk_spacing', (0.482421875, 0.482421875, 0.399993896484375)), ('itk_direction', (1.0, 0.0, 0.0, 0.0, 1.0, 0.0, 0.0, 0.0, 1.0))])), ('Ts0068', OrderedDict([('subset', 'Ts'), ('ori_cta', '/root/workspace/renyan/data/CellPress1338/cta_img/Ts0068_cta.nii.gz'), ('ori_seg', '/root/workspace/renyan/data/CellPress1338/ane_seg/Ts0068_seg.nii.gz'), ('ori_bone_cta', '/root/workspace/renyan/output/nnUNet/nnUNet_raw_data/Task153_CellPress110new/imagesTs/Ts0068_0002.nii.gz'), ('original_size_of_raw_data', array([911, 512, 512], dtype=int64)), ('original_spacing', array([0.40002441, 0.48242188, 0.48242188])), ('itk_origin', (-123.2587890625, -269.2587890625, -1305.0)), ('itk_spacing', (0.482421875, 0.482421875, 0.4000244140625)), ('itk_direction', (1.0, 0.0, 0.0, 0.0, 1.0, 0.0, 0.0, 0.0, 1.0))]))])\n"
     ]
    }
   ],
   "source": [
    "\n",
    "print (properties)\n",
    "properties['Tr0966']['alll'] = 'alll'\n",
    "print (properties)\n",
    "\n",
    "save_pickle(properties,'D:/codes/mycodes/test/just_head_properties.pkl')"
   ]
  },
  {
   "cell_type": "code",
   "execution_count": 34,
   "metadata": {},
   "outputs": [
    {
     "data": {
      "text/plain": [
       "OrderedDict([('Tr0966',\n",
       "              OrderedDict([('subset', 'Tr'),\n",
       "                           ('ori_cta',\n",
       "                            '/root/workspace/renyan/data/CellPress1338/cta_img/Tr0966_cta.nii.gz'),\n",
       "                           ('ori_seg',\n",
       "                            '/root/workspace/renyan/data/CellPress1338/ane_seg/Tr0966_seg.nii.gz'),\n",
       "                           ('ori_bone_cta',\n",
       "                            '/root/workspace/renyan/output/nnUNet/nnUNet_raw_data/Task153_CellPress110new/imagesTr/Tr0966_0002.nii.gz'),\n",
       "                           ('original_size_of_raw_data',\n",
       "                            array([264, 512, 512], dtype=int64)),\n",
       "                           ('original_spacing',\n",
       "                            array([0.40002441, 0.48046875, 0.48046875])),\n",
       "                           ('itk_origin',\n",
       "                            (-122.759765625,\n",
       "                             -310.259765625,\n",
       "                             -659.4000244140625)),\n",
       "                           ('itk_spacing',\n",
       "                            (0.48046875, 0.48046875, 0.4000244140625)),\n",
       "                           ('itk_direction',\n",
       "                            (1.0, 0.0, 0.0, 0.0, 1.0, 0.0, 0.0, 0.0, 1.0)),\n",
       "                           ('alll', 'alll')])),\n",
       "             ('Tr0436',\n",
       "              OrderedDict([('subset', 'Tr'),\n",
       "                           ('ori_cta',\n",
       "                            '/root/workspace/renyan/data/CellPress1338/cta_img/Tr0436_cta.nii.gz'),\n",
       "                           ('ori_seg',\n",
       "                            '/root/workspace/renyan/data/CellPress1338/ane_seg/Tr0436_seg.nii.gz'),\n",
       "                           ('ori_bone_cta',\n",
       "                            '/root/workspace/renyan/output/nnUNet/nnUNet_raw_data/Task153_CellPress110new/imagesTr/Tr0436_0002.nii.gz'),\n",
       "                           ('original_size_of_raw_data',\n",
       "                            array([237, 512, 512], dtype=int64)),\n",
       "                           ('original_spacing',\n",
       "                            array([0.69995117, 0.58007812, 0.58007812])),\n",
       "                           ('itk_origin',\n",
       "                            (-145.2099609375,\n",
       "                             -291.2099609375,\n",
       "                             -1077.699951171875)),\n",
       "                           ('itk_spacing',\n",
       "                            (0.580078125, 0.580078125, 0.699951171875)),\n",
       "                           ('itk_direction',\n",
       "                            (1.0, 0.0, 0.0, 0.0, 1.0, 0.0, 0.0, 0.0, 1.0))])),\n",
       "             ('Tr0181',\n",
       "              OrderedDict([('subset', 'Tr'),\n",
       "                           ('ori_cta',\n",
       "                            '/root/workspace/renyan/data/CellPress1338/cta_img/Tr0181_cta.nii.gz'),\n",
       "                           ('ori_seg',\n",
       "                            '/root/workspace/renyan/data/CellPress1338/ane_seg/Tr0181_seg.nii.gz'),\n",
       "                           ('ori_bone_cta',\n",
       "                            '/root/workspace/renyan/output/nnUNet/nnUNet_raw_data/Task153_CellPress110new/imagesTr/Tr0181_0002.nii.gz'),\n",
       "                           ('original_size_of_raw_data',\n",
       "                            array([973, 512, 512], dtype=int64)),\n",
       "                           ('original_spacing',\n",
       "                            array([0.40000153, 0.41992188, 0.41992188])),\n",
       "                           ('itk_origin',\n",
       "                            (-109.2900390625, -251.7900390625, -86.0)),\n",
       "                           ('itk_spacing',\n",
       "                            (0.419921875, 0.419921875, 0.40000152587890625)),\n",
       "                           ('itk_direction',\n",
       "                            (1.0, 0.0, 0.0, 0.0, 1.0, 0.0, 0.0, 0.0, 1.0))])),\n",
       "             ('Tr0447',\n",
       "              OrderedDict([('subset', 'Tr'),\n",
       "                           ('ori_cta',\n",
       "                            '/root/workspace/renyan/data/CellPress1338/cta_img/Tr0447_cta.nii.gz'),\n",
       "                           ('ori_seg',\n",
       "                            '/root/workspace/renyan/data/CellPress1338/ane_seg/Tr0447_seg.nii.gz'),\n",
       "                           ('ori_bone_cta',\n",
       "                            '/root/workspace/renyan/output/nnUNet/nnUNet_raw_data/Task153_CellPress110new/imagesTr/Tr0447_0002.nii.gz'),\n",
       "                           ('original_size_of_raw_data',\n",
       "                            array([1031,  512,  512], dtype=int64)),\n",
       "                           ('original_spacing',\n",
       "                            array([0.40002441, 0.48242188, 0.48242188])),\n",
       "                           ('itk_origin',\n",
       "                            (-123.2587890625, -252.7587890625, -1309.0)),\n",
       "                           ('itk_spacing',\n",
       "                            (0.482421875, 0.482421875, 0.4000244140625)),\n",
       "                           ('itk_direction',\n",
       "                            (1.0, 0.0, 0.0, 0.0, 1.0, 0.0, 0.0, 0.0, 1.0))])),\n",
       "             ('Ts0109',\n",
       "              OrderedDict([('subset', 'Ts'),\n",
       "                           ('ori_cta',\n",
       "                            '/root/workspace/renyan/data/CellPress1338/cta_img/Ts0109_cta.nii.gz'),\n",
       "                           ('ori_seg',\n",
       "                            '/root/workspace/renyan/data/CellPress1338/ane_seg/Ts0109_seg.nii.gz'),\n",
       "                           ('ori_bone_cta',\n",
       "                            '/root/workspace/renyan/output/nnUNet/nnUNet_raw_data/Task153_CellPress110new/imagesTs/Ts0109_0002.nii.gz'),\n",
       "                           ('original_size_of_raw_data',\n",
       "                            array([243, 512, 512], dtype=int64)),\n",
       "                           ('original_spacing',\n",
       "                            array([0.3999939 , 0.41796875, 0.41796875])),\n",
       "                           ('itk_origin',\n",
       "                            (-106.791015625, -268.291015625, -160.0)),\n",
       "                           ('itk_spacing',\n",
       "                            (0.41796875, 0.41796875, 0.399993896484375)),\n",
       "                           ('itk_direction',\n",
       "                            (1.0, 0.0, 0.0, 0.0, 1.0, 0.0, 0.0, 0.0, 1.0))])),\n",
       "             ('Ts0122',\n",
       "              OrderedDict([('subset', 'Ts'),\n",
       "                           ('ori_cta',\n",
       "                            '/root/workspace/renyan/data/CellPress1338/cta_img/Ts0122_cta.nii.gz'),\n",
       "                           ('ori_seg',\n",
       "                            '/root/workspace/renyan/data/CellPress1338/ane_seg/Ts0122_seg.nii.gz'),\n",
       "                           ('ori_bone_cta',\n",
       "                            '/root/workspace/renyan/output/nnUNet/nnUNet_raw_data/Task153_CellPress110new/imagesTs/Ts0122_0002.nii.gz'),\n",
       "                           ('original_size_of_raw_data',\n",
       "                            array([383, 512, 512], dtype=int64)),\n",
       "                           ('original_spacing',\n",
       "                            array([0.40002441, 0.390625  , 0.390625  ])),\n",
       "                           ('itk_origin', (-99.8046875, -245.8046875, -526.5)),\n",
       "                           ('itk_spacing',\n",
       "                            (0.390625, 0.390625, 0.4000244140625)),\n",
       "                           ('itk_direction',\n",
       "                            (1.0, 0.0, 0.0, 0.0, 1.0, 0.0, 0.0, 0.0, 1.0))])),\n",
       "             ('Ts0077',\n",
       "              OrderedDict([('subset', 'Ts'),\n",
       "                           ('ori_cta',\n",
       "                            '/root/workspace/renyan/data/CellPress1338/cta_img/Ts0077_cta.nii.gz'),\n",
       "                           ('ori_seg',\n",
       "                            '/root/workspace/renyan/data/CellPress1338/ane_seg/Ts0077_seg.nii.gz'),\n",
       "                           ('ori_bone_cta',\n",
       "                            '/root/workspace/renyan/output/nnUNet/nnUNet_raw_data/Task153_CellPress110new/imagesTs/Ts0077_0002.nii.gz'),\n",
       "                           ('original_size_of_raw_data',\n",
       "                            array([856, 512, 512], dtype=int64)),\n",
       "                           ('original_spacing',\n",
       "                            array([0.3999939 , 0.48242188, 0.48242188])),\n",
       "                           ('itk_origin',\n",
       "                            (-123.2587890625, -269.2587890625, -462.5)),\n",
       "                           ('itk_spacing',\n",
       "                            (0.482421875, 0.482421875, 0.399993896484375)),\n",
       "                           ('itk_direction',\n",
       "                            (1.0, 0.0, 0.0, 0.0, 1.0, 0.0, 0.0, 0.0, 1.0))])),\n",
       "             ('Ts0068',\n",
       "              OrderedDict([('subset', 'Ts'),\n",
       "                           ('ori_cta',\n",
       "                            '/root/workspace/renyan/data/CellPress1338/cta_img/Ts0068_cta.nii.gz'),\n",
       "                           ('ori_seg',\n",
       "                            '/root/workspace/renyan/data/CellPress1338/ane_seg/Ts0068_seg.nii.gz'),\n",
       "                           ('ori_bone_cta',\n",
       "                            '/root/workspace/renyan/output/nnUNet/nnUNet_raw_data/Task153_CellPress110new/imagesTs/Ts0068_0002.nii.gz'),\n",
       "                           ('original_size_of_raw_data',\n",
       "                            array([911, 512, 512], dtype=int64)),\n",
       "                           ('original_spacing',\n",
       "                            array([0.40002441, 0.48242188, 0.48242188])),\n",
       "                           ('itk_origin',\n",
       "                            (-123.2587890625, -269.2587890625, -1305.0)),\n",
       "                           ('itk_spacing',\n",
       "                            (0.482421875, 0.482421875, 0.4000244140625)),\n",
       "                           ('itk_direction',\n",
       "                            (1.0, 0.0, 0.0, 0.0, 1.0, 0.0, 0.0, 0.0, 1.0))]))])"
      ]
     },
     "execution_count": 34,
     "metadata": {},
     "output_type": "execute_result"
    }
   ],
   "source": [
    "properties = load_pickle('D:/codes/mycodes/test/just_head_properties.pkl')\n",
    "properties"
   ]
  },
  {
   "cell_type": "code",
   "execution_count": 16,
   "metadata": {},
   "outputs": [],
   "source": [
    "def remove_all_but_the_largest_connected_component(image: np.ndarray, for_which_classes: list, \n",
    "                                                   minimum_valid_object_size: dict = None):\n",
    "    \"\"\"\n",
    "    removes all but the largest connected component, individually for each class\n",
    "    :param image:\n",
    "    :param for_which_classes: can be None. Should be list of int. Can also be something like [(1, 2), 2, 4].\n",
    "    Here (1, 2) will be treated as a joint region, not individual classes (example LiTS here we can use (1, 2)\n",
    "    to use all foreground classes together)\n",
    "    :param minimum_valid_object_size: Only objects larger than minimum_valid_object_size will be removed. Keys in\n",
    "    minimum_valid_object_size must match entries in for_which_classes\n",
    "    :return:\n",
    "    \"\"\"\n",
    "    if for_which_classes is None:\n",
    "        for_which_classes = np.unique(image)\n",
    "        for_which_classes = for_which_classes[for_which_classes > 0]\n",
    "\n",
    "    assert 0 not in for_which_classes, \"cannot remove background\"\n",
    "    largest_removed = {}\n",
    "    kept_size = {}\n",
    "    for c in for_which_classes:\n",
    "        if isinstance(c, (list, tuple)):\n",
    "            c = tuple(c)  # otherwise it cant be used as key in the dict\n",
    "            mask = np.zeros_like(image, dtype=bool)\n",
    "            for cl in c:\n",
    "                mask[image == cl] = True\n",
    "        else:\n",
    "            mask = image == c\n",
    "        # get labelmap and number of objects\n",
    "        lmap, num_objects = label(mask.astype(int))\n",
    "        \n",
    "        print ('lmap:',lmap.shape)\n",
    "        print ('num_objects:',num_objects)\n",
    "\n",
    "        # collect object sizes\n",
    "        object_sizes = {}\n",
    "        for object_id in range(1, num_objects + 1):\n",
    "            object_sizes[object_id] = (lmap == object_id).sum()\n",
    "            \n",
    "        print ('object_sizes:',object_sizes)\n",
    "\n",
    "        largest_removed[c] = None\n",
    "        kept_size[c] = None\n",
    "\n",
    "        if num_objects > 0:\n",
    "            # we always keep the largest object. We could also consider removing the largest object if it is smaller\n",
    "            # than minimum_valid_object_size in the future but we don't do that now.\n",
    "            maximum_size = max(object_sizes.values())\n",
    "            kept_size[c] = maximum_size\n",
    "\n",
    "            for object_id in range(1, num_objects + 1):\n",
    "                # we only remove objects that are not the largest\n",
    "                if object_sizes[object_id] != maximum_size:\n",
    "                    # we only remove objects that are smaller than minimum_valid_object_size\n",
    "                    remove = True\n",
    "                    if minimum_valid_object_size is not None:\n",
    "                        remove = object_sizes[object_id] < minimum_valid_object_size[c]\n",
    "                    if remove:\n",
    "                        image[(lmap == object_id) & mask] = 0\n",
    "                        if largest_removed[c] is None:\n",
    "                            largest_removed[c] = object_sizes[object_id]\n",
    "                        else:\n",
    "                            largest_removed[c] = max(largest_removed[c], object_sizes[object_id])\n",
    "    return image, largest_removed, kept_size"
   ]
  },
  {
   "cell_type": "code",
   "execution_count": 17,
   "metadata": {},
   "outputs": [
    {
     "name": "stdout",
     "output_type": "stream",
     "text": [
      "lmap: (512, 495)\n",
      "num_objects: 7\n",
      "object_sizes: {1: 58, 2: 1, 3: 36536, 4: 4, 5: 1, 6: 3, 7: 15}\n",
      "{1: 58}\n",
      "{1: 36536}\n"
     ]
    },
    {
     "data": {
      "image/png": "[encoded data removed]",
      "text/plain": [
       "<Figure size 432x288 with 1 Axes>"
      ]
     },
     "metadata": {
      "needs_background": "light"
     },
     "output_type": "display_data"
    }
   ],
   "source": [
    "image, largest_removed, kept_size = remove_all_but_the_largest_connected_component(pred_MIP_2,[1])\n",
    "\n",
    "plt.imshow(image)\n",
    "print (largest_removed)\n",
    "print (kept_size)"
   ]
  },
  {
   "cell_type": "code",
   "execution_count": 9,
   "metadata": {},
   "outputs": [
    {
     "name": "stdout",
     "output_type": "stream",
     "text": [
      "(512, 814)\n"
     ]
    }
   ],
   "source": [
    "print (image.shape)\n",
    "\n",
    "assert image.shape[0] == 512\n",
    "\n",
    "for "
   ]
  },
  {
   "cell_type": "code",
   "execution_count": 6,
   "metadata": {},
   "outputs": [],
   "source": []
  },
  {
   "cell_type": "code",
   "execution_count": null,
   "metadata": {},
   "outputs": [],
   "source": []
  },
  {
   "cell_type": "code",
   "execution_count": null,
   "metadata": {},
   "outputs": [],
   "source": []
  }
 ],
 "metadata": {
  "kernelspec": {
   "display_name": "Python 3",
   "language": "python",
   "name": "python3"
  },
  "language_info": {
   "codemirror_mode": {
    "name": "ipython",
    "version": 3
   },
   "file_extension": ".py",
   "mimetype": "text/x-python",
   "name": "python",
   "nbconvert_exporter": "python",
   "pygments_lexer": "ipython3",
   "version": "3.8.3"
  }
 },
 "nbformat": 4,
 "nbformat_minor": 4
}
