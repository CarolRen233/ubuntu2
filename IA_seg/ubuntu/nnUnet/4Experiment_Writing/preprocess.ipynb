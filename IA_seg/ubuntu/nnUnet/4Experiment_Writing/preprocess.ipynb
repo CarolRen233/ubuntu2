{
 "cells": [
  {
   "cell_type": "markdown",
   "metadata": {},
   "source": [
    "### 一、Preprocess and generate dataset"
   ]
  },
  {
   "cell_type": "code",
   "execution_count": 14,
   "metadata": {},
   "outputs": [],
   "source": [
    "import pandas as pd\n",
    "import os,glob\n",
    "import numpy as np\n",
    "from copy import deepcopy\n",
    "import SimpleITK as sitk\n",
    "from scipy.ndimage import binary_fill_holes\n",
    "import torch\n",
    "from matplotlib import pyplot as plt \n",
    "from PIL import Image\n",
    "import imageio\n",
    "from batchgenerators.utilities.file_and_folder_operations import maybe_mkdir_p, join"
   ]
  },
  {
   "cell_type": "code",
   "execution_count": null,
   "metadata": {},
   "outputs": [],
   "source": [
    "def maybe_create_path(path):\n",
    "    if not os.path.exists(path):\n",
    "        os.makedirs(path)\n",
    "    return path"
   ]
  },
  {
   "cell_type": "code",
   "execution_count": 13,
   "metadata": {},
   "outputs": [
    {
     "name": "stdout",
     "output_type": "stream",
     "text": [
      "Requirement already satisfied: imageio in /home/ubuntu/anaconda3/envs/medzoo/lib/python3.7/site-packages (2.12.0)\n",
      "Requirement already satisfied: pillow>=8.3.2 in /home/ubuntu/anaconda3/envs/medzoo/lib/python3.7/site-packages (from imageio) (8.3.2)\n",
      "Requirement already satisfied: numpy in /home/ubuntu/anaconda3/envs/medzoo/lib/python3.7/site-packages (from imageio) (1.21.2)\n"
     ]
    }
   ],
   "source": [
    "#!pip install imageio"
   ]
  },
  {
   "cell_type": "code",
   "execution_count": 15,
   "metadata": {},
   "outputs": [],
   "source": [
    "csv = '/mnt/f/data/CellPress7/instances_copy.csv'\n",
    "original_data_dir = '/mnt/f/data/CellPress7'\n",
    "brain_dst_dataset = '/mnt/f/data/CellPress7/brain'"
   ]
  },
  {
   "cell_type": "raw",
   "metadata": {},
   "source": [
    "\n",
    "processed_brain_mask_path = os.path.join(brain_dst_dataset,'processed_brain_mask')\n",
    "precessed_bone_cta = os.path.join(brain_dst_dataset,'precessed_bone_cta')\n",
    "\n",
    "maybe_create_path()"
   ]
  },
  {
   "cell_type": "code",
   "execution_count": 17,
   "metadata": {},
   "outputs": [],
   "source": [
    "def save_itk_from_numpy(numpy_data, origin_itk_img):\n",
    "    pred_itk_image = sitk.GetImageFromArray(numpy_data)\n",
    "    pred_itk_image.CopyInformation(origin_itk_img)\n",
    "    return pred_itk_image"
   ]
  },
  {
   "cell_type": "code",
   "execution_count": null,
   "metadata": {},
   "outputs": [],
   "source": []
  },
  {
   "cell_type": "code",
   "execution_count": 27,
   "metadata": {},
   "outputs": [],
   "source": [
    "def generate_brain_mask(brain_matlab_path,save_f):\n",
    "    \n",
    "    # 值为1并且没有hole\n",
    "    brain_nii = sitk.ReadImage(brain_matlab_path)\n",
    "    brain_np = sitk.GetArrayFromImage(brain_nii).astype(np.int32)\n",
    "    brain_mask = brain_np != 0\n",
    "    nonhole_mask_bool = binary_fill_holes(brain_mask)\n",
    "    nonhole_mask_01 = nonhole_mask_bool.astype(int)\n",
    "    \n",
    "    # 保存最大强度投影\n",
    "    for i in range(3):\n",
    "        mask_mip = np.max(nonhole_mask_01, axis=i)\n",
    "        imageio.imsave(save_f + '_mip' + str(i) + '.png', mask_mip)"
   ]
  },
  {
   "cell_type": "code",
   "execution_count": 28,
   "metadata": {},
   "outputs": [],
   "source": [
    "def generate_bone_window(cta_image,save_path):\n",
    "\n",
    "    cta_nii = sitk.ReadImage(cta_image)\n",
    "    cta_np = sitk.GetArrayFromImage(cta_nii).astype(np.float32)\n",
    "\n",
    "    cta_tensor = torch.from_numpy(cta_np)\n",
    "    bone_hu_channel = torch.clamp(cta_tensor, 100, 800)\n",
    "    bone_image = (bone_hu_channel - 100) / (100 - 800)\n",
    "    \n",
    "    bone_image = bone_image.numpy()\n",
    "    bone_image = abs(bone_image)\n",
    "    bone_image = (bone_image - np.min(bone_image)) / (np.max(bone_image) - np.min(bone_image))\n",
    "    \n",
    "    for i in range(3):\n",
    "        bone_mip = np.max(bone_image, axis=i)\n",
    "        imageio.imsave(save_path + '_mip' + str(i) + '.png', bone_mip)"
   ]
  },
  {
   "cell_type": "code",
   "execution_count": 29,
   "metadata": {},
   "outputs": [],
   "source": [
    "patient_names=[]\n",
    "datalist = pd.read_csv(csv)\n",
    "for i in range(len(datalist)):\n",
    "    patient_name = datalist.iloc[i]['instance_id']\n",
    "    patient_names.append(patient_name)"
   ]
  },
  {
   "cell_type": "code",
   "execution_count": 30,
   "metadata": {},
   "outputs": [
    {
     "name": "stderr",
     "output_type": "stream",
     "text": [
      "Lossy conversion from float32 to uint8. Range [0, 1]. Convert image to uint8 prior to saving to suppress this warning.\n",
      "Lossy conversion from float32 to uint8. Range [0, 1]. Convert image to uint8 prior to saving to suppress this warning.\n",
      "Lossy conversion from float32 to uint8. Range [0, 1]. Convert image to uint8 prior to saving to suppress this warning.\n",
      "Lossy conversion from float32 to uint8. Range [0, 1]. Convert image to uint8 prior to saving to suppress this warning.\n",
      "Lossy conversion from float32 to uint8. Range [0, 1]. Convert image to uint8 prior to saving to suppress this warning.\n",
      "Lossy conversion from float32 to uint8. Range [0, 1]. Convert image to uint8 prior to saving to suppress this warning.\n",
      "Lossy conversion from float32 to uint8. Range [0, 1]. Convert image to uint8 prior to saving to suppress this warning.\n",
      "Lossy conversion from float32 to uint8. Range [0, 1]. Convert image to uint8 prior to saving to suppress this warning.\n",
      "Lossy conversion from float32 to uint8. Range [0, 1]. Convert image to uint8 prior to saving to suppress this warning.\n",
      "Lossy conversion from int64 to uint8. Range [0, 1]. Convert image to uint8 prior to saving to suppress this warning.\n",
      "Lossy conversion from int64 to uint8. Range [0, 1]. Convert image to uint8 prior to saving to suppress this warning.\n",
      "Lossy conversion from int64 to uint8. Range [0, 1]. Convert image to uint8 prior to saving to suppress this warning.\n",
      "Lossy conversion from float32 to uint8. Range [0, 1]. Convert image to uint8 prior to saving to suppress this warning.\n",
      "Lossy conversion from float32 to uint8. Range [0, 1]. Convert image to uint8 prior to saving to suppress this warning.\n",
      "Lossy conversion from float32 to uint8. Range [0, 1]. Convert image to uint8 prior to saving to suppress this warning.\n",
      "Lossy conversion from int64 to uint8. Range [0, 1]. Convert image to uint8 prior to saving to suppress this warning.\n",
      "Lossy conversion from int64 to uint8. Range [0, 1]. Convert image to uint8 prior to saving to suppress this warning.\n",
      "Lossy conversion from int64 to uint8. Range [0, 1]. Convert image to uint8 prior to saving to suppress this warning.\n",
      "Lossy conversion from float32 to uint8. Range [0, 1]. Convert image to uint8 prior to saving to suppress this warning.\n",
      "Lossy conversion from float32 to uint8. Range [0, 1]. Convert image to uint8 prior to saving to suppress this warning.\n",
      "Lossy conversion from float32 to uint8. Range [0, 1]. Convert image to uint8 prior to saving to suppress this warning.\n",
      "Lossy conversion from int64 to uint8. Range [0, 1]. Convert image to uint8 prior to saving to suppress this warning.\n",
      "Lossy conversion from int64 to uint8. Range [0, 1]. Convert image to uint8 prior to saving to suppress this warning.\n",
      "Lossy conversion from int64 to uint8. Range [0, 1]. Convert image to uint8 prior to saving to suppress this warning.\n",
      "Lossy conversion from float32 to uint8. Range [0, 1]. Convert image to uint8 prior to saving to suppress this warning.\n",
      "Lossy conversion from float32 to uint8. Range [0, 1]. Convert image to uint8 prior to saving to suppress this warning.\n",
      "Lossy conversion from float32 to uint8. Range [0, 1]. Convert image to uint8 prior to saving to suppress this warning.\n",
      "Lossy conversion from float32 to uint8. Range [0, 1]. Convert image to uint8 prior to saving to suppress this warning.\n",
      "Lossy conversion from float32 to uint8. Range [0, 1]. Convert image to uint8 prior to saving to suppress this warning.\n",
      "Lossy conversion from float32 to uint8. Range [0, 1]. Convert image to uint8 prior to saving to suppress this warning.\n"
     ]
    }
   ],
   "source": [
    "brain_ids = []\n",
    "\n",
    "for name in patient_names:\n",
    "    brain_matlab_path = os.path.join(brain_dst_dataset,'brain_matlab',name+'__brain.nii.gz')\n",
    "    bone_cta_save = os.path.join(brain_dst_dataset,'precessed_bone_cta',name)\n",
    "    if not os.path.exists(bone_cta_save):\n",
    "        cta_image = os.path.join(original_data_dir,'cta_img',name+'.nii.gz')\n",
    "        generate_bone_window(cta_image,bone_cta_save)\n",
    "    brain_mask_save = os.path.join(brain_dst_dataset,'processed_brain_mask',name)\n",
    "    if os.path.exists(brain_matlab_path) and (not os.path.exists(brain_mask_save)):\n",
    "        generate_brain_mask(brain_matlab_path,brain_mask_save)\n",
    "        brain_ids.append(name)"
   ]
  },
  {
   "cell_type": "code",
   "execution_count": null,
   "metadata": {},
   "outputs": [],
   "source": []
  },
  {
   "cell_type": "code",
   "execution_count": null,
   "metadata": {},
   "outputs": [],
   "source": []
  }
 ],
 "metadata": {
  "kernelspec": {
   "display_name": "Python 3",
   "language": "python",
   "name": "python3"
  },
  "language_info": {
   "codemirror_mode": {
    "name": "ipython",
    "version": 3
   },
   "file_extension": ".py",
   "mimetype": "text/x-python",
   "name": "python",
   "nbconvert_exporter": "python",
   "pygments_lexer": "ipython3",
   "version": "3.8.3"
  }
 },
 "nbformat": 4,
 "nbformat_minor": 4
}
