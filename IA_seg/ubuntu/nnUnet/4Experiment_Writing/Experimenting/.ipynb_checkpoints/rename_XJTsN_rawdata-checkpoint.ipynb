{
 "cells": [
  {
   "cell_type": "code",
   "execution_count": 1,
   "metadata": {},
   "outputs": [],
   "source": [
    "import os,glob\n",
    "import shutil"
   ]
  },
  {
   "cell_type": "code",
   "execution_count": 14,
   "metadata": {},
   "outputs": [],
   "source": [
    "path = '/home/ubuntu/codes/radiology/3nnUnet/nnUNet_output/nnUNet_trained_models/nnUNet/3d_fullres/Task152_CellPress110/nnUNetTrainerV2__nnUNetPlansv2.1/fold_0/Task171_XJallTest/refined'"
   ]
  },
  {
   "cell_type": "code",
   "execution_count": 15,
   "metadata": {},
   "outputs": [
    {
     "name": "stdout",
     "output_type": "stream",
     "text": [
      "500\n",
      "['XJTr0495', 'XJTr0496', 'XJTr0497', 'XJTr0498', 'XJTr0499']\n",
      "66\n",
      "['XJTs0061', 'XJTs0062', 'XJTs0063', 'XJTs0064', 'XJTs0065']\n"
     ]
    }
   ],
   "source": [
    "XJTr_list = []\n",
    "for i in range(500):\n",
    "    num = str(i).zfill(4)\n",
    "    new_name = 'XJTr'+num\n",
    "    XJTr_list.append(new_name)\n",
    "print (len(XJTr_list))\n",
    "print (XJTr_list[-5:])\n",
    "\n",
    "\n",
    "XJTs_list = []\n",
    "for i in range(66):\n",
    "    num = str(i).zfill(4)\n",
    "    new_name = 'XJTs'+num\n",
    "    XJTs_list.append(new_name)\n",
    "print (len(XJTs_list))\n",
    "print (XJTs_list[-5:])"
   ]
  },
  {
   "cell_type": "code",
   "execution_count": 16,
   "metadata": {},
   "outputs": [],
   "source": [
    "for i,name in enumerate(XJTr_list):\n",
    "    \n",
    "    new_name = 'XJTsN' + str(i+66).zfill(4)\n",
    "    \n",
    "    ori_name = os.path.join(path,new_name+'_full.nii.gz')\n",
    "    if os.path.exists(ori_name):\n",
    "        dst_name = os.path.join(path,name+'.nii.gz')\n",
    "        os.rename(ori_name,dst_name)\n"
   ]
  },
  {
   "cell_type": "code",
   "execution_count": 17,
   "metadata": {},
   "outputs": [],
   "source": [
    "for i,name in enumerate(XJTs_list):\n",
    "    \n",
    "    new_name = 'XJTsN' + str(i).zfill(4)\n",
    "         \n",
    "    ori_name = os.path.join(path,new_name+'_full.nii.gz')\n",
    "    if os.path.exists(ori_name):\n",
    "        dst_name = os.path.join(path,name+'.nii.gz')\n",
    "        os.rename(ori_name,dst_name)\n",
    "\n"
   ]
  },
  {
   "cell_type": "code",
   "execution_count": null,
   "metadata": {},
   "outputs": [],
   "source": []
  }
 ],
 "metadata": {
  "kernelspec": {
   "display_name": "medzoo",
   "language": "python",
   "name": "medzoo"
  },
  "language_info": {
   "codemirror_mode": {
    "name": "ipython",
    "version": 3
   },
   "file_extension": ".py",
   "mimetype": "text/x-python",
   "name": "python",
   "nbconvert_exporter": "python",
   "pygments_lexer": "ipython3",
   "version": "3.7.11"
  }
 },
 "nbformat": 4,
 "nbformat_minor": 2
}
