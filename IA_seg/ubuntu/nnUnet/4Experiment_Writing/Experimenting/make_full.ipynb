{
 "cells": [
  {
   "cell_type": "code",
   "execution_count": 1,
   "metadata": {},
   "outputs": [],
   "source": [
    "import pprint, pickle\n",
    "import numpy as np\n",
    "import SimpleITK as sitk\n",
    "import os"
   ]
  },
  {
   "cell_type": "code",
   "execution_count": 2,
   "metadata": {},
   "outputs": [],
   "source": [
    "def save_pickle(obj, file: str, mode: str = 'wb') -> None:\n",
    "    with open(file, mode) as f:\n",
    "        pickle.dump(obj, f)"
   ]
  },
  {
   "cell_type": "code",
   "execution_count": 3,
   "metadata": {},
   "outputs": [],
   "source": [
    "def maybe_create_path(path):\n",
    "    if not os.path.exists(path):\n",
    "        os.makedirs(path)\n",
    "    return path"
   ]
  },
  {
   "cell_type": "code",
   "execution_count": 18,
   "metadata": {},
   "outputs": [],
   "source": [
    "head_cut_pred_folder = '/home/ubuntu/codes/radiology/3nnUnet/nnUNet_output/nnUNet_trained_models/nnUNet/3d_fullres/Task152_CellPress110/nnUNetTrainerV2__nnUNetPlansv2.1/fold_0/Task174_CellPressTest152'\n",
    "full_save_foder = os.path.join(head_cut_pred_folder,'full')\n",
    "maybe_create_path(full_save_foder)\n",
    "pred_suffix = '.nii.gz'"
   ]
  },
  {
   "cell_type": "code",
   "execution_count": 19,
   "metadata": {},
   "outputs": [
    {
     "name": "stdout",
     "output_type": "stream",
     "text": [
      "152\n"
     ]
    }
   ],
   "source": [
    "pkl_file = open('/home/ubuntu/codes/radiology/file/after_headcut_properties_CellPressTest.pkl', 'rb')\n",
    "data1 = pickle.load(pkl_file)\n",
    "pprint.pprint(len(data1))\n",
    "#pprint.pprint(data1)\n",
    "pkl_file.close()"
   ]
  },
  {
   "cell_type": "code",
   "execution_count": 21,
   "metadata": {},
   "outputs": [
    {
     "name": "stdout",
     "output_type": "stream",
     "text": [
      "somethong wrong with  Ts0001\n"
     ]
    }
   ],
   "source": [
    "for key in data1:\n",
    "    XJTsN_name = key\n",
    "    if key == 'ExtA0009':\n",
    "        continue\n",
    "    properti = data1[XJTsN_name]\n",
    "    min_z, max_z, min_y, max_y, min_x, max_x = properti['coords']\n",
    "    \n",
    "    if os.path.exists(os.path.join(head_cut_pred_folder,XJTsN_name + pred_suffix)):\n",
    "        if os.path.exists(os.path.join(full_save_foder,XJTsN_name+'_full.nii.gz')):\n",
    "            #print ('./full/'+XJTsN_name+'_full.nii.gz','exists')\n",
    "            continue\n",
    "        pred_img_nii = sitk.ReadImage(os.path.join(head_cut_pred_folder,XJTsN_name + pred_suffix))\n",
    "        pred_img = sitk.GetArrayFromImage(pred_img_nii).astype(np.int32)\n",
    "\n",
    "        prediction_instance_shape = properti['before_size']\n",
    "        prediction = np.zeros(prediction_instance_shape, dtype=np.int32)\n",
    "        try:\n",
    "            prediction[min_z:max_z, min_y:max_y, min_x:max_x] =pred_img\n",
    "        except:\n",
    "            print ('somethong wrong with ',XJTsN_name)\n",
    "            print (pred_img.shape,prediction.shape)\n",
    "            print (properti)\n",
    "\n",
    "        pred_itk_image = sitk.GetImageFromArray(prediction)\n",
    "        pred_itk_image.SetSpacing(properti[\"itk_spacing\"])\n",
    "        pred_itk_image.SetOrigin(properti[\"itk_origin\"])\n",
    "\n",
    "        sitk.WriteImage(pred_itk_image, os.path.join(full_save_foder,XJTsN_name+'_full.nii.gz'))"
   ]
  },
  {
   "cell_type": "code",
   "execution_count": null,
   "metadata": {},
   "outputs": [],
   "source": []
  },
  {
   "cell_type": "code",
   "execution_count": null,
   "metadata": {},
   "outputs": [],
   "source": []
  }
 ],
 "metadata": {
  "kernelspec": {
   "display_name": "nnunet",
   "language": "python",
   "name": "medzoo"
  },
  "language_info": {
   "codemirror_mode": {
    "name": "ipython",
    "version": 3
   },
   "file_extension": ".py",
   "mimetype": "text/x-python",
   "name": "python",
   "nbconvert_exporter": "python",
   "pygments_lexer": "ipython3",
   "version": "3.8.3"
  }
 },
 "nbformat": 4,
 "nbformat_minor": 4
}
