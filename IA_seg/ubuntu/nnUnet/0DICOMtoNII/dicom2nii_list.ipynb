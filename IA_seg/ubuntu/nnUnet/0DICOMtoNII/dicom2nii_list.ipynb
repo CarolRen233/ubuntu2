{
 "cells": [
  {
   "cell_type": "code",
   "execution_count": 13,
   "metadata": {},
   "outputs": [
    {
     "name": "stdout",
     "output_type": "stream",
     "text": [
      "<class 'list'>\n",
      "566\n",
      "/media/ubuntu/Seagate Expansion Drive/20210315_505patients/aneurysm1/shengyidiyipi/P0000019615/GETNE2G2/P0000019615/P0000019615.nii.gz\n"
     ]
    }
   ],
   "source": [
    "aneurysm_path = \"./aneurysm.txt\"\n",
    "with open(aneurysm_path) as f:\n",
    "    class_names = f.readlines()# 全部读取最后返回一个列表存所有的类,每行后面都会带有“\\n”\n",
    "    aneurysm_path = [c.strip() for c in class_names]# 采用strip（）方法可以去掉最后的“\\n”\n",
    "    print (type(aneurysm_path))\n",
    "    print (len(aneurysm_path))\n",
    "    print (aneurysm_path[0])\n",
    "    f.close()"
   ]
  },
  {
   "cell_type": "code",
   "execution_count": 14,
   "metadata": {},
   "outputs": [
    {
     "name": "stdout",
     "output_type": "stream",
     "text": [
      "<class 'list'>\n",
      "566\n",
      "299916 XJTr0000\n",
      "<class 'dict'>\n",
      "566\n"
     ]
    }
   ],
   "source": [
    "rename_dict = {}\n",
    "rename_path = \"./raneme.txt\"\n",
    "with open(rename_path) as f:\n",
    "    rename = f.readlines()# 全部读取最后返回一个列表存所有的类,每行后面都会带有“\\n”\n",
    "    renames = [c.strip() for c in rename]# 采用strip（）方法可以去掉最后的“\\n”\n",
    "    f.close()\n",
    "    print (type(renames))\n",
    "    print (len(renames))\n",
    "    print (renames[0])\n",
    "\n",
    "for name_line in renames:\n",
    "    ori_name,new_name = name_line.split(' ')[0],name_line.split(' ')[1]\n",
    "    rename_dict[new_name] = ori_name\n",
    "print (type(rename_dict))\n",
    "print (len(rename_dict))\n",
    "#print (rename_dict)\n",
    "\n"
   ]
  },
  {
   "cell_type": "raw",
   "metadata": {},
   "source": [
    "problem_list = []\n",
    "problem_list.append('XJTr0152')\n",
    "problem_list.append('XJTr0214')\n",
    "problem_list.append('XJTr0223')\n",
    "problem_list.append('XJTr0242')\n",
    "problem_list.append('XJTr0243')\n",
    "problem_list.append('XJTr0244')\n",
    "problem_list.append('XJTr0245')\n",
    "problem_list.append('XJTr0246')\n",
    "problem_list.append('XJTr0247')\n",
    "problem_list.append('XJTr0248')\n",
    "problem_list.append('XJTr0249')\n",
    "problem_list.append('XJTr0250')\n",
    "problem_list.append('XJTr0251')\n",
    "problem_list.append('XJTr0252')\n",
    "problem_list.append('XJTr0254')\n",
    "problem_list.append('XJTr0255')\n",
    "problem_list.append('XJTr0256')\n",
    "problem_list.append('XJTr0257')\n",
    "problem_list.append('XJTr0259')\n",
    "problem_list.append('XJTr0263')\n",
    "problem_list.append('XJTr0266')\n",
    "problem_list.append('XJTr0273')\n",
    "problem_list.append('XJTr0277')\n",
    "problem_list.append('XJTr0285')\n",
    "problem_list.append('XJTr0287')\n",
    "problem_list.append('XJTr0357')\n",
    "problem_list.append('XJTr0428')\n",
    "problem_list.append('XJTr0475')\n",
    "problem_list.append('XJTs0033')\n",
    "problem_list.append('XJTs0034')\n",
    "problem_list.append('XJTs0035')\n",
    "problem_list.append('XJTs0036')\n",
    "problem_list.append('XJTs0039')\n",
    "problem_list.append('XJTs0040')\n",
    "\n",
    "print (len(problem_list))"
   ]
  },
  {
   "cell_type": "code",
   "execution_count": 15,
   "metadata": {},
   "outputs": [
    {
     "name": "stdout",
     "output_type": "stream",
     "text": [
      "5\n"
     ]
    }
   ],
   "source": [
    "problem_list = []\n",
    "problem_list.append('XJTr0232')\n",
    "problem_list.append('XJTr0233')\n",
    "problem_list.append('XJTr0234')\n",
    "problem_list.append('XJTr0236')\n",
    "problem_list.append('XJTr0238')\n",
    "\n",
    "\n",
    "print (len(problem_list))"
   ]
  },
  {
   "cell_type": "code",
   "execution_count": 17,
   "metadata": {},
   "outputs": [],
   "source": [
    "ori_cta_file = '/media/ubuntu/Seagate Expansion Drive/IACTA/xianjin/Medzoo_code_use_data/nii/cta_img'\n",
    "new_cta_file = '/mnt/f/data/xianjin_data/cta_img'"
   ]
  },
  {
   "cell_type": "code",
   "execution_count": 24,
   "metadata": {},
   "outputs": [
    {
     "name": "stdout",
     "output_type": "stream",
     "text": [
      "5\n",
      "['/media/ubuntu/Seagate Expansion Drive/20210315_505patients/aneurysm1/shengyidiyipi/P0000929861/KDMZDWCJ/P0000929861/P0000929861.nii.gz', '/media/ubuntu/Seagate Expansion Drive/20210315_505patients/aneurysm2/jinyangyiyuan/XY03382/XY03382.nii.gz', '/media/ubuntu/Seagate Expansion Drive/20210315_505patients/aneurysm2/jinyangyiyuan/419811/419811.nii.gz', '/media/ubuntu/Seagate Expansion Drive/20210315_505patients/aneurysm2/jinyangyiyuan/329533T/329533T.nii.gz', '/media/ubuntu/Seagate Expansion Drive/20210315_505patients/aneurysm2/jinyangyiyuan/XY02964/XY02964.nii.gz']\n"
     ]
    }
   ],
   "source": [
    "prblem_dicom_paths = []\n",
    "for new_problem in problem_list:\n",
    "    ori_name = rename_dict[new_problem]\n",
    "    #print (ori_name)\n",
    "    for dicom_path in aneurysm_path:\n",
    "        if ori_name in dicom_path:\n",
    "            #print (dicom_path)\n",
    "            prblem_dicom_paths.append(dicom_path)\n",
    "            break\n",
    "print (len(prblem_dicom_paths))\n",
    "print (prblem_dicom_paths)"
   ]
  },
  {
   "cell_type": "code",
   "execution_count": 19,
   "metadata": {},
   "outputs": [],
   "source": [
    "import SimpleITK as sitk\n",
    "import numpy as np\n",
    "import shutil\n",
    "import os"
   ]
  },
  {
   "cell_type": "code",
   "execution_count": 20,
   "metadata": {},
   "outputs": [],
   "source": [
    "def dcm2nii(dcms_path, nii_path):\n",
    "    \n",
    "    # 1.构建dicom序列文件阅读器，并执行（即将dicom序列文件“打包整合”）\n",
    "    reader = sitk.ImageSeriesReader()\n",
    "    dicom_names = reader.GetGDCMSeriesFileNames(dcms_path)\n",
    "    reader.SetFileNames(dicom_names)\n",
    "    image2 = reader.Execute()\n",
    "    # 2.将整合后的数据转为array，并获取dicom文件基本信息\n",
    "    image_array = sitk.GetArrayFromImage(image2)  # z, y, x\n",
    "    origin = image2.GetOrigin()  # x, y, z\n",
    "    spacing = image2.GetSpacing()  # x, y, z\n",
    "    direction = image2.GetDirection()  # x, y, z\n",
    "    # 3.将array转为img，并保存为.nii.gz\n",
    "    image3 = sitk.GetImageFromArray(image_array)\n",
    "    image3.SetSpacing(spacing)\n",
    "    image3.SetDirection(direction)\n",
    "    image3.SetOrigin(origin)\n",
    "    sitk.WriteImage(image3, nii_path)"
   ]
  },
  {
   "cell_type": "code",
   "execution_count": 21,
   "metadata": {},
   "outputs": [],
   "source": [
    "output_path = '/media/ubuntu/Seagate Expansion Drive/IACTA/xianjin/Medzoo_code_use_data/nii'"
   ]
  },
  {
   "cell_type": "code",
   "execution_count": 22,
   "metadata": {},
   "outputs": [
    {
     "name": "stdout",
     "output_type": "stream",
     "text": [
      "/media/ubuntu/Seagate Expansion Drive/20210315_505patients/aneurysm1/shengyidiyipi/P0000929861/KDMZDWCJ/P0000929861/P0000929861.nii.gz\n",
      "/media/ubuntu/Seagate Expansion Drive/IACTA/xianjin/Medzoo_code_use_data/nii/cta_img/P0000929861.nii.gz saved!\n",
      "/media/ubuntu/Seagate Expansion Drive/20210315_505patients/aneurysm2/jinyangyiyuan/XY03382/XY03382.nii.gz\n",
      "/media/ubuntu/Seagate Expansion Drive/IACTA/xianjin/Medzoo_code_use_data/nii/cta_img/XY03382.nii.gz saved!\n",
      "/media/ubuntu/Seagate Expansion Drive/20210315_505patients/aneurysm2/jinyangyiyuan/419811/419811.nii.gz\n",
      "/media/ubuntu/Seagate Expansion Drive/IACTA/xianjin/Medzoo_code_use_data/nii/cta_img/419811.nii.gz saved!\n",
      "/media/ubuntu/Seagate Expansion Drive/20210315_505patients/aneurysm2/jinyangyiyuan/329533T/329533T.nii.gz\n",
      "/media/ubuntu/Seagate Expansion Drive/IACTA/xianjin/Medzoo_code_use_data/nii/cta_img/329533T.nii.gz saved!\n",
      "/media/ubuntu/Seagate Expansion Drive/20210315_505patients/aneurysm2/jinyangyiyuan/XY02964/XY02964.nii.gz\n",
      "/media/ubuntu/Seagate Expansion Drive/IACTA/xianjin/Medzoo_code_use_data/nii/cta_img/XY02964.nii.gz saved!\n"
     ]
    }
   ],
   "source": [
    "for dicom in prblem_dicom_paths:\n",
    "    print (dicom)\n",
    "    src_seg_file = dicom\n",
    "    patientID = os.path.basename(src_seg_file)[:-7]\n",
    "    original_dicom_directory = os.path.dirname(src_seg_file)\n",
    "    output_file = output_path + '/cta_img/' + patientID + '.nii.gz'\n",
    "    dcm2nii(original_dicom_directory, output_file)\n",
    "    print (output_file,'saved!')\n",
    "    "
   ]
  },
  {
   "cell_type": "code",
   "execution_count": 26,
   "metadata": {},
   "outputs": [
    {
     "name": "stdout",
     "output_type": "stream",
     "text": [
      "True\n",
      "/mnt/f/data/xianjin_data/cta_img/XJTr0233.nii.gz\n",
      "True\n",
      "/mnt/f/data/xianjin_data/cta_img/XJTr0234.nii.gz\n",
      "True\n",
      "/mnt/f/data/xianjin_data/cta_img/XJTr0236.nii.gz\n",
      "True\n",
      "/mnt/f/data/xianjin_data/cta_img/XJTr0238.nii.gz\n"
     ]
    }
   ],
   "source": [
    "import shutil\n",
    "dst = '/mnt/f/data/xianjin_data/cta_img'\n",
    "for new_problem in problem_list:\n",
    "    \n",
    "    ori_name = rename_dict[new_problem]\n",
    "    if ori_name == '986':\n",
    "        continue\n",
    "    src_file = output_path + '/cta_img/' + ori_name + '.nii.gz'\n",
    "    dst_file = os.path.join(dst,new_problem+ '.nii.gz')\n",
    "    print (os.path.exists(src_file))\n",
    "    print (dst_file)\n",
    "    shutil.copyfile(src_file,dst_file)"
   ]
  },
  {
   "cell_type": "code",
   "execution_count": null,
   "metadata": {},
   "outputs": [],
   "source": []
  },
  {
   "cell_type": "code",
   "execution_count": null,
   "metadata": {},
   "outputs": [],
   "source": []
  },
  {
   "cell_type": "code",
   "execution_count": null,
   "metadata": {},
   "outputs": [],
   "source": []
  },
  {
   "cell_type": "code",
   "execution_count": null,
   "metadata": {},
   "outputs": [],
   "source": []
  },
  {
   "cell_type": "raw",
   "metadata": {},
   "source": [
    "import os\n",
    "for new_problem in problem_list:\n",
    "    \n",
    "    new_path = os.path.join(new_cta_file,new_problem+'.nii.gz')\n",
    "    print (os.path.exists(new_path))\n",
    "    os.remove(new_path)  \n",
    "    \n",
    "    ori_name = rename_dict[new_problem]\n",
    "    print ('ori_name:',ori_name)\n",
    "    ori_path = os.path.join(ori_cta_file,ori_name+'.nii.gz')\n",
    "    print (os.path.exists(ori_path))\n",
    "    os.remove(ori_path)  "
   ]
  },
  {
   "cell_type": "code",
   "execution_count": null,
   "metadata": {},
   "outputs": [],
   "source": []
  }
 ],
 "metadata": {
  "kernelspec": {
   "display_name": "Python 3",
   "language": "python",
   "name": "python3"
  },
  "language_info": {
   "codemirror_mode": {
    "name": "ipython",
    "version": 3
   },
   "file_extension": ".py",
   "mimetype": "text/x-python",
   "name": "python",
   "nbconvert_exporter": "python",
   "pygments_lexer": "ipython3",
   "version": "3.7.0"
  }
 },
 "nbformat": 4,
 "nbformat_minor": 2
}
