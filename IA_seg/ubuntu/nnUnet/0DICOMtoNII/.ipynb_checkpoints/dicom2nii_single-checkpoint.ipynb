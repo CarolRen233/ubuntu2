{
 "cells": [
  {
   "cell_type": "code",
   "execution_count": 1,
   "metadata": {},
   "outputs": [],
   "source": [
    "import SimpleITK as sitk\n",
    "import numpy as np\n",
    "import shutil\n",
    "import os"
   ]
  },
  {
   "cell_type": "code",
   "execution_count": 2,
   "metadata": {},
   "outputs": [],
   "source": [
    "src_seg_file = '/media/ubuntu/Seagate Expansion Drive/20210315_505patients/aneurysm2/jinyangyiyuan/986/986.nii.gz'\n",
    "output_path = '/media/ubuntu/Seagate Expansion Drive/IACTA/xianjin/Medzoo_code_use_data/nii'"
   ]
  },
  {
   "cell_type": "code",
   "execution_count": 3,
   "metadata": {},
   "outputs": [],
   "source": [
    "patientID = os.path.basename(src_seg_file)[:-7]\n",
    "original_dicom_directory = os.path.dirname(src_seg_file)\n",
    "output_file = output_path + '/cta_img/' + patientID + '.nii.gz'\n",
    "#label_dst = output_path + '/ane_seg/' + patientID + '.nii.gz'"
   ]
  },
  {
   "cell_type": "code",
   "execution_count": 4,
   "metadata": {},
   "outputs": [],
   "source": [
    "def dcm2nii(dcms_path, nii_path):\n",
    "    \n",
    "    # 1.构建dicom序列文件阅读器，并执行（即将dicom序列文件“打包整合”）\n",
    "    reader = sitk.ImageSeriesReader()\n",
    "    dicom_names = reader.GetGDCMSeriesFileNames(dcms_path)\n",
    "    reader.SetFileNames(dicom_names)\n",
    "    image2 = reader.Execute()\n",
    "    # 2.将整合后的数据转为array，并获取dicom文件基本信息\n",
    "    image_array = sitk.GetArrayFromImage(image2)  # z, y, x\n",
    "    origin = image2.GetOrigin()  # x, y, z\n",
    "    spacing = image2.GetSpacing()  # x, y, z\n",
    "    direction = image2.GetDirection()  # x, y, z\n",
    "    # 3.将array转为img，并保存为.nii.gz\n",
    "    image3 = sitk.GetImageFromArray(image_array)\n",
    "    image3.SetSpacing(spacing)\n",
    "    image3.SetDirection(direction)\n",
    "    image3.SetOrigin(origin)\n",
    "    sitk.WriteImage(image3, nii_path)"
   ]
  },
  {
   "cell_type": "code",
   "execution_count": 5,
   "metadata": {},
   "outputs": [],
   "source": [
    "dcm2nii(original_dicom_directory, output_file)\n",
    "#shutil.copyfile(src_seg_file, label_dst)"
   ]
  },
  {
   "cell_type": "code",
   "execution_count": 6,
   "metadata": {},
   "outputs": [
    {
     "name": "stdout",
     "output_type": "stream",
     "text": [
      "True\n",
      "/mnt/f/data/xianjin_data/cta_img/XJTr0232.nii.gz\n"
     ]
    },
    {
     "data": {
      "text/plain": [
       "'/mnt/f/data/xianjin_data/cta_img/XJTr0232.nii.gz'"
      ]
     },
     "execution_count": 6,
     "metadata": {},
     "output_type": "execute_result"
    }
   ],
   "source": [
    "dst = '/mnt/f/data/xianjin_data/cta_img'\n",
    "dst_file = os.path.join(dst,'XJTr0232.nii.gz')\n",
    "print (os.path.exists(output_file))\n",
    "print (dst_file)\n",
    "shutil.copyfile(output_file,dst_file)"
   ]
  },
  {
   "cell_type": "code",
   "execution_count": null,
   "metadata": {},
   "outputs": [],
   "source": []
  }
 ],
 "metadata": {
  "kernelspec": {
   "display_name": "medzoo",
   "language": "python",
   "name": "medzoo"
  },
  "language_info": {
   "codemirror_mode": {
    "name": "ipython",
    "version": 3
   },
   "file_extension": ".py",
   "mimetype": "text/x-python",
   "name": "python",
   "nbconvert_exporter": "python",
   "pygments_lexer": "ipython3",
   "version": "3.7.11"
  }
 },
 "nbformat": 4,
 "nbformat_minor": 2
}
