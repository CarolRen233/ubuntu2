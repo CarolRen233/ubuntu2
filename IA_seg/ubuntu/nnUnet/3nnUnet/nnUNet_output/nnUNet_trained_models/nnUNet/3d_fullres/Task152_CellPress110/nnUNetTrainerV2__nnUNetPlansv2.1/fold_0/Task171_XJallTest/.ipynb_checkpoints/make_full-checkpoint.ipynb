{
 "cells": [
  {
   "cell_type": "code",
   "execution_count": 22,
   "metadata": {},
   "outputs": [],
   "source": [
    "import pprint, pickle\n",
    "import numpy as np\n",
    "import SimpleITK as sitk\n",
    "import os"
   ]
  },
  {
   "cell_type": "code",
   "execution_count": 26,
   "metadata": {},
   "outputs": [],
   "source": [
    "def save_pickle(obj, file: str, mode: str = 'wb') -> None:\n",
    "    with open(file, mode) as f:\n",
    "        pickle.dump(obj, f)"
   ]
  },
  {
   "cell_type": "code",
   "execution_count": 3,
   "metadata": {},
   "outputs": [
    {
     "name": "stdout",
     "output_type": "stream",
     "text": [
      "OrderedDict([('id', '299916'),\n",
      "             ('ori_cta',\n",
      "              '/media/ubuntu/Seagate Expansion '\n",
      "              'Drive/IACTA/xianjin/Medzoo_code_use_data/nii/cta_img/299916.nii.gz'),\n",
      "             ('ori_seg',\n",
      "              '/media/ubuntu/Seagate Expansion '\n",
      "              'Drive/IACTA/xianjin/Medzoo_code_use_data/nii/ane_seg/299916.nii.gz'),\n",
      "             ('original_size_of_raw_data', array([176, 512, 512])),\n",
      "             ('original_spacing', array([1.        , 0.48828125, 0.48828125])),\n",
      "             ('itk_origin', (-125.0, -148.10000610351562, -361.3999938964844)),\n",
      "             ('itk_spacing', (0.48828125, 0.48828125, 1.0)),\n",
      "             ('itk_direction', (1.0, 0.0, 0.0, 0.0, 1.0, 0.0, 0.0, 0.0, 1.0)),\n",
      "             ('slices', 176),\n",
      "             ('IA_voxels', 2806),\n",
      "             ('IA_minz', 54),\n",
      "             ('full_cta_file',\n",
      "              '/mnt/f/data/xianjin_data/cta_img/XJTr0000.nii.gz'),\n",
      "             ('full_seg_file',\n",
      "              '/mnt/f/data/xianjin_data/ane_seg/XJTr0000.nii.gz'),\n",
      "             ('coords', (0, 176, 46, 469, 73, 428)),\n",
      "             ('before_size', (176, 512, 512)),\n",
      "             ('after_size', (176, 423, 355)),\n",
      "             ('just_head_cta_save',\n",
      "              '/home/ubuntu/codes/radiology/2HeadCut_New/XJ_headcut/cta_img/XJTr0000.nii.gz'),\n",
      "             ('just_head_seg_save',\n",
      "              '/home/ubuntu/codes/radiology/2HeadCut_New/XJ_headcut/ane_seg/XJTr0000.nii.gz')])\n"
     ]
    }
   ],
   "source": [
    "pkl_file = open('after_headcut_properties.pkl', 'rb')\n",
    "data1 = pickle.load(pkl_file)\n",
    "pprint.pprint(data1['XJTr0000'])\n",
    "pkl_file.close()"
   ]
  },
  {
   "cell_type": "code",
   "execution_count": 4,
   "metadata": {},
   "outputs": [],
   "source": [
    "XJTr_list = []\n",
    "for i in range(66):\n",
    "    XJTr_list.append('XJTs' + str(i).zfill(4))\n",
    "for i in range(500):\n",
    "    XJTr_list.append('XJTr' + str(i).zfill(4))\n",
    "    "
   ]
  },
  {
   "cell_type": "code",
   "execution_count": 8,
   "metadata": {},
   "outputs": [],
   "source": [
    "XJTsN_list = []\n",
    "for i in range(566):\n",
    "    XJTsN_list.append('XJTsN' + str(i).zfill(4))"
   ]
  },
  {
   "cell_type": "code",
   "execution_count": 13,
   "metadata": {},
   "outputs": [],
   "source": [
    "dic = {}\n",
    "f=open('rename.txt', \"a+\")\n",
    "for i in range(566):\n",
    "    dic[XJTsN_list[i]] = XJTr_list[i]\n",
    "    new_context = XJTsN_list[i] + ' ' + XJTr_list[i] + '\\n'\n",
    "    f.write(new_context)\n",
    "f.close()\n",
    "    "
   ]
  },
  {
   "cell_type": "code",
   "execution_count": 28,
   "metadata": {},
   "outputs": [],
   "source": [
    "from collections import OrderedDict\n",
    "new_all_properties = OrderedDict()\n",
    "\n",
    "for key in dic:\n",
    "    XJTsN_name = key\n",
    "    XJTr_name = dic[key]\n",
    "    properti = data1[XJTr_name]\n",
    "    new_all_properties[XJTsN_name] = properti\n",
    "\n",
    "save_pickle(new_all_properties,'after_headcut_properties_XJTsN.pkl')"
   ]
  },
  {
   "cell_type": "code",
   "execution_count": 24,
   "metadata": {},
   "outputs": [
    {
     "name": "stdout",
     "output_type": "stream",
     "text": [
      "somethong wrong with  XJTr0228 XJTsN0294\n"
     ]
    }
   ],
   "source": [
    "for key in dic:\n",
    "    XJTsN_name = key\n",
    "    XJTr_name = dic[key]\n",
    "    properti = data1[XJTr_name]\n",
    "    min_z, max_z, min_y, max_y, min_x, max_x = properti['coords']\n",
    "    \n",
    "    if os.path.exists(XJTsN_name + '.nii.gz'):\n",
    "        if os.path.exists('./full/'+XJTsN_name+'_full.nii.gz'):\n",
    "            #print ('./full/'+XJTsN_name+'_full.nii.gz','exists')\n",
    "            continue\n",
    "        pred_img_nii = sitk.ReadImage(XJTsN_name + '.nii.gz')\n",
    "        pred_img = sitk.GetArrayFromImage(pred_img_nii).astype(np.int32)\n",
    "\n",
    "        prediction_instance_shape = properti['before_size']\n",
    "        prediction = np.zeros(prediction_instance_shape, dtype=np.int32)\n",
    "        try:\n",
    "            prediction[min_z:max_z, min_y:max_y, min_x:max_x] =pred_img\n",
    "        except:\n",
    "            print ('somethong wrong with ',XJTr_name,XJTsN_name)\n",
    "\n",
    "        pred_itk_image = sitk.GetImageFromArray(prediction)\n",
    "        pred_itk_image.SetSpacing(properti[\"itk_spacing\"])\n",
    "        pred_itk_image.SetOrigin(properti[\"itk_origin\"])\n",
    "\n",
    "        sitk.WriteImage(pred_itk_image, './full/'+XJTsN_name+'_full.nii.gz')"
   ]
  },
  {
   "cell_type": "code",
   "execution_count": null,
   "metadata": {},
   "outputs": [],
   "source": []
  }
 ],
 "metadata": {
  "kernelspec": {
   "display_name": "medzoo",
   "language": "python",
   "name": "medzoo"
  },
  "language_info": {
   "codemirror_mode": {
    "name": "ipython",
    "version": 3
   },
   "file_extension": ".py",
   "mimetype": "text/x-python",
   "name": "python",
   "nbconvert_exporter": "python",
   "pygments_lexer": "ipython3",
   "version": "3.7.11"
  }
 },
 "nbformat": 4,
 "nbformat_minor": 2
}
