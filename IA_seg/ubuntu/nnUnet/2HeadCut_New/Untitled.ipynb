{
 "cells": [
  {
   "cell_type": "code",
   "execution_count": 1,
   "metadata": {},
   "outputs": [
    {
     "name": "stdout",
     "output_type": "stream",
     "text": [
      "OrderedDict([('id', 'Ts0001'),\n",
      "             ('ori_cta', 'F:/data/CellPress1338\\\\cta_img\\\\Ts0001.nii.gz'),\n",
      "             ('ori_seg', 'F:/data/CellPress1338\\\\ane_seg\\\\Ts0001.nii.gz'),\n",
      "             ('original_size_of_raw_data', array([693, 512, 512])),\n",
      "             ('original_spacing', array([0.70001221, 0.62695312, 0.62695312])),\n",
      "             ('itk_origin',\n",
      "              (-156.1865234375, -310.1865234375, -411.20001220703125)),\n",
      "             ('itk_spacing', (0.626953125, 0.626953125, 0.70001220703125)),\n",
      "             ('itk_direction', (1.0, 0.0, 0.0, 0.0, 1.0, 0.0, 0.0, 0.0, 1.0)),\n",
      "             ('slices', 693),\n",
      "             ('IA_voxels', 0),\n",
      "             ('coords', (559, 693, 83, 444, 83, 444)),\n",
      "             ('before_size', (693, 512, 512)),\n",
      "             ('after_size', (328, 341, 264)),\n",
      "             ('just_head_cta_save',\n",
      "              'F:/data/CellPress1338/headcut_all\\\\cta_img\\\\Ts0001.nii.gz'),\n",
      "             ('just_head_seg_save',\n",
      "              'F:/data/CellPress1338/headcut_all\\\\ane_seg\\\\Ts0001.nii.gz'),\n",
      "             ('brain_coords', (365, 693, 108, 449, 118, 382))])\n"
     ]
    }
   ],
   "source": [
    "import pprint, pickle\n",
    "\n",
    "\n",
    "pkl_file = open('after_headcut_properties_CellPressAll.pkl', 'rb')\n",
    "data1 = pickle.load(pkl_file)\n",
    "pprint.pprint(data1['Ts0001'])\n",
    "pkl_file.close()"
   ]
  },
  {
   "cell_type": "code",
   "execution_count": 4,
   "metadata": {},
   "outputs": [
    {
     "name": "stdout",
     "output_type": "stream",
     "text": [
      "['ExtA0001', 'ExtA0002', 'ExtA0003', 'ExtA0004', 'ExtA0005', 'ExtA0006', 'ExtA0007', 'ExtA0008', 'ExtA0009', 'ExtA0010', 'ExtA0011', 'ExtA0012', 'ExtA0013', 'ExtA0014', 'ExtA0015', 'ExtA0016', 'ExtA0017', 'ExtA0018', 'ExtA0019', 'ExtA0020', 'ExtA0021', 'ExtA0022', 'ExtA0023', 'ExtA0024', 'ExtA0025', 'ExtA0026', 'ExtA0027', 'ExtA0028', 'ExtA0029', 'ExtA0030', 'ExtA0031', 'ExtA0032', 'ExtA0033', 'ExtA0034', 'ExtA0035', 'ExtA0036', 'ExtA0037', 'ExtA0038', 'ExtA0039', 'ExtA0040', 'ExtA0041', 'ExtA0042', 'ExtA0043', 'ExtA0044', 'ExtA0045', 'ExtA0046', 'ExtA0047', 'ExtA0048', 'ExtA0049', 'ExtA0050', 'ExtA0051', 'ExtA0052', 'ExtA0053', 'ExtA0054', 'ExtA0055', 'ExtA0056', 'ExtA0057', 'ExtA0058', 'ExtA0059', 'ExtA0060', 'ExtA0061', 'ExtA0062', 'ExtA0063', 'ExtA0064', 'ExtA0065', 'ExtA0066', 'ExtA0067', 'ExtA0068', 'ExtA0069', 'ExtA0070', 'ExtA0071']\n"
     ]
    }
   ],
   "source": [
    "\n",
    "\n",
    "print (keys_list)"
   ]
  },
  {
   "cell_type": "code",
   "execution_count": 1,
   "metadata": {},
   "outputs": [],
   "source": [
    "import os,glob"
   ]
  },
  {
   "cell_type": "code",
   "execution_count": 37,
   "metadata": {},
   "outputs": [],
   "source": [
    "pred_file = '/home/ubuntu/codes/radiology/3nnUnet/nnUNet_output/nnUNet_trained_models/nnUNet/3d_fullres/Task152_CellPress110/nnUNetTrainerV2__nnUNetPlansv2.1/fold_0/Task171_XJallTest'"
   ]
  },
  {
   "cell_type": "code",
   "execution_count": 11,
   "metadata": {},
   "outputs": [],
   "source": [
    "lis = glob.glob(os.path.join(pred_file,'*.nii.gz'))"
   ]
  },
  {
   "cell_type": "code",
   "execution_count": 31,
   "metadata": {},
   "outputs": [
    {
     "name": "stdout",
     "output_type": "stream",
     "text": [
      "563\n",
      "['XJTsN0561.nii.gz',\n",
      " 'XJTsN0562.nii.gz',\n",
      " 'XJTsN0563.nii.gz',\n",
      " 'XJTsN0564.nii.gz',\n",
      " 'XJTsN0565.nii.gz']\n"
     ]
    }
   ],
   "source": [
    "import pprint\n",
    "\n",
    "pred_list = [os.path.basename(file) for file in lis]\n",
    "pred_list = sorted(pred_list)\n",
    "print (len(pred_list))\n",
    "pprint.pprint(pred_list[-5:])\n",
    "\n",
    "\n"
   ]
  },
  {
   "cell_type": "code",
   "execution_count": 38,
   "metadata": {},
   "outputs": [
    {
     "name": "stdout",
     "output_type": "stream",
     "text": [
      "XJTsN0217.nii.gz\n",
      "XJTsN0278.nii.gz\n",
      "XJTsN0331.nii.gz\n"
     ]
    }
   ],
   "source": [
    "for i in range(566):\n",
    "    new_name =  'XJTsN' +  str(i).zfill(4) + '.nii.gz'\n",
    "    if os.path.exists(os.path.join(pred_file,new_name)):\n",
    "        continue\n",
    "    else:\n",
    "        print (new_name)"
   ]
  },
  {
   "cell_type": "code",
   "execution_count": 33,
   "metadata": {},
   "outputs": [
    {
     "name": "stdout",
     "output_type": "stream",
     "text": [
      "['XJTsN0218.nii.gz', 'XJTsN0219.nii.gz', 'XJTsN0220.nii.gz']\n"
     ]
    }
   ],
   "source": [
    "pred_list1 = pred_list[217:]\n",
    "print (pred_list1[:3])"
   ]
  },
  {
   "cell_type": "code",
   "execution_count": 34,
   "metadata": {},
   "outputs": [
    {
     "name": "stdout",
     "output_type": "stream",
     "text": [
      "218\n",
      "XJTsN0219.nii.gz\n"
     ]
    }
   ],
   "source": [
    "for i in range(218,566):\n",
    "    \n",
    "    if pred_list1[i] == 'XJTsN' +  str(i).zfill(4) + '.nii.gz':\n",
    "        continue\n",
    "    else:\n",
    "        print (i)\n",
    "        print (pred_list[i])\n",
    "        break"
   ]
  },
  {
   "cell_type": "code",
   "execution_count": 41,
   "metadata": {},
   "outputs": [],
   "source": [
    "from batchgenerators.utilities.file_and_folder_operations import *"
   ]
  },
  {
   "cell_type": "code",
   "execution_count": 42,
   "metadata": {},
   "outputs": [],
   "source": [
    "p = load_json('/home/ubuntu/codes/radiology/3nnUnet/nnUNet_output/nnUNet_raw_data/Task170_XJ563/dataset.json')"
   ]
  },
  {
   "cell_type": "code",
   "execution_count": 44,
   "metadata": {},
   "outputs": [],
   "source": [
    "p['modality'] = {\n",
    "        \"0\": \"CT\",\n",
    "        \"1\": \"HU100200\",\n",
    "        \"2\": \"HU200800\"}"
   ]
  },
  {
   "cell_type": "code",
   "execution_count": 45,
   "metadata": {},
   "outputs": [],
   "source": [
    "save_json(p,'/home/ubuntu/codes/radiology/3nnUnet/nnUNet_output/nnUNet_raw_data/Task170_XJ563/dataset.json')"
   ]
  },
  {
   "cell_type": "code",
   "execution_count": 2,
   "metadata": {},
   "outputs": [
    {
     "name": "stdout",
     "output_type": "stream",
     "text": [
      "<class 'list'>\n",
      "566\n"
     ]
    }
   ],
   "source": [
    "aneurysm_path = \"./raneme.txt\"\n",
    "with open(aneurysm_path) as f:\n",
    "    class_names = f.readlines()# 全部读取最后返回一个列表存所有的类,每行后面都会带有“\\n”\n",
    "    aneurysm_path = [c.strip() for c in class_names]# 采用strip（）方法可以去掉最后的“\\n”\n",
    "    print (type(aneurysm_path))\n",
    "    print (len(aneurysm_path))\n",
    "    f.close()"
   ]
  },
  {
   "cell_type": "code",
   "execution_count": 3,
   "metadata": {},
   "outputs": [],
   "source": [
    "rename_dict = {}\n",
    "for line in aneurysm_path:\n",
    "    origi_name = line.split(' ')[1]\n",
    "    dst_name = line.split(' ')[0]\n",
    "    rename_dict[origi_name] = dst_name\n",
    "#print (rename_dict)"
   ]
  },
  {
   "cell_type": "code",
   "execution_count": 4,
   "metadata": {},
   "outputs": [],
   "source": [
    "import glob,os\n",
    "import SimpleITK as sitk\n",
    "import numpy as np\n",
    "\n"
   ]
  },
  {
   "cell_type": "code",
   "execution_count": 5,
   "metadata": {},
   "outputs": [
    {
     "name": "stdout",
     "output_type": "stream",
     "text": [
      "566\n",
      "['/home/ubuntu/codes/radiology/2HeadCut_New/result/XJTr0390.nii.gz.mha', '/home/ubuntu/codes/radiology/2HeadCut_New/result/XJTr0269.nii.gz.mha', '/home/ubuntu/codes/radiology/2HeadCut_New/result/XJTr0019.nii.gz.mha']\n"
     ]
    }
   ],
   "source": [
    "brain_list = glob.glob(os.path.join('/home/ubuntu/codes/radiology/2HeadCut_New/result','*.nii.gz.mha'))\n",
    "print (len(brain_list))\n",
    "print (brain_list[:3])"
   ]
  },
  {
   "cell_type": "raw",
   "metadata": {},
   "source": [
    "for brain in brain_list:\n",
    "    ori_name = os.path.basename(brain)[:-11]\n",
    "    if ori_name.startswith( 'XJTr' ):\n",
    "        continue\n",
    "    new_name = rename_dict[ori_name]\n",
    "    os.rename(brain,brain.replace(ori_name,new_name))"
   ]
  },
  {
   "cell_type": "code",
   "execution_count": 12,
   "metadata": {},
   "outputs": [],
   "source": [
    "chajin_mask_path = '/home/ubuntu/codes/radiology/2HeadCut_New/XJ_headcut/trainset/chajin'"
   ]
  },
  {
   "cell_type": "code",
   "execution_count": 13,
   "metadata": {},
   "outputs": [
    {
     "name": "stdout",
     "output_type": "stream",
     "text": [
      "117\n",
      "['XJTr0468', 'XJTr0258', 'XJTr0221']\n"
     ]
    }
   ],
   "source": [
    "chajin_brain_list = glob.glob(os.path.join(chajin_mask_path,'*.png'))\n",
    "brain_name = [os.path.basename(chajin)[:-4] for chajin in chajin_brain_list]\n",
    "print (len(brain_name))\n",
    "print (brain_name[:3])"
   ]
  },
  {
   "cell_type": "code",
   "execution_count": 24,
   "metadata": {},
   "outputs": [],
   "source": [
    "brain_mask_path = '/home/ubuntu/codes/radiology/2HeadCut_New/brain_mask'"
   ]
  },
  {
   "cell_type": "code",
   "execution_count": 25,
   "metadata": {},
   "outputs": [
    {
     "name": "stdout",
     "output_type": "stream",
     "text": [
      "117\n",
      "['/home/ubuntu/codes/radiology/2HeadCut_New/brain_mask/XJTr0031.nii.gz', '/home/ubuntu/codes/radiology/2HeadCut_New/brain_mask/XJTr0471.nii.gz', '/home/ubuntu/codes/radiology/2HeadCut_New/brain_mask/XJTr0010.nii.gz']\n"
     ]
    }
   ],
   "source": [
    "brain_list = glob.glob(os.path.join(brain_mask_path,'*.nii.gz'))\n",
    "print (len(brain_list))\n",
    "print (brain_list[:3])"
   ]
  },
  {
   "cell_type": "raw",
   "metadata": {},
   "source": [
    "import shutil\n",
    "for brain in brain_list:\n",
    "    if os.path.basename(brain)[:-7] not in brain_name:\n",
    "        shutil.move(brain,os.path.join(brain_mask_path,'good',os.path.basename(brain)))\n",
    "    elif os.path.basename(brain)[:-7] in brain_name:\n",
    "        shutil.move(brain,os.path.join(brain_mask_path,'bad',os.path.basename(brain)))\n",
    "    "
   ]
  },
  {
   "cell_type": "code",
   "execution_count": 28,
   "metadata": {},
   "outputs": [],
   "source": [
    "train_image_path = '/home/ubuntu/codes/radiology/2HeadCut_New/XJ_headcut/trainset/train_images'"
   ]
  },
  {
   "cell_type": "raw",
   "metadata": {},
   "source": [
    "for chajin in brain_name:\n",
    "    print (chajin)\n",
    "    #print (os.path.join(train_image_path,chajin + '.png'))\n",
    "    if os.path.exists(os.path.join(train_image_path,chajin + '.png')):\n",
    "        os.remove(os.path.join(train_image_path,chajin + '.png'))\n",
    "        \n",
    "    if os.path.exists(os.path.join(train_image_path,chajin + '_bone_mip1.npz')): \n",
    "        os.remove(os.path.join(train_image_path,chajin + '_bone_mip1.npz'))\n",
    "        \n",
    "    if os.path.exists(os.path.join(train_image_path,chajin + '_bone_mip0.npz')): \n",
    "        os.remove(os.path.join(train_image_path,chajin + '_bone_mip0.npz'))\n",
    "    \n",
    "    if os.path.exists(os.path.join(train_image_path,chajin + '_bone_mip2.npz')): \n",
    "        os.remove(os.path.join(train_image_path,chajin + '_bone_mip2.npz'))"
   ]
  },
  {
   "cell_type": "code",
   "execution_count": 36,
   "metadata": {},
   "outputs": [],
   "source": [
    "train_images = glob.glob(os.path.join('/home/ubuntu/codes/radiology/2HeadCut_New/XJ_headcut/trainset/train_images','*.png'))\n",
    "train_label = glob.glob(os.path.join('/home/ubuntu/codes/radiology/2HeadCut_New/XJ_headcut/trainset/train_labels','*.png'))\n",
    "                                      "
   ]
  },
  {
   "cell_type": "code",
   "execution_count": 38,
   "metadata": {},
   "outputs": [
    {
     "name": "stdout",
     "output_type": "stream",
     "text": [
      "449\n",
      "449\n",
      "['/home/ubuntu/codes/radiology/2HeadCut_New/XJ_headcut/trainset/train_images/XJTr0015.png', '/home/ubuntu/codes/radiology/2HeadCut_New/XJ_headcut/trainset/train_images/XJTr0368.png', '/home/ubuntu/codes/radiology/2HeadCut_New/XJ_headcut/trainset/train_images/XJTr0402.png', '/home/ubuntu/codes/radiology/2HeadCut_New/XJ_headcut/trainset/train_images/XJTr0350.png', '/home/ubuntu/codes/radiology/2HeadCut_New/XJ_headcut/trainset/train_images/XJTr0045.png', '/home/ubuntu/codes/radiology/2HeadCut_New/XJ_headcut/trainset/train_images/XJTs0057.png', '/home/ubuntu/codes/radiology/2HeadCut_New/XJ_headcut/trainset/train_images/XJTs0031.png', '/home/ubuntu/codes/radiology/2HeadCut_New/XJ_headcut/trainset/train_images/XJTr0089.png', '/home/ubuntu/codes/radiology/2HeadCut_New/XJ_headcut/trainset/train_images/XJTr0419.png', '/home/ubuntu/codes/radiology/2HeadCut_New/XJ_headcut/trainset/train_images/XJTr0478.png', '/home/ubuntu/codes/radiology/2HeadCut_New/XJ_headcut/trainset/train_images/XJTr0175.png', '/home/ubuntu/codes/radiology/2HeadCut_New/XJ_headcut/trainset/train_images/XJTr0207.png', '/home/ubuntu/codes/radiology/2HeadCut_New/XJ_headcut/trainset/train_images/XJTr0463.png', '/home/ubuntu/codes/radiology/2HeadCut_New/XJ_headcut/trainset/train_images/XJTr0190.png', '/home/ubuntu/codes/radiology/2HeadCut_New/XJ_headcut/trainset/train_images/XJTr0113.png', '/home/ubuntu/codes/radiology/2HeadCut_New/XJ_headcut/trainset/train_images/XJTr0343.png', '/home/ubuntu/codes/radiology/2HeadCut_New/XJ_headcut/trainset/train_images/XJTr0007.png', '/home/ubuntu/codes/radiology/2HeadCut_New/XJ_headcut/trainset/train_images/XJTr0073.png', '/home/ubuntu/codes/radiology/2HeadCut_New/XJ_headcut/trainset/train_images/XJTr0282.png', '/home/ubuntu/codes/radiology/2HeadCut_New/XJ_headcut/trainset/train_images/XJTr0302.png', '/home/ubuntu/codes/radiology/2HeadCut_New/XJ_headcut/trainset/train_images/XJTs0020.png', '/home/ubuntu/codes/radiology/2HeadCut_New/XJ_headcut/trainset/train_images/XJTr0014.png', '/home/ubuntu/codes/radiology/2HeadCut_New/XJ_headcut/trainset/train_images/XJTr0034.png', '/home/ubuntu/codes/radiology/2HeadCut_New/XJ_headcut/trainset/train_images/XJTr0064.png', '/home/ubuntu/codes/radiology/2HeadCut_New/XJ_headcut/trainset/train_images/XJTr0490.png', '/home/ubuntu/codes/radiology/2HeadCut_New/XJ_headcut/trainset/train_images/XJTr0457.png', '/home/ubuntu/codes/radiology/2HeadCut_New/XJ_headcut/trainset/train_images/XJTr0386.png', '/home/ubuntu/codes/radiology/2HeadCut_New/XJ_headcut/trainset/train_images/XJTr0375.png', '/home/ubuntu/codes/radiology/2HeadCut_New/XJ_headcut/trainset/train_images/XJTr0219.png', '/home/ubuntu/codes/radiology/2HeadCut_New/XJ_headcut/trainset/train_images/XJTs0010.png', '/home/ubuntu/codes/radiology/2HeadCut_New/XJ_headcut/trainset/train_images/XJTr0291.png', '/home/ubuntu/codes/radiology/2HeadCut_New/XJ_headcut/trainset/train_images/XJTr0385.png', '/home/ubuntu/codes/radiology/2HeadCut_New/XJ_headcut/trainset/train_images/XJTr0008.png', '/home/ubuntu/codes/radiology/2HeadCut_New/XJ_headcut/trainset/train_images/XJTr0103.png', '/home/ubuntu/codes/radiology/2HeadCut_New/XJ_headcut/trainset/train_images/XJTr0018.png', '/home/ubuntu/codes/radiology/2HeadCut_New/XJ_headcut/trainset/train_images/XJTr0458.png', '/home/ubuntu/codes/radiology/2HeadCut_New/XJ_headcut/trainset/train_images/XJTr0251.png', '/home/ubuntu/codes/radiology/2HeadCut_New/XJ_headcut/trainset/train_images/XJTr0160.png', '/home/ubuntu/codes/radiology/2HeadCut_New/XJ_headcut/trainset/train_images/XJTr0353.png', '/home/ubuntu/codes/radiology/2HeadCut_New/XJ_headcut/trainset/train_images/XJTr0306.png', '/home/ubuntu/codes/radiology/2HeadCut_New/XJ_headcut/trainset/train_images/XJTr0377.png', '/home/ubuntu/codes/radiology/2HeadCut_New/XJ_headcut/trainset/train_images/XJTr0409.png', '/home/ubuntu/codes/radiology/2HeadCut_New/XJ_headcut/trainset/train_images/XJTr0288.png', '/home/ubuntu/codes/radiology/2HeadCut_New/XJ_headcut/trainset/train_images/XJTr0349.png', '/home/ubuntu/codes/radiology/2HeadCut_New/XJ_headcut/trainset/train_images/XJTr0310.png', '/home/ubuntu/codes/radiology/2HeadCut_New/XJ_headcut/trainset/train_images/XJTr0280.png', '/home/ubuntu/codes/radiology/2HeadCut_New/XJ_headcut/trainset/train_images/XJTr0410.png', '/home/ubuntu/codes/radiology/2HeadCut_New/XJ_headcut/trainset/train_images/XJTr0122.png', '/home/ubuntu/codes/radiology/2HeadCut_New/XJ_headcut/trainset/train_images/XJTr0119.png', '/home/ubuntu/codes/radiology/2HeadCut_New/XJ_headcut/trainset/train_images/XJTr0218.png', '/home/ubuntu/codes/radiology/2HeadCut_New/XJ_headcut/trainset/train_images/XJTr0134.png', '/home/ubuntu/codes/radiology/2HeadCut_New/XJ_headcut/trainset/train_images/XJTr0203.png', '/home/ubuntu/codes/radiology/2HeadCut_New/XJ_headcut/trainset/train_images/XJTr0432.png', '/home/ubuntu/codes/radiology/2HeadCut_New/XJ_headcut/trainset/train_images/XJTr0381.png', '/home/ubuntu/codes/radiology/2HeadCut_New/XJ_headcut/trainset/train_images/XJTr0220.png', '/home/ubuntu/codes/radiology/2HeadCut_New/XJ_headcut/trainset/train_images/XJTr0443.png', '/home/ubuntu/codes/radiology/2HeadCut_New/XJ_headcut/trainset/train_images/XJTr0278.png', '/home/ubuntu/codes/radiology/2HeadCut_New/XJ_headcut/trainset/train_images/XJTr0321.png', '/home/ubuntu/codes/radiology/2HeadCut_New/XJ_headcut/trainset/train_images/XJTr0364.png', '/home/ubuntu/codes/radiology/2HeadCut_New/XJ_headcut/trainset/train_images/XJTs0018.png', '/home/ubuntu/codes/radiology/2HeadCut_New/XJ_headcut/trainset/train_images/XJTr0101.png', '/home/ubuntu/codes/radiology/2HeadCut_New/XJ_headcut/trainset/train_images/XJTr0397.png', '/home/ubuntu/codes/radiology/2HeadCut_New/XJ_headcut/trainset/train_images/XJTr0481.png', '/home/ubuntu/codes/radiology/2HeadCut_New/XJ_headcut/trainset/train_images/XJTr0304.png', '/home/ubuntu/codes/radiology/2HeadCut_New/XJ_headcut/trainset/train_images/XJTr0428.png', '/home/ubuntu/codes/radiology/2HeadCut_New/XJ_headcut/trainset/train_images/XJTr0217.png', '/home/ubuntu/codes/radiology/2HeadCut_New/XJ_headcut/trainset/train_images/XJTr0423.png', '/home/ubuntu/codes/radiology/2HeadCut_New/XJ_headcut/trainset/train_images/XJTr0202.png', '/home/ubuntu/codes/radiology/2HeadCut_New/XJ_headcut/trainset/train_images/XJTr0002.png', '/home/ubuntu/codes/radiology/2HeadCut_New/XJ_headcut/trainset/train_images/XJTr0445.png', '/home/ubuntu/codes/radiology/2HeadCut_New/XJ_headcut/trainset/train_images/XJTr0230.png', '/home/ubuntu/codes/radiology/2HeadCut_New/XJ_headcut/trainset/train_images/XJTr0378.png', '/home/ubuntu/codes/radiology/2HeadCut_New/XJ_headcut/trainset/train_images/XJTr0211.png', '/home/ubuntu/codes/radiology/2HeadCut_New/XJ_headcut/trainset/train_images/XJTr0249.png', '/home/ubuntu/codes/radiology/2HeadCut_New/XJ_headcut/trainset/train_images/XJTr0413.png', '/home/ubuntu/codes/radiology/2HeadCut_New/XJ_headcut/trainset/train_images/XJTs0037.png', '/home/ubuntu/codes/radiology/2HeadCut_New/XJ_headcut/trainset/train_images/XJTs0016.png', '/home/ubuntu/codes/radiology/2HeadCut_New/XJ_headcut/trainset/train_images/XJTr0077.png', '/home/ubuntu/codes/radiology/2HeadCut_New/XJ_headcut/trainset/train_images/XJTr0355.png', '/home/ubuntu/codes/radiology/2HeadCut_New/XJ_headcut/trainset/train_images/XJTr0038.png', '/home/ubuntu/codes/radiology/2HeadCut_New/XJ_headcut/trainset/train_images/XJTr0268.png', '/home/ubuntu/codes/radiology/2HeadCut_New/XJ_headcut/trainset/train_images/XJTr0307.png', '/home/ubuntu/codes/radiology/2HeadCut_New/XJ_headcut/trainset/train_images/XJTr0459.png', '/home/ubuntu/codes/radiology/2HeadCut_New/XJ_headcut/trainset/train_images/XJTr0133.png', '/home/ubuntu/codes/radiology/2HeadCut_New/XJ_headcut/trainset/train_images/XJTs0061.png', '/home/ubuntu/codes/radiology/2HeadCut_New/XJ_headcut/trainset/train_images/XJTr0146.png', '/home/ubuntu/codes/radiology/2HeadCut_New/XJ_headcut/trainset/train_images/XJTr0379.png', '/home/ubuntu/codes/radiology/2HeadCut_New/XJ_headcut/trainset/train_images/XJTr0176.png', '/home/ubuntu/codes/radiology/2HeadCut_New/XJ_headcut/trainset/train_images/XJTr0074.png', '/home/ubuntu/codes/radiology/2HeadCut_New/XJ_headcut/trainset/train_images/XJTr0358.png', '/home/ubuntu/codes/radiology/2HeadCut_New/XJ_headcut/trainset/train_images/XJTr0416.png', '/home/ubuntu/codes/radiology/2HeadCut_New/XJ_headcut/trainset/train_images/XJTr0150.png', '/home/ubuntu/codes/radiology/2HeadCut_New/XJ_headcut/trainset/train_images/XJTr0112.png', '/home/ubuntu/codes/radiology/2HeadCut_New/XJ_headcut/trainset/train_images/XJTr0266.png', '/home/ubuntu/codes/radiology/2HeadCut_New/XJ_headcut/trainset/train_images/XJTr0342.png', '/home/ubuntu/codes/radiology/2HeadCut_New/XJ_headcut/trainset/train_images/XJTr0415.png', '/home/ubuntu/codes/radiology/2HeadCut_New/XJ_headcut/trainset/train_images/XJTs0013.png', '/home/ubuntu/codes/radiology/2HeadCut_New/XJ_headcut/trainset/train_images/XJTs0052.png', '/home/ubuntu/codes/radiology/2HeadCut_New/XJ_headcut/trainset/train_images/XJTr0017.png', '/home/ubuntu/codes/radiology/2HeadCut_New/XJ_headcut/trainset/train_images/XJTr0057.png', '/home/ubuntu/codes/radiology/2HeadCut_New/XJ_headcut/trainset/train_images/XJTr0006.png', '/home/ubuntu/codes/radiology/2HeadCut_New/XJ_headcut/trainset/train_images/XJTr0407.png', '/home/ubuntu/codes/radiology/2HeadCut_New/XJ_headcut/trainset/train_images/XJTr0269.png', '/home/ubuntu/codes/radiology/2HeadCut_New/XJ_headcut/trainset/train_images/XJTs0043.png', '/home/ubuntu/codes/radiology/2HeadCut_New/XJ_headcut/trainset/train_images/XJTs0055.png', '/home/ubuntu/codes/radiology/2HeadCut_New/XJ_headcut/trainset/train_images/XJTr0033.png', '/home/ubuntu/codes/radiology/2HeadCut_New/XJ_headcut/trainset/train_images/XJTr0060.png', '/home/ubuntu/codes/radiology/2HeadCut_New/XJ_headcut/trainset/train_images/XJTr0305.png', '/home/ubuntu/codes/radiology/2HeadCut_New/XJ_headcut/trainset/train_images/XJTr0128.png', '/home/ubuntu/codes/radiology/2HeadCut_New/XJ_headcut/trainset/train_images/XJTr0076.png', '/home/ubuntu/codes/radiology/2HeadCut_New/XJ_headcut/trainset/train_images/XJTs0039.png', '/home/ubuntu/codes/radiology/2HeadCut_New/XJ_headcut/trainset/train_images/XJTr0186.png', '/home/ubuntu/codes/radiology/2HeadCut_New/XJ_headcut/trainset/train_images/XJTr0462.png', '/home/ubuntu/codes/radiology/2HeadCut_New/XJ_headcut/trainset/train_images/XJTr0259.png', '/home/ubuntu/codes/radiology/2HeadCut_New/XJ_headcut/trainset/train_images/XJTr0032.png', '/home/ubuntu/codes/radiology/2HeadCut_New/XJ_headcut/trainset/train_images/XJTr0273.png', '/home/ubuntu/codes/radiology/2HeadCut_New/XJ_headcut/trainset/train_images/XJTr0308.png', '/home/ubuntu/codes/radiology/2HeadCut_New/XJ_headcut/trainset/train_images/XJTr0052.png', '/home/ubuntu/codes/radiology/2HeadCut_New/XJ_headcut/trainset/train_images/XJTs0005.png', '/home/ubuntu/codes/radiology/2HeadCut_New/XJ_headcut/trainset/train_images/XJTr0493.png', '/home/ubuntu/codes/radiology/2HeadCut_New/XJ_headcut/trainset/train_images/XJTr0189.png', '/home/ubuntu/codes/radiology/2HeadCut_New/XJ_headcut/trainset/train_images/XJTr0012.png', '/home/ubuntu/codes/radiology/2HeadCut_New/XJ_headcut/trainset/train_images/XJTr0165.png', '/home/ubuntu/codes/radiology/2HeadCut_New/XJ_headcut/trainset/train_images/XJTr0466.png', '/home/ubuntu/codes/radiology/2HeadCut_New/XJ_headcut/trainset/train_images/XJTr0153.png', '/home/ubuntu/codes/radiology/2HeadCut_New/XJ_headcut/trainset/train_images/XJTr0391.png', '/home/ubuntu/codes/radiology/2HeadCut_New/XJ_headcut/trainset/train_images/XJTr0339.png', '/home/ubuntu/codes/radiology/2HeadCut_New/XJ_headcut/trainset/train_images/XJTs0008.png', '/home/ubuntu/codes/radiology/2HeadCut_New/XJ_headcut/trainset/train_images/XJTr0169.png', '/home/ubuntu/codes/radiology/2HeadCut_New/XJ_headcut/trainset/train_images/XJTr0214.png', '/home/ubuntu/codes/radiology/2HeadCut_New/XJ_headcut/trainset/train_images/XJTr0213.png', '/home/ubuntu/codes/radiology/2HeadCut_New/XJ_headcut/trainset/train_images/XJTr0061.png', '/home/ubuntu/codes/radiology/2HeadCut_New/XJ_headcut/trainset/train_images/XJTr0318.png', '/home/ubuntu/codes/radiology/2HeadCut_New/XJ_headcut/trainset/train_images/XJTs0034.png', '/home/ubuntu/codes/radiology/2HeadCut_New/XJ_headcut/trainset/train_images/XJTr0158.png', '/home/ubuntu/codes/radiology/2HeadCut_New/XJ_headcut/trainset/train_images/XJTr0106.png', '/home/ubuntu/codes/radiology/2HeadCut_New/XJ_headcut/trainset/train_images/XJTr0035.png', '/home/ubuntu/codes/radiology/2HeadCut_New/XJ_headcut/trainset/train_images/XJTr0037.png', '/home/ubuntu/codes/radiology/2HeadCut_New/XJ_headcut/trainset/train_images/XJTr0246.png', '/home/ubuntu/codes/radiology/2HeadCut_New/XJ_headcut/trainset/train_images/XJTr0070.png', '/home/ubuntu/codes/radiology/2HeadCut_New/XJ_headcut/trainset/train_images/XJTr0322.png', '/home/ubuntu/codes/radiology/2HeadCut_New/XJ_headcut/trainset/train_images/XJTr0168.png', '/home/ubuntu/codes/radiology/2HeadCut_New/XJ_headcut/trainset/train_images/XJTr0287.png', '/home/ubuntu/codes/radiology/2HeadCut_New/XJ_headcut/trainset/train_images/XJTr0263.png', '/home/ubuntu/codes/radiology/2HeadCut_New/XJ_headcut/trainset/train_images/XJTr0233.png', '/home/ubuntu/codes/radiology/2HeadCut_New/XJ_headcut/trainset/train_images/XJTr0382.png', '/home/ubuntu/codes/radiology/2HeadCut_New/XJ_headcut/trainset/train_images/XJTr0053.png', '/home/ubuntu/codes/radiology/2HeadCut_New/XJ_headcut/trainset/train_images/XJTr0328.png', '/home/ubuntu/codes/radiology/2HeadCut_New/XJ_headcut/trainset/train_images/XJTr0087.png', '/home/ubuntu/codes/radiology/2HeadCut_New/XJ_headcut/trainset/train_images/XJTr0492.png', '/home/ubuntu/codes/radiology/2HeadCut_New/XJ_headcut/trainset/train_images/XJTr0373.png', '/home/ubuntu/codes/radiology/2HeadCut_New/XJ_headcut/trainset/train_images/XJTr0172.png', '/home/ubuntu/codes/radiology/2HeadCut_New/XJ_headcut/trainset/train_images/XJTr0062.png', '/home/ubuntu/codes/radiology/2HeadCut_New/XJ_headcut/trainset/train_images/XJTr0333.png', '/home/ubuntu/codes/radiology/2HeadCut_New/XJ_headcut/trainset/train_images/XJTs0026.png', '/home/ubuntu/codes/radiology/2HeadCut_New/XJ_headcut/trainset/train_images/XJTr0426.png', '/home/ubuntu/codes/radiology/2HeadCut_New/XJ_headcut/trainset/train_images/XJTr0086.png', '/home/ubuntu/codes/radiology/2HeadCut_New/XJ_headcut/trainset/train_images/XJTr0187.png', '/home/ubuntu/codes/radiology/2HeadCut_New/XJ_headcut/trainset/train_images/XJTr0071.png', '/home/ubuntu/codes/radiology/2HeadCut_New/XJ_headcut/trainset/train_images/XJTs0038.png', '/home/ubuntu/codes/radiology/2HeadCut_New/XJ_headcut/trainset/train_images/XJTr0372.png', '/home/ubuntu/codes/radiology/2HeadCut_New/XJ_headcut/trainset/train_images/XJTs0063.png', '/home/ubuntu/codes/radiology/2HeadCut_New/XJ_headcut/trainset/train_images/XJTr0173.png', '/home/ubuntu/codes/radiology/2HeadCut_New/XJ_headcut/trainset/train_images/XJTr0164.png', '/home/ubuntu/codes/radiology/2HeadCut_New/XJ_headcut/trainset/train_images/XJTr0332.png', '/home/ubuntu/codes/radiology/2HeadCut_New/XJ_headcut/trainset/train_images/XJTs0041.png', '/home/ubuntu/codes/radiology/2HeadCut_New/XJ_headcut/trainset/train_images/XJTs0017.png', '/home/ubuntu/codes/radiology/2HeadCut_New/XJ_headcut/trainset/train_images/XJTr0314.png', '/home/ubuntu/codes/radiology/2HeadCut_New/XJ_headcut/trainset/train_images/XJTs0042.png', '/home/ubuntu/codes/radiology/2HeadCut_New/XJ_headcut/trainset/train_images/XJTs0022.png', '/home/ubuntu/codes/radiology/2HeadCut_New/XJ_headcut/trainset/train_images/XJTr0041.png', '/home/ubuntu/codes/radiology/2HeadCut_New/XJ_headcut/trainset/train_images/XJTr0132.png', '/home/ubuntu/codes/radiology/2HeadCut_New/XJ_headcut/trainset/train_images/XJTr0336.png', '/home/ubuntu/codes/radiology/2HeadCut_New/XJ_headcut/trainset/train_images/XJTr0450.png', '/home/ubuntu/codes/radiology/2HeadCut_New/XJ_headcut/trainset/train_images/XJTr0341.png', '/home/ubuntu/codes/radiology/2HeadCut_New/XJ_headcut/trainset/train_images/XJTr0135.png', '/home/ubuntu/codes/radiology/2HeadCut_New/XJ_headcut/trainset/train_images/XJTr0494.png', '/home/ubuntu/codes/radiology/2HeadCut_New/XJ_headcut/trainset/train_images/XJTr0080.png', '/home/ubuntu/codes/radiology/2HeadCut_New/XJ_headcut/trainset/train_images/XJTs0024.png', '/home/ubuntu/codes/radiology/2HeadCut_New/XJ_headcut/trainset/train_images/XJTr0329.png', '/home/ubuntu/codes/radiology/2HeadCut_New/XJ_headcut/trainset/train_images/XJTr0420.png', '/home/ubuntu/codes/radiology/2HeadCut_New/XJ_headcut/trainset/train_images/XJTr0036.png', '/home/ubuntu/codes/radiology/2HeadCut_New/XJ_headcut/trainset/train_images/XJTr0123.png', '/home/ubuntu/codes/radiology/2HeadCut_New/XJ_headcut/trainset/train_images/XJTr0363.png', '/home/ubuntu/codes/radiology/2HeadCut_New/XJ_headcut/trainset/train_images/XJTr0347.png', '/home/ubuntu/codes/radiology/2HeadCut_New/XJ_headcut/trainset/train_images/XJTr0388.png', '/home/ubuntu/codes/radiology/2HeadCut_New/XJ_headcut/trainset/train_images/XJTr0412.png', '/home/ubuntu/codes/radiology/2HeadCut_New/XJ_headcut/trainset/train_images/XJTr0193.png', '/home/ubuntu/codes/radiology/2HeadCut_New/XJ_headcut/trainset/train_images/XJTr0170.png', '/home/ubuntu/codes/radiology/2HeadCut_New/XJ_headcut/trainset/train_images/XJTr0371.png', '/home/ubuntu/codes/radiology/2HeadCut_New/XJ_headcut/trainset/train_images/XJTr0418.png', '/home/ubuntu/codes/radiology/2HeadCut_New/XJ_headcut/trainset/train_images/XJTr0464.png', '/home/ubuntu/codes/radiology/2HeadCut_New/XJ_headcut/trainset/train_images/XJTr0374.png', '/home/ubuntu/codes/radiology/2HeadCut_New/XJ_headcut/trainset/train_images/XJTr0326.png', '/home/ubuntu/codes/radiology/2HeadCut_New/XJ_headcut/trainset/train_images/XJTr0234.png', '/home/ubuntu/codes/radiology/2HeadCut_New/XJ_headcut/trainset/train_images/XJTr0265.png', '/home/ubuntu/codes/radiology/2HeadCut_New/XJ_headcut/trainset/train_images/XJTs0015.png', '/home/ubuntu/codes/radiology/2HeadCut_New/XJ_headcut/trainset/train_images/XJTr0408.png', '/home/ubuntu/codes/radiology/2HeadCut_New/XJ_headcut/trainset/train_images/XJTr0431.png', '/home/ubuntu/codes/radiology/2HeadCut_New/XJ_headcut/trainset/train_images/XJTr0216.png', '/home/ubuntu/codes/radiology/2HeadCut_New/XJ_headcut/trainset/train_images/XJTr0298.png', '/home/ubuntu/codes/radiology/2HeadCut_New/XJ_headcut/trainset/train_images/XJTr0398.png', '/home/ubuntu/codes/radiology/2HeadCut_New/XJ_headcut/trainset/train_images/XJTr0383.png', '/home/ubuntu/codes/radiology/2HeadCut_New/XJ_headcut/trainset/train_images/XJTr0156.png', '/home/ubuntu/codes/radiology/2HeadCut_New/XJ_headcut/trainset/train_images/XJTr0068.png', '/home/ubuntu/codes/radiology/2HeadCut_New/XJ_headcut/trainset/train_images/XJTr0044.png', '/home/ubuntu/codes/radiology/2HeadCut_New/XJ_headcut/trainset/train_images/XJTs0001.png', '/home/ubuntu/codes/radiology/2HeadCut_New/XJ_headcut/trainset/train_images/XJTr0264.png', '/home/ubuntu/codes/radiology/2HeadCut_New/XJ_headcut/trainset/train_images/XJTr0047.png', '/home/ubuntu/codes/radiology/2HeadCut_New/XJ_headcut/trainset/train_images/XJTr0289.png', '/home/ubuntu/codes/radiology/2HeadCut_New/XJ_headcut/trainset/train_images/XJTr0058.png', '/home/ubuntu/codes/radiology/2HeadCut_New/XJ_headcut/trainset/train_images/XJTr0229.png', '/home/ubuntu/codes/radiology/2HeadCut_New/XJ_headcut/trainset/train_images/XJTr0387.png', '/home/ubuntu/codes/radiology/2HeadCut_New/XJ_headcut/trainset/train_images/XJTr0320.png', '/home/ubuntu/codes/radiology/2HeadCut_New/XJ_headcut/trainset/train_images/XJTr0197.png', '/home/ubuntu/codes/radiology/2HeadCut_New/XJ_headcut/trainset/train_images/XJTs0025.png', '/home/ubuntu/codes/radiology/2HeadCut_New/XJ_headcut/trainset/train_images/XJTr0072.png', '/home/ubuntu/codes/radiology/2HeadCut_New/XJ_headcut/trainset/train_images/XJTr0212.png', '/home/ubuntu/codes/radiology/2HeadCut_New/XJ_headcut/trainset/train_images/XJTr0430.png', '/home/ubuntu/codes/radiology/2HeadCut_New/XJ_headcut/trainset/train_images/XJTr0001.png', '/home/ubuntu/codes/radiology/2HeadCut_New/XJ_headcut/trainset/train_images/XJTr0285.png', '/home/ubuntu/codes/radiology/2HeadCut_New/XJ_headcut/trainset/train_images/XJTs0011.png', '/home/ubuntu/codes/radiology/2HeadCut_New/XJ_headcut/trainset/train_images/XJTr0092.png', '/home/ubuntu/codes/radiology/2HeadCut_New/XJ_headcut/trainset/train_images/XJTr0300.png', '/home/ubuntu/codes/radiology/2HeadCut_New/XJ_headcut/trainset/train_images/XJTs0053.png', '/home/ubuntu/codes/radiology/2HeadCut_New/XJ_headcut/trainset/train_images/XJTr0066.png', '/home/ubuntu/codes/radiology/2HeadCut_New/XJ_headcut/trainset/train_images/XJTr0024.png', '/home/ubuntu/codes/radiology/2HeadCut_New/XJ_headcut/trainset/train_images/XJTr0205.png', '/home/ubuntu/codes/radiology/2HeadCut_New/XJ_headcut/trainset/train_images/XJTr0161.png', '/home/ubuntu/codes/radiology/2HeadCut_New/XJ_headcut/trainset/train_images/XJTr0042.png', '/home/ubuntu/codes/radiology/2HeadCut_New/XJ_headcut/trainset/train_images/XJTr0315.png', '/home/ubuntu/codes/radiology/2HeadCut_New/XJ_headcut/trainset/train_images/XJTs0051.png', '/home/ubuntu/codes/radiology/2HeadCut_New/XJ_headcut/trainset/train_images/XJTs0000.png', '/home/ubuntu/codes/radiology/2HeadCut_New/XJ_headcut/trainset/train_images/XJTr0118.png', '/home/ubuntu/codes/radiology/2HeadCut_New/XJ_headcut/trainset/train_images/XJTr0309.png', '/home/ubuntu/codes/radiology/2HeadCut_New/XJ_headcut/trainset/train_images/XJTr0495.png', '/home/ubuntu/codes/radiology/2HeadCut_New/XJ_headcut/trainset/train_images/XJTr0088.png', '/home/ubuntu/codes/radiology/2HeadCut_New/XJ_headcut/trainset/train_images/XJTs0021.png', '/home/ubuntu/codes/radiology/2HeadCut_New/XJ_headcut/trainset/train_images/XJTs0009.png', '/home/ubuntu/codes/radiology/2HeadCut_New/XJ_headcut/trainset/train_images/XJTr0195.png', '/home/ubuntu/codes/radiology/2HeadCut_New/XJ_headcut/trainset/train_images/XJTr0436.png', '/home/ubuntu/codes/radiology/2HeadCut_New/XJ_headcut/trainset/train_images/XJTs0023.png', '/home/ubuntu/codes/radiology/2HeadCut_New/XJ_headcut/trainset/train_images/XJTr0439.png', '/home/ubuntu/codes/radiology/2HeadCut_New/XJ_headcut/trainset/train_images/XJTr0177.png', '/home/ubuntu/codes/radiology/2HeadCut_New/XJ_headcut/trainset/train_images/XJTr0323.png', '/home/ubuntu/codes/radiology/2HeadCut_New/XJ_headcut/trainset/train_images/XJTs0044.png', '/home/ubuntu/codes/radiology/2HeadCut_New/XJ_headcut/trainset/train_images/XJTr0345.png', '/home/ubuntu/codes/radiology/2HeadCut_New/XJ_headcut/trainset/train_images/XJTr0090.png', '/home/ubuntu/codes/radiology/2HeadCut_New/XJ_headcut/trainset/train_images/XJTs0027.png', '/home/ubuntu/codes/radiology/2HeadCut_New/XJ_headcut/trainset/train_images/XJTs0054.png', '/home/ubuntu/codes/radiology/2HeadCut_New/XJ_headcut/trainset/train_images/XJTr0054.png', '/home/ubuntu/codes/radiology/2HeadCut_New/XJ_headcut/trainset/train_images/XJTr0396.png', '/home/ubuntu/codes/radiology/2HeadCut_New/XJ_headcut/trainset/train_images/XJTr0417.png', '/home/ubuntu/codes/radiology/2HeadCut_New/XJ_headcut/trainset/train_images/XJTr0437.png', '/home/ubuntu/codes/radiology/2HeadCut_New/XJ_headcut/trainset/train_images/XJTr0201.png', '/home/ubuntu/codes/radiology/2HeadCut_New/XJ_headcut/trainset/train_images/XJTr0461.png', '/home/ubuntu/codes/radiology/2HeadCut_New/XJ_headcut/trainset/train_images/XJTr0049.png', '/home/ubuntu/codes/radiology/2HeadCut_New/XJ_headcut/trainset/train_images/XJTr0438.png', '/home/ubuntu/codes/radiology/2HeadCut_New/XJ_headcut/trainset/train_images/XJTr0051.png', '/home/ubuntu/codes/radiology/2HeadCut_New/XJ_headcut/trainset/train_images/XJTr0465.png', '/home/ubuntu/codes/radiology/2HeadCut_New/XJ_headcut/trainset/train_images/XJTr0013.png', '/home/ubuntu/codes/radiology/2HeadCut_New/XJ_headcut/trainset/train_images/XJTs0029.png', '/home/ubuntu/codes/radiology/2HeadCut_New/XJ_headcut/trainset/train_images/XJTr0449.png', '/home/ubuntu/codes/radiology/2HeadCut_New/XJ_headcut/trainset/train_images/XJTr0091.png', '/home/ubuntu/codes/radiology/2HeadCut_New/XJ_headcut/trainset/train_images/XJTr0244.png', '/home/ubuntu/codes/radiology/2HeadCut_New/XJ_headcut/trainset/train_images/XJTr0200.png', '/home/ubuntu/codes/radiology/2HeadCut_New/XJ_headcut/trainset/train_images/XJTr0021.png', '/home/ubuntu/codes/radiology/2HeadCut_New/XJ_headcut/trainset/train_images/XJTr0390.png', '/home/ubuntu/codes/radiology/2HeadCut_New/XJ_headcut/trainset/train_images/XJTr0210.png', '/home/ubuntu/codes/radiology/2HeadCut_New/XJ_headcut/trainset/train_images/XJTr0270.png', '/home/ubuntu/codes/radiology/2HeadCut_New/XJ_headcut/trainset/train_images/XJTr0444.png', '/home/ubuntu/codes/radiology/2HeadCut_New/XJ_headcut/trainset/train_images/XJTr0056.png', '/home/ubuntu/codes/radiology/2HeadCut_New/XJ_headcut/trainset/train_images/XJTr0250.png', '/home/ubuntu/codes/radiology/2HeadCut_New/XJ_headcut/trainset/train_images/XJTr0142.png', '/home/ubuntu/codes/radiology/2HeadCut_New/XJ_headcut/trainset/train_images/XJTr0469.png', '/home/ubuntu/codes/radiology/2HeadCut_New/XJ_headcut/trainset/train_images/XJTr0030.png', '/home/ubuntu/codes/radiology/2HeadCut_New/XJ_headcut/trainset/train_images/XJTr0475.png', '/home/ubuntu/codes/radiology/2HeadCut_New/XJ_headcut/trainset/train_images/XJTr0274.png', '/home/ubuntu/codes/radiology/2HeadCut_New/XJ_headcut/trainset/train_images/XJTr0097.png', '/home/ubuntu/codes/radiology/2HeadCut_New/XJ_headcut/trainset/train_images/XJTs0007.png', '/home/ubuntu/codes/radiology/2HeadCut_New/XJ_headcut/trainset/train_images/XJTr0440.png', '/home/ubuntu/codes/radiology/2HeadCut_New/XJ_headcut/trainset/train_images/XJTr0111.png', '/home/ubuntu/codes/radiology/2HeadCut_New/XJ_headcut/trainset/train_images/XJTs0028.png', '/home/ubuntu/codes/radiology/2HeadCut_New/XJ_headcut/trainset/train_images/XJTs0030.png', '/home/ubuntu/codes/radiology/2HeadCut_New/XJ_headcut/trainset/train_images/XJTr0316.png', '/home/ubuntu/codes/radiology/2HeadCut_New/XJ_headcut/trainset/train_images/XJTr0295.png', '/home/ubuntu/codes/radiology/2HeadCut_New/XJ_headcut/trainset/train_images/XJTr0474.png', '/home/ubuntu/codes/radiology/2HeadCut_New/XJ_headcut/trainset/train_images/XJTs0040.png', '/home/ubuntu/codes/radiology/2HeadCut_New/XJ_headcut/trainset/train_images/XJTr0405.png', '/home/ubuntu/codes/radiology/2HeadCut_New/XJ_headcut/trainset/train_images/XJTr0392.png', '/home/ubuntu/codes/radiology/2HeadCut_New/XJ_headcut/trainset/train_images/XJTr0144.png', '/home/ubuntu/codes/radiology/2HeadCut_New/XJ_headcut/trainset/train_images/XJTr0000.png', '/home/ubuntu/codes/radiology/2HeadCut_New/XJ_headcut/trainset/train_images/XJTr0441.png', '/home/ubuntu/codes/radiology/2HeadCut_New/XJ_headcut/trainset/train_images/XJTr0099.png', '/home/ubuntu/codes/radiology/2HeadCut_New/XJ_headcut/trainset/train_images/XJTr0434.png', '/home/ubuntu/codes/radiology/2HeadCut_New/XJ_headcut/trainset/train_images/XJTr0433.png', '/home/ubuntu/codes/radiology/2HeadCut_New/XJ_headcut/trainset/train_images/XJTr0279.png', '/home/ubuntu/codes/radiology/2HeadCut_New/XJ_headcut/trainset/train_images/XJTr0313.png', '/home/ubuntu/codes/radiology/2HeadCut_New/XJ_headcut/trainset/train_images/XJTr0167.png', '/home/ubuntu/codes/radiology/2HeadCut_New/XJ_headcut/trainset/train_images/XJTr0359.png', '/home/ubuntu/codes/radiology/2HeadCut_New/XJ_headcut/trainset/train_images/XJTr0082.png', '/home/ubuntu/codes/radiology/2HeadCut_New/XJ_headcut/trainset/train_images/XJTr0260.png', '/home/ubuntu/codes/radiology/2HeadCut_New/XJ_headcut/trainset/train_images/XJTr0181.png', '/home/ubuntu/codes/radiology/2HeadCut_New/XJ_headcut/trainset/train_images/XJTr0104.png', '/home/ubuntu/codes/radiology/2HeadCut_New/XJ_headcut/trainset/train_images/XJTr0148.png', '/home/ubuntu/codes/radiology/2HeadCut_New/XJ_headcut/trainset/train_images/XJTr0292.png', '/home/ubuntu/codes/radiology/2HeadCut_New/XJ_headcut/trainset/train_images/XJTs0058.png', '/home/ubuntu/codes/radiology/2HeadCut_New/XJ_headcut/trainset/train_images/XJTr0296.png', '/home/ubuntu/codes/radiology/2HeadCut_New/XJ_headcut/trainset/train_images/XJTr0252.png', '/home/ubuntu/codes/radiology/2HeadCut_New/XJ_headcut/trainset/train_images/XJTr0406.png', '/home/ubuntu/codes/radiology/2HeadCut_New/XJ_headcut/trainset/train_images/XJTs0045.png', '/home/ubuntu/codes/radiology/2HeadCut_New/XJ_headcut/trainset/train_images/XJTr0232.png', '/home/ubuntu/codes/radiology/2HeadCut_New/XJ_headcut/trainset/train_images/XJTr0483.png', '/home/ubuntu/codes/radiology/2HeadCut_New/XJ_headcut/trainset/train_images/XJTr0151.png', '/home/ubuntu/codes/radiology/2HeadCut_New/XJ_headcut/trainset/train_images/XJTr0312.png', '/home/ubuntu/codes/radiology/2HeadCut_New/XJ_headcut/trainset/train_images/XJTr0344.png', '/home/ubuntu/codes/radiology/2HeadCut_New/XJ_headcut/trainset/train_images/XJTr0204.png', '/home/ubuntu/codes/radiology/2HeadCut_New/XJ_headcut/trainset/train_images/XJTs0046.png', '/home/ubuntu/codes/radiology/2HeadCut_New/XJ_headcut/trainset/train_images/XJTr0290.png', '/home/ubuntu/codes/radiology/2HeadCut_New/XJ_headcut/trainset/train_images/XJTr0267.png', '/home/ubuntu/codes/radiology/2HeadCut_New/XJ_headcut/trainset/train_images/XJTr0154.png', '/home/ubuntu/codes/radiology/2HeadCut_New/XJ_headcut/trainset/train_images/XJTr0136.png', '/home/ubuntu/codes/radiology/2HeadCut_New/XJ_headcut/trainset/train_images/XJTr0215.png', '/home/ubuntu/codes/radiology/2HeadCut_New/XJ_headcut/trainset/train_images/XJTr0026.png', '/home/ubuntu/codes/radiology/2HeadCut_New/XJ_headcut/trainset/train_images/XJTr0499.png', '/home/ubuntu/codes/radiology/2HeadCut_New/XJ_headcut/trainset/train_images/XJTr0455.png', '/home/ubuntu/codes/radiology/2HeadCut_New/XJ_headcut/trainset/train_images/XJTr0351.png', '/home/ubuntu/codes/radiology/2HeadCut_New/XJ_headcut/trainset/train_images/XJTr0174.png', '/home/ubuntu/codes/radiology/2HeadCut_New/XJ_headcut/trainset/train_images/XJTr0028.png', '/home/ubuntu/codes/radiology/2HeadCut_New/XJ_headcut/trainset/train_images/XJTr0325.png', '/home/ubuntu/codes/radiology/2HeadCut_New/XJ_headcut/trainset/train_images/XJTr0102.png', '/home/ubuntu/codes/radiology/2HeadCut_New/XJ_headcut/trainset/train_images/XJTs0019.png', '/home/ubuntu/codes/radiology/2HeadCut_New/XJ_headcut/trainset/train_images/XJTr0470.png', '/home/ubuntu/codes/radiology/2HeadCut_New/XJ_headcut/trainset/train_images/XJTr0394.png', '/home/ubuntu/codes/radiology/2HeadCut_New/XJ_headcut/trainset/train_images/XJTr0422.png', '/home/ubuntu/codes/radiology/2HeadCut_New/XJ_headcut/trainset/train_images/XJTr0043.png', '/home/ubuntu/codes/radiology/2HeadCut_New/XJ_headcut/trainset/train_images/XJTr0141.png', '/home/ubuntu/codes/radiology/2HeadCut_New/XJ_headcut/trainset/train_images/XJTr0429.png', '/home/ubuntu/codes/radiology/2HeadCut_New/XJ_headcut/trainset/train_images/XJTr0275.png', '/home/ubuntu/codes/radiology/2HeadCut_New/XJ_headcut/trainset/train_images/XJTr0040.png', '/home/ubuntu/codes/radiology/2HeadCut_New/XJ_headcut/trainset/train_images/XJTs0048.png', '/home/ubuntu/codes/radiology/2HeadCut_New/XJ_headcut/trainset/train_images/XJTr0477.png', '/home/ubuntu/codes/radiology/2HeadCut_New/XJ_headcut/trainset/train_images/XJTr0393.png', '/home/ubuntu/codes/radiology/2HeadCut_New/XJ_headcut/trainset/train_images/XJTr0065.png', '/home/ubuntu/codes/radiology/2HeadCut_New/XJ_headcut/trainset/train_images/XJTr0152.png', '/home/ubuntu/codes/radiology/2HeadCut_New/XJ_headcut/trainset/train_images/XJTr0107.png', '/home/ubuntu/codes/radiology/2HeadCut_New/XJ_headcut/trainset/train_images/XJTr0442.png', '/home/ubuntu/codes/radiology/2HeadCut_New/XJ_headcut/trainset/train_images/XJTr0109.png', '/home/ubuntu/codes/radiology/2HeadCut_New/XJ_headcut/trainset/train_images/XJTr0079.png', '/home/ubuntu/codes/radiology/2HeadCut_New/XJ_headcut/trainset/train_images/XJTr0095.png', '/home/ubuntu/codes/radiology/2HeadCut_New/XJ_headcut/trainset/train_images/XJTr0184.png', '/home/ubuntu/codes/radiology/2HeadCut_New/XJ_headcut/trainset/train_images/XJTr0448.png', '/home/ubuntu/codes/radiology/2HeadCut_New/XJ_headcut/trainset/train_images/XJTr0245.png', '/home/ubuntu/codes/radiology/2HeadCut_New/XJ_headcut/trainset/train_images/XJTr0069.png', '/home/ubuntu/codes/radiology/2HeadCut_New/XJ_headcut/trainset/train_images/XJTr0046.png', '/home/ubuntu/codes/radiology/2HeadCut_New/XJ_headcut/trainset/train_images/XJTr0127.png', '/home/ubuntu/codes/radiology/2HeadCut_New/XJ_headcut/trainset/train_images/XJTr0199.png', '/home/ubuntu/codes/radiology/2HeadCut_New/XJ_headcut/trainset/train_images/XJTr0022.png', '/home/ubuntu/codes/radiology/2HeadCut_New/XJ_headcut/trainset/train_images/XJTr0299.png', '/home/ubuntu/codes/radiology/2HeadCut_New/XJ_headcut/trainset/train_images/XJTs0035.png', '/home/ubuntu/codes/radiology/2HeadCut_New/XJ_headcut/trainset/train_images/XJTr0067.png', '/home/ubuntu/codes/radiology/2HeadCut_New/XJ_headcut/trainset/train_images/XJTr0094.png', '/home/ubuntu/codes/radiology/2HeadCut_New/XJ_headcut/trainset/train_images/XJTr0369.png', '/home/ubuntu/codes/radiology/2HeadCut_New/XJ_headcut/trainset/train_images/XJTr0209.png', '/home/ubuntu/codes/radiology/2HeadCut_New/XJ_headcut/trainset/train_images/XJTr0395.png', '/home/ubuntu/codes/radiology/2HeadCut_New/XJ_headcut/trainset/train_images/XJTs0003.png', '/home/ubuntu/codes/radiology/2HeadCut_New/XJ_headcut/trainset/train_images/XJTr0023.png', '/home/ubuntu/codes/radiology/2HeadCut_New/XJ_headcut/trainset/train_images/XJTr0354.png', '/home/ubuntu/codes/radiology/2HeadCut_New/XJ_headcut/trainset/train_images/XJTs0006.png', '/home/ubuntu/codes/radiology/2HeadCut_New/XJ_headcut/trainset/train_images/XJTr0414.png', '/home/ubuntu/codes/radiology/2HeadCut_New/XJ_headcut/trainset/train_images/XJTr0145.png', '/home/ubuntu/codes/radiology/2HeadCut_New/XJ_headcut/trainset/train_images/XJTr0120.png', '/home/ubuntu/codes/radiology/2HeadCut_New/XJ_headcut/trainset/train_images/XJTr0456.png', '/home/ubuntu/codes/radiology/2HeadCut_New/XJ_headcut/trainset/train_images/XJTr0157.png', '/home/ubuntu/codes/radiology/2HeadCut_New/XJ_headcut/trainset/train_images/XJTr0098.png', '/home/ubuntu/codes/radiology/2HeadCut_New/XJ_headcut/trainset/train_images/XJTr0027.png', '/home/ubuntu/codes/radiology/2HeadCut_New/XJ_headcut/trainset/train_images/XJTr0303.png', '/home/ubuntu/codes/radiology/2HeadCut_New/XJ_headcut/trainset/train_images/XJTr0155.png', '/home/ubuntu/codes/radiology/2HeadCut_New/XJ_headcut/trainset/train_images/XJTr0206.png', '/home/ubuntu/codes/radiology/2HeadCut_New/XJ_headcut/trainset/train_images/XJTr0191.png', '/home/ubuntu/codes/radiology/2HeadCut_New/XJ_headcut/trainset/train_images/XJTs0065.png', '/home/ubuntu/codes/radiology/2HeadCut_New/XJ_headcut/trainset/train_images/XJTr0401.png', '/home/ubuntu/codes/radiology/2HeadCut_New/XJ_headcut/trainset/train_images/XJTr0188.png', '/home/ubuntu/codes/radiology/2HeadCut_New/XJ_headcut/trainset/train_images/XJTr0179.png', '/home/ubuntu/codes/radiology/2HeadCut_New/XJ_headcut/trainset/train_images/XJTr0399.png', '/home/ubuntu/codes/radiology/2HeadCut_New/XJ_headcut/trainset/train_images/XJTs0002.png', '/home/ubuntu/codes/radiology/2HeadCut_New/XJ_headcut/trainset/train_images/XJTr0424.png', '/home/ubuntu/codes/radiology/2HeadCut_New/XJ_headcut/trainset/train_images/XJTr0223.png', '/home/ubuntu/codes/radiology/2HeadCut_New/XJ_headcut/trainset/train_images/XJTr0384.png', '/home/ubuntu/codes/radiology/2HeadCut_New/XJ_headcut/trainset/train_images/XJTs0056.png', '/home/ubuntu/codes/radiology/2HeadCut_New/XJ_headcut/trainset/train_images/XJTr0276.png', '/home/ubuntu/codes/radiology/2HeadCut_New/XJ_headcut/trainset/train_images/XJTr0183.png', '/home/ubuntu/codes/radiology/2HeadCut_New/XJ_headcut/trainset/train_images/XJTr0020.png', '/home/ubuntu/codes/radiology/2HeadCut_New/XJ_headcut/trainset/train_images/XJTr0480.png', '/home/ubuntu/codes/radiology/2HeadCut_New/XJ_headcut/trainset/train_images/XJTr0108.png', '/home/ubuntu/codes/radiology/2HeadCut_New/XJ_headcut/trainset/train_images/XJTr0147.png', '/home/ubuntu/codes/radiology/2HeadCut_New/XJ_headcut/trainset/train_images/XJTr0365.png', '/home/ubuntu/codes/radiology/2HeadCut_New/XJ_headcut/trainset/train_images/XJTs0060.png', '/home/ubuntu/codes/radiology/2HeadCut_New/XJ_headcut/trainset/train_images/XJTr0093.png', '/home/ubuntu/codes/radiology/2HeadCut_New/XJ_headcut/trainset/train_images/XJTr0346.png', '/home/ubuntu/codes/radiology/2HeadCut_New/XJ_headcut/trainset/train_images/XJTr0171.png', '/home/ubuntu/codes/radiology/2HeadCut_New/XJ_headcut/trainset/train_images/XJTr0238.png', '/home/ubuntu/codes/radiology/2HeadCut_New/XJ_headcut/trainset/train_images/XJTr0334.png', '/home/ubuntu/codes/radiology/2HeadCut_New/XJ_headcut/trainset/train_images/XJTr0084.png', '/home/ubuntu/codes/radiology/2HeadCut_New/XJ_headcut/trainset/train_images/XJTr0081.png', '/home/ubuntu/codes/radiology/2HeadCut_New/XJ_headcut/trainset/train_images/XJTr0236.png', '/home/ubuntu/codes/radiology/2HeadCut_New/XJ_headcut/trainset/train_images/XJTr0100.png', '/home/ubuntu/codes/radiology/2HeadCut_New/XJ_headcut/trainset/train_images/XJTr0180.png', '/home/ubuntu/codes/radiology/2HeadCut_New/XJ_headcut/trainset/train_images/XJTr0301.png', '/home/ubuntu/codes/radiology/2HeadCut_New/XJ_headcut/trainset/train_images/XJTs0059.png', '/home/ubuntu/codes/radiology/2HeadCut_New/XJ_headcut/trainset/train_images/XJTr0078.png', '/home/ubuntu/codes/radiology/2HeadCut_New/XJ_headcut/trainset/train_images/XJTr0130.png', '/home/ubuntu/codes/radiology/2HeadCut_New/XJ_headcut/trainset/train_images/XJTr0185.png', '/home/ubuntu/codes/radiology/2HeadCut_New/XJ_headcut/trainset/train_images/XJTr0338.png', '/home/ubuntu/codes/radiology/2HeadCut_New/XJ_headcut/trainset/train_images/XJTr0222.png', '/home/ubuntu/codes/radiology/2HeadCut_New/XJ_headcut/trainset/train_images/XJTr0340.png', '/home/ubuntu/codes/radiology/2HeadCut_New/XJ_headcut/trainset/train_images/XJTr0063.png', '/home/ubuntu/codes/radiology/2HeadCut_New/XJ_headcut/trainset/train_images/XJTr0039.png', '/home/ubuntu/codes/radiology/2HeadCut_New/XJ_headcut/trainset/train_images/XJTr0105.png', '/home/ubuntu/codes/radiology/2HeadCut_New/XJ_headcut/trainset/train_images/XJTr0272.png', '/home/ubuntu/codes/radiology/2HeadCut_New/XJ_headcut/trainset/train_images/XJTs0014.png', '/home/ubuntu/codes/radiology/2HeadCut_New/XJ_headcut/trainset/train_images/XJTs0012.png', '/home/ubuntu/codes/radiology/2HeadCut_New/XJ_headcut/trainset/train_images/XJTr0356.png', '/home/ubuntu/codes/radiology/2HeadCut_New/XJ_headcut/trainset/train_images/XJTr0059.png', '/home/ubuntu/codes/radiology/2HeadCut_New/XJ_headcut/trainset/train_images/XJTr0050.png', '/home/ubuntu/codes/radiology/2HeadCut_New/XJ_headcut/trainset/train_images/XJTr0137.png', '/home/ubuntu/codes/radiology/2HeadCut_New/XJ_headcut/trainset/train_images/XJTr0454.png', '/home/ubuntu/codes/radiology/2HeadCut_New/XJ_headcut/trainset/train_images/XJTr0029.png', '/home/ubuntu/codes/radiology/2HeadCut_New/XJ_headcut/trainset/train_images/XJTr0277.png', '/home/ubuntu/codes/radiology/2HeadCut_New/XJ_headcut/trainset/train_images/XJTs0050.png', '/home/ubuntu/codes/radiology/2HeadCut_New/XJ_headcut/trainset/train_images/XJTr0003.png', '/home/ubuntu/codes/radiology/2HeadCut_New/XJ_headcut/trainset/train_images/XJTr0055.png', '/home/ubuntu/codes/radiology/2HeadCut_New/XJ_headcut/trainset/train_images/XJTr0324.png', '/home/ubuntu/codes/radiology/2HeadCut_New/XJ_headcut/trainset/train_images/XJTr0019.png', '/home/ubuntu/codes/radiology/2HeadCut_New/XJ_headcut/trainset/train_images/XJTr0294.png', '/home/ubuntu/codes/radiology/2HeadCut_New/XJ_headcut/trainset/train_images/XJTr0366.png', '/home/ubuntu/codes/radiology/2HeadCut_New/XJ_headcut/trainset/train_images/XJTr0421.png', '/home/ubuntu/codes/radiology/2HeadCut_New/XJ_headcut/trainset/train_images/XJTr0403.png', '/home/ubuntu/codes/radiology/2HeadCut_New/XJ_headcut/trainset/train_images/XJTr0293.png', '/home/ubuntu/codes/radiology/2HeadCut_New/XJ_headcut/trainset/train_images/XJTr0400.png', '/home/ubuntu/codes/radiology/2HeadCut_New/XJ_headcut/trainset/train_images/XJTr0048.png', '/home/ubuntu/codes/radiology/2HeadCut_New/XJ_headcut/trainset/train_images/XJTr0352.png', '/home/ubuntu/codes/radiology/2HeadCut_New/XJ_headcut/trainset/train_images/XJTr0425.png', '/home/ubuntu/codes/radiology/2HeadCut_New/XJ_headcut/trainset/train_images/XJTs0062.png', '/home/ubuntu/codes/radiology/2HeadCut_New/XJ_headcut/trainset/train_images/XJTr0198.png', '/home/ubuntu/codes/radiology/2HeadCut_New/XJ_headcut/trainset/train_images/XJTr0138.png', '/home/ubuntu/codes/radiology/2HeadCut_New/XJ_headcut/trainset/train_images/XJTr0085.png', '/home/ubuntu/codes/radiology/2HeadCut_New/XJ_headcut/trainset/train_images/XJTr0335.png', '/home/ubuntu/codes/radiology/2HeadCut_New/XJ_headcut/trainset/train_images/XJTr0083.png', '/home/ubuntu/codes/radiology/2HeadCut_New/XJ_headcut/trainset/train_labels/XJTr0015.png', '/home/ubuntu/codes/radiology/2HeadCut_New/XJ_headcut/trainset/train_labels/XJTr0368.png', '/home/ubuntu/codes/radiology/2HeadCut_New/XJ_headcut/trainset/train_labels/XJTr0402.png', '/home/ubuntu/codes/radiology/2HeadCut_New/XJ_headcut/trainset/train_labels/XJTr0350.png', '/home/ubuntu/codes/radiology/2HeadCut_New/XJ_headcut/trainset/train_labels/XJTr0045.png', '/home/ubuntu/codes/radiology/2HeadCut_New/XJ_headcut/trainset/train_labels/XJTs0057.png', '/home/ubuntu/codes/radiology/2HeadCut_New/XJ_headcut/trainset/train_labels/XJTs0031.png', '/home/ubuntu/codes/radiology/2HeadCut_New/XJ_headcut/trainset/train_labels/XJTr0089.png', '/home/ubuntu/codes/radiology/2HeadCut_New/XJ_headcut/trainset/train_labels/XJTr0419.png', '/home/ubuntu/codes/radiology/2HeadCut_New/XJ_headcut/trainset/train_labels/XJTr0478.png', '/home/ubuntu/codes/radiology/2HeadCut_New/XJ_headcut/trainset/train_labels/XJTr0175.png', '/home/ubuntu/codes/radiology/2HeadCut_New/XJ_headcut/trainset/train_labels/XJTr0207.png', '/home/ubuntu/codes/radiology/2HeadCut_New/XJ_headcut/trainset/train_labels/XJTr0463.png', '/home/ubuntu/codes/radiology/2HeadCut_New/XJ_headcut/trainset/train_labels/XJTr0190.png', '/home/ubuntu/codes/radiology/2HeadCut_New/XJ_headcut/trainset/train_labels/XJTr0113.png', '/home/ubuntu/codes/radiology/2HeadCut_New/XJ_headcut/trainset/train_labels/XJTr0343.png', '/home/ubuntu/codes/radiology/2HeadCut_New/XJ_headcut/trainset/train_labels/XJTr0007.png', '/home/ubuntu/codes/radiology/2HeadCut_New/XJ_headcut/trainset/train_labels/XJTr0073.png', '/home/ubuntu/codes/radiology/2HeadCut_New/XJ_headcut/trainset/train_labels/XJTr0282.png', '/home/ubuntu/codes/radiology/2HeadCut_New/XJ_headcut/trainset/train_labels/XJTr0302.png', '/home/ubuntu/codes/radiology/2HeadCut_New/XJ_headcut/trainset/train_labels/XJTs0020.png', '/home/ubuntu/codes/radiology/2HeadCut_New/XJ_headcut/trainset/train_labels/XJTr0014.png', '/home/ubuntu/codes/radiology/2HeadCut_New/XJ_headcut/trainset/train_labels/XJTr0034.png', '/home/ubuntu/codes/radiology/2HeadCut_New/XJ_headcut/trainset/train_labels/XJTr0064.png', '/home/ubuntu/codes/radiology/2HeadCut_New/XJ_headcut/trainset/train_labels/XJTr0490.png', '/home/ubuntu/codes/radiology/2HeadCut_New/XJ_headcut/trainset/train_labels/XJTr0457.png', '/home/ubuntu/codes/radiology/2HeadCut_New/XJ_headcut/trainset/train_labels/XJTr0386.png', '/home/ubuntu/codes/radiology/2HeadCut_New/XJ_headcut/trainset/train_labels/XJTr0375.png', '/home/ubuntu/codes/radiology/2HeadCut_New/XJ_headcut/trainset/train_labels/XJTr0219.png', '/home/ubuntu/codes/radiology/2HeadCut_New/XJ_headcut/trainset/train_labels/XJTs0010.png', '/home/ubuntu/codes/radiology/2HeadCut_New/XJ_headcut/trainset/train_labels/XJTr0291.png', '/home/ubuntu/codes/radiology/2HeadCut_New/XJ_headcut/trainset/train_labels/XJTr0385.png', '/home/ubuntu/codes/radiology/2HeadCut_New/XJ_headcut/trainset/train_labels/XJTr0008.png', '/home/ubuntu/codes/radiology/2HeadCut_New/XJ_headcut/trainset/train_labels/XJTr0103.png', '/home/ubuntu/codes/radiology/2HeadCut_New/XJ_headcut/trainset/train_labels/XJTr0018.png', '/home/ubuntu/codes/radiology/2HeadCut_New/XJ_headcut/trainset/train_labels/XJTr0458.png', '/home/ubuntu/codes/radiology/2HeadCut_New/XJ_headcut/trainset/train_labels/XJTr0251.png', '/home/ubuntu/codes/radiology/2HeadCut_New/XJ_headcut/trainset/train_labels/XJTr0160.png', '/home/ubuntu/codes/radiology/2HeadCut_New/XJ_headcut/trainset/train_labels/XJTr0353.png', '/home/ubuntu/codes/radiology/2HeadCut_New/XJ_headcut/trainset/train_labels/XJTr0306.png', '/home/ubuntu/codes/radiology/2HeadCut_New/XJ_headcut/trainset/train_labels/XJTr0377.png', '/home/ubuntu/codes/radiology/2HeadCut_New/XJ_headcut/trainset/train_labels/XJTr0409.png', '/home/ubuntu/codes/radiology/2HeadCut_New/XJ_headcut/trainset/train_labels/XJTr0288.png', '/home/ubuntu/codes/radiology/2HeadCut_New/XJ_headcut/trainset/train_labels/XJTr0349.png', '/home/ubuntu/codes/radiology/2HeadCut_New/XJ_headcut/trainset/train_labels/XJTr0310.png', '/home/ubuntu/codes/radiology/2HeadCut_New/XJ_headcut/trainset/train_labels/XJTr0280.png', '/home/ubuntu/codes/radiology/2HeadCut_New/XJ_headcut/trainset/train_labels/XJTr0410.png', '/home/ubuntu/codes/radiology/2HeadCut_New/XJ_headcut/trainset/train_labels/XJTr0122.png', '/home/ubuntu/codes/radiology/2HeadCut_New/XJ_headcut/trainset/train_labels/XJTr0119.png', '/home/ubuntu/codes/radiology/2HeadCut_New/XJ_headcut/trainset/train_labels/XJTr0218.png', '/home/ubuntu/codes/radiology/2HeadCut_New/XJ_headcut/trainset/train_labels/XJTr0134.png', '/home/ubuntu/codes/radiology/2HeadCut_New/XJ_headcut/trainset/train_labels/XJTr0203.png', '/home/ubuntu/codes/radiology/2HeadCut_New/XJ_headcut/trainset/train_labels/XJTr0432.png', '/home/ubuntu/codes/radiology/2HeadCut_New/XJ_headcut/trainset/train_labels/XJTr0381.png', '/home/ubuntu/codes/radiology/2HeadCut_New/XJ_headcut/trainset/train_labels/XJTr0220.png', '/home/ubuntu/codes/radiology/2HeadCut_New/XJ_headcut/trainset/train_labels/XJTr0443.png', '/home/ubuntu/codes/radiology/2HeadCut_New/XJ_headcut/trainset/train_labels/XJTr0278.png', '/home/ubuntu/codes/radiology/2HeadCut_New/XJ_headcut/trainset/train_labels/XJTr0321.png', '/home/ubuntu/codes/radiology/2HeadCut_New/XJ_headcut/trainset/train_labels/XJTr0364.png', '/home/ubuntu/codes/radiology/2HeadCut_New/XJ_headcut/trainset/train_labels/XJTs0018.png', '/home/ubuntu/codes/radiology/2HeadCut_New/XJ_headcut/trainset/train_labels/XJTr0101.png', '/home/ubuntu/codes/radiology/2HeadCut_New/XJ_headcut/trainset/train_labels/XJTr0397.png', '/home/ubuntu/codes/radiology/2HeadCut_New/XJ_headcut/trainset/train_labels/XJTr0481.png', '/home/ubuntu/codes/radiology/2HeadCut_New/XJ_headcut/trainset/train_labels/XJTr0304.png', '/home/ubuntu/codes/radiology/2HeadCut_New/XJ_headcut/trainset/train_labels/XJTr0428.png', '/home/ubuntu/codes/radiology/2HeadCut_New/XJ_headcut/trainset/train_labels/XJTr0217.png', '/home/ubuntu/codes/radiology/2HeadCut_New/XJ_headcut/trainset/train_labels/XJTr0423.png', '/home/ubuntu/codes/radiology/2HeadCut_New/XJ_headcut/trainset/train_labels/XJTr0202.png', '/home/ubuntu/codes/radiology/2HeadCut_New/XJ_headcut/trainset/train_labels/XJTr0002.png', '/home/ubuntu/codes/radiology/2HeadCut_New/XJ_headcut/trainset/train_labels/XJTr0445.png', '/home/ubuntu/codes/radiology/2HeadCut_New/XJ_headcut/trainset/train_labels/XJTr0230.png', '/home/ubuntu/codes/radiology/2HeadCut_New/XJ_headcut/trainset/train_labels/XJTr0378.png', '/home/ubuntu/codes/radiology/2HeadCut_New/XJ_headcut/trainset/train_labels/XJTr0211.png', '/home/ubuntu/codes/radiology/2HeadCut_New/XJ_headcut/trainset/train_labels/XJTr0249.png', '/home/ubuntu/codes/radiology/2HeadCut_New/XJ_headcut/trainset/train_labels/XJTr0413.png', '/home/ubuntu/codes/radiology/2HeadCut_New/XJ_headcut/trainset/train_labels/XJTs0037.png', '/home/ubuntu/codes/radiology/2HeadCut_New/XJ_headcut/trainset/train_labels/XJTs0016.png', '/home/ubuntu/codes/radiology/2HeadCut_New/XJ_headcut/trainset/train_labels/XJTr0077.png', '/home/ubuntu/codes/radiology/2HeadCut_New/XJ_headcut/trainset/train_labels/XJTr0355.png', '/home/ubuntu/codes/radiology/2HeadCut_New/XJ_headcut/trainset/train_labels/XJTr0038.png', '/home/ubuntu/codes/radiology/2HeadCut_New/XJ_headcut/trainset/train_labels/XJTr0268.png', '/home/ubuntu/codes/radiology/2HeadCut_New/XJ_headcut/trainset/train_labels/XJTr0307.png', '/home/ubuntu/codes/radiology/2HeadCut_New/XJ_headcut/trainset/train_labels/XJTr0459.png', '/home/ubuntu/codes/radiology/2HeadCut_New/XJ_headcut/trainset/train_labels/XJTr0133.png', '/home/ubuntu/codes/radiology/2HeadCut_New/XJ_headcut/trainset/train_labels/XJTs0061.png', '/home/ubuntu/codes/radiology/2HeadCut_New/XJ_headcut/trainset/train_labels/XJTr0146.png', '/home/ubuntu/codes/radiology/2HeadCut_New/XJ_headcut/trainset/train_labels/XJTr0379.png', '/home/ubuntu/codes/radiology/2HeadCut_New/XJ_headcut/trainset/train_labels/XJTr0176.png', '/home/ubuntu/codes/radiology/2HeadCut_New/XJ_headcut/trainset/train_labels/XJTr0074.png', '/home/ubuntu/codes/radiology/2HeadCut_New/XJ_headcut/trainset/train_labels/XJTr0358.png', '/home/ubuntu/codes/radiology/2HeadCut_New/XJ_headcut/trainset/train_labels/XJTr0416.png', '/home/ubuntu/codes/radiology/2HeadCut_New/XJ_headcut/trainset/train_labels/XJTr0150.png', '/home/ubuntu/codes/radiology/2HeadCut_New/XJ_headcut/trainset/train_labels/XJTr0112.png', '/home/ubuntu/codes/radiology/2HeadCut_New/XJ_headcut/trainset/train_labels/XJTr0266.png', '/home/ubuntu/codes/radiology/2HeadCut_New/XJ_headcut/trainset/train_labels/XJTr0342.png', '/home/ubuntu/codes/radiology/2HeadCut_New/XJ_headcut/trainset/train_labels/XJTr0415.png', '/home/ubuntu/codes/radiology/2HeadCut_New/XJ_headcut/trainset/train_labels/XJTs0013.png', '/home/ubuntu/codes/radiology/2HeadCut_New/XJ_headcut/trainset/train_labels/XJTs0052.png', '/home/ubuntu/codes/radiology/2HeadCut_New/XJ_headcut/trainset/train_labels/XJTr0017.png', '/home/ubuntu/codes/radiology/2HeadCut_New/XJ_headcut/trainset/train_labels/XJTr0057.png', '/home/ubuntu/codes/radiology/2HeadCut_New/XJ_headcut/trainset/train_labels/XJTr0006.png', '/home/ubuntu/codes/radiology/2HeadCut_New/XJ_headcut/trainset/train_labels/XJTr0407.png', '/home/ubuntu/codes/radiology/2HeadCut_New/XJ_headcut/trainset/train_labels/XJTr0269.png', '/home/ubuntu/codes/radiology/2HeadCut_New/XJ_headcut/trainset/train_labels/XJTs0043.png', '/home/ubuntu/codes/radiology/2HeadCut_New/XJ_headcut/trainset/train_labels/XJTs0055.png', '/home/ubuntu/codes/radiology/2HeadCut_New/XJ_headcut/trainset/train_labels/XJTr0033.png', '/home/ubuntu/codes/radiology/2HeadCut_New/XJ_headcut/trainset/train_labels/XJTr0060.png', '/home/ubuntu/codes/radiology/2HeadCut_New/XJ_headcut/trainset/train_labels/XJTr0305.png', '/home/ubuntu/codes/radiology/2HeadCut_New/XJ_headcut/trainset/train_labels/XJTr0128.png', '/home/ubuntu/codes/radiology/2HeadCut_New/XJ_headcut/trainset/train_labels/XJTr0076.png', '/home/ubuntu/codes/radiology/2HeadCut_New/XJ_headcut/trainset/train_labels/XJTs0039.png', '/home/ubuntu/codes/radiology/2HeadCut_New/XJ_headcut/trainset/train_labels/XJTr0186.png', '/home/ubuntu/codes/radiology/2HeadCut_New/XJ_headcut/trainset/train_labels/XJTr0462.png', '/home/ubuntu/codes/radiology/2HeadCut_New/XJ_headcut/trainset/train_labels/XJTr0259.png', '/home/ubuntu/codes/radiology/2HeadCut_New/XJ_headcut/trainset/train_labels/XJTr0032.png', '/home/ubuntu/codes/radiology/2HeadCut_New/XJ_headcut/trainset/train_labels/XJTr0273.png', '/home/ubuntu/codes/radiology/2HeadCut_New/XJ_headcut/trainset/train_labels/XJTr0308.png', '/home/ubuntu/codes/radiology/2HeadCut_New/XJ_headcut/trainset/train_labels/XJTr0052.png', '/home/ubuntu/codes/radiology/2HeadCut_New/XJ_headcut/trainset/train_labels/XJTs0005.png', '/home/ubuntu/codes/radiology/2HeadCut_New/XJ_headcut/trainset/train_labels/XJTr0493.png', '/home/ubuntu/codes/radiology/2HeadCut_New/XJ_headcut/trainset/train_labels/XJTr0189.png', '/home/ubuntu/codes/radiology/2HeadCut_New/XJ_headcut/trainset/train_labels/XJTr0012.png', '/home/ubuntu/codes/radiology/2HeadCut_New/XJ_headcut/trainset/train_labels/XJTr0165.png', '/home/ubuntu/codes/radiology/2HeadCut_New/XJ_headcut/trainset/train_labels/XJTr0466.png', '/home/ubuntu/codes/radiology/2HeadCut_New/XJ_headcut/trainset/train_labels/XJTr0153.png', '/home/ubuntu/codes/radiology/2HeadCut_New/XJ_headcut/trainset/train_labels/XJTr0391.png', '/home/ubuntu/codes/radiology/2HeadCut_New/XJ_headcut/trainset/train_labels/XJTr0339.png', '/home/ubuntu/codes/radiology/2HeadCut_New/XJ_headcut/trainset/train_labels/XJTs0008.png', '/home/ubuntu/codes/radiology/2HeadCut_New/XJ_headcut/trainset/train_labels/XJTr0169.png', '/home/ubuntu/codes/radiology/2HeadCut_New/XJ_headcut/trainset/train_labels/XJTr0214.png', '/home/ubuntu/codes/radiology/2HeadCut_New/XJ_headcut/trainset/train_labels/XJTr0213.png', '/home/ubuntu/codes/radiology/2HeadCut_New/XJ_headcut/trainset/train_labels/XJTr0061.png', '/home/ubuntu/codes/radiology/2HeadCut_New/XJ_headcut/trainset/train_labels/XJTr0318.png', '/home/ubuntu/codes/radiology/2HeadCut_New/XJ_headcut/trainset/train_labels/XJTs0034.png', '/home/ubuntu/codes/radiology/2HeadCut_New/XJ_headcut/trainset/train_labels/XJTr0158.png', '/home/ubuntu/codes/radiology/2HeadCut_New/XJ_headcut/trainset/train_labels/XJTr0106.png', '/home/ubuntu/codes/radiology/2HeadCut_New/XJ_headcut/trainset/train_labels/XJTr0035.png', '/home/ubuntu/codes/radiology/2HeadCut_New/XJ_headcut/trainset/train_labels/XJTr0037.png', '/home/ubuntu/codes/radiology/2HeadCut_New/XJ_headcut/trainset/train_labels/XJTr0246.png', '/home/ubuntu/codes/radiology/2HeadCut_New/XJ_headcut/trainset/train_labels/XJTr0070.png', '/home/ubuntu/codes/radiology/2HeadCut_New/XJ_headcut/trainset/train_labels/XJTr0322.png', '/home/ubuntu/codes/radiology/2HeadCut_New/XJ_headcut/trainset/train_labels/XJTr0168.png', '/home/ubuntu/codes/radiology/2HeadCut_New/XJ_headcut/trainset/train_labels/XJTr0287.png', '/home/ubuntu/codes/radiology/2HeadCut_New/XJ_headcut/trainset/train_labels/XJTr0263.png', '/home/ubuntu/codes/radiology/2HeadCut_New/XJ_headcut/trainset/train_labels/XJTr0233.png', '/home/ubuntu/codes/radiology/2HeadCut_New/XJ_headcut/trainset/train_labels/XJTr0382.png', '/home/ubuntu/codes/radiology/2HeadCut_New/XJ_headcut/trainset/train_labels/XJTr0053.png', '/home/ubuntu/codes/radiology/2HeadCut_New/XJ_headcut/trainset/train_labels/XJTr0328.png', '/home/ubuntu/codes/radiology/2HeadCut_New/XJ_headcut/trainset/train_labels/XJTr0087.png', '/home/ubuntu/codes/radiology/2HeadCut_New/XJ_headcut/trainset/train_labels/XJTr0492.png', '/home/ubuntu/codes/radiology/2HeadCut_New/XJ_headcut/trainset/train_labels/XJTr0373.png', '/home/ubuntu/codes/radiology/2HeadCut_New/XJ_headcut/trainset/train_labels/XJTr0172.png', '/home/ubuntu/codes/radiology/2HeadCut_New/XJ_headcut/trainset/train_labels/XJTr0062.png', '/home/ubuntu/codes/radiology/2HeadCut_New/XJ_headcut/trainset/train_labels/XJTr0333.png', '/home/ubuntu/codes/radiology/2HeadCut_New/XJ_headcut/trainset/train_labels/XJTs0026.png', '/home/ubuntu/codes/radiology/2HeadCut_New/XJ_headcut/trainset/train_labels/XJTr0426.png', '/home/ubuntu/codes/radiology/2HeadCut_New/XJ_headcut/trainset/train_labels/XJTr0086.png', '/home/ubuntu/codes/radiology/2HeadCut_New/XJ_headcut/trainset/train_labels/XJTr0187.png', '/home/ubuntu/codes/radiology/2HeadCut_New/XJ_headcut/trainset/train_labels/XJTr0071.png', '/home/ubuntu/codes/radiology/2HeadCut_New/XJ_headcut/trainset/train_labels/XJTs0038.png', '/home/ubuntu/codes/radiology/2HeadCut_New/XJ_headcut/trainset/train_labels/XJTr0372.png', '/home/ubuntu/codes/radiology/2HeadCut_New/XJ_headcut/trainset/train_labels/XJTs0063.png', '/home/ubuntu/codes/radiology/2HeadCut_New/XJ_headcut/trainset/train_labels/XJTr0173.png', '/home/ubuntu/codes/radiology/2HeadCut_New/XJ_headcut/trainset/train_labels/XJTr0164.png', '/home/ubuntu/codes/radiology/2HeadCut_New/XJ_headcut/trainset/train_labels/XJTr0332.png', '/home/ubuntu/codes/radiology/2HeadCut_New/XJ_headcut/trainset/train_labels/XJTs0041.png', '/home/ubuntu/codes/radiology/2HeadCut_New/XJ_headcut/trainset/train_labels/XJTs0017.png', '/home/ubuntu/codes/radiology/2HeadCut_New/XJ_headcut/trainset/train_labels/XJTr0314.png', '/home/ubuntu/codes/radiology/2HeadCut_New/XJ_headcut/trainset/train_labels/XJTs0042.png', '/home/ubuntu/codes/radiology/2HeadCut_New/XJ_headcut/trainset/train_labels/XJTs0022.png', '/home/ubuntu/codes/radiology/2HeadCut_New/XJ_headcut/trainset/train_labels/XJTr0041.png', '/home/ubuntu/codes/radiology/2HeadCut_New/XJ_headcut/trainset/train_labels/XJTr0132.png', '/home/ubuntu/codes/radiology/2HeadCut_New/XJ_headcut/trainset/train_labels/XJTr0336.png', '/home/ubuntu/codes/radiology/2HeadCut_New/XJ_headcut/trainset/train_labels/XJTr0450.png', '/home/ubuntu/codes/radiology/2HeadCut_New/XJ_headcut/trainset/train_labels/XJTr0341.png', '/home/ubuntu/codes/radiology/2HeadCut_New/XJ_headcut/trainset/train_labels/XJTr0135.png', '/home/ubuntu/codes/radiology/2HeadCut_New/XJ_headcut/trainset/train_labels/XJTr0494.png', '/home/ubuntu/codes/radiology/2HeadCut_New/XJ_headcut/trainset/train_labels/XJTr0080.png', '/home/ubuntu/codes/radiology/2HeadCut_New/XJ_headcut/trainset/train_labels/XJTs0024.png', '/home/ubuntu/codes/radiology/2HeadCut_New/XJ_headcut/trainset/train_labels/XJTr0329.png', '/home/ubuntu/codes/radiology/2HeadCut_New/XJ_headcut/trainset/train_labels/XJTr0420.png', '/home/ubuntu/codes/radiology/2HeadCut_New/XJ_headcut/trainset/train_labels/XJTr0036.png', '/home/ubuntu/codes/radiology/2HeadCut_New/XJ_headcut/trainset/train_labels/XJTr0123.png', '/home/ubuntu/codes/radiology/2HeadCut_New/XJ_headcut/trainset/train_labels/XJTr0363.png', '/home/ubuntu/codes/radiology/2HeadCut_New/XJ_headcut/trainset/train_labels/XJTr0347.png', '/home/ubuntu/codes/radiology/2HeadCut_New/XJ_headcut/trainset/train_labels/XJTr0388.png', '/home/ubuntu/codes/radiology/2HeadCut_New/XJ_headcut/trainset/train_labels/XJTr0412.png', '/home/ubuntu/codes/radiology/2HeadCut_New/XJ_headcut/trainset/train_labels/XJTr0193.png', '/home/ubuntu/codes/radiology/2HeadCut_New/XJ_headcut/trainset/train_labels/XJTr0170.png', '/home/ubuntu/codes/radiology/2HeadCut_New/XJ_headcut/trainset/train_labels/XJTr0371.png', '/home/ubuntu/codes/radiology/2HeadCut_New/XJ_headcut/trainset/train_labels/XJTr0418.png', '/home/ubuntu/codes/radiology/2HeadCut_New/XJ_headcut/trainset/train_labels/XJTr0464.png', '/home/ubuntu/codes/radiology/2HeadCut_New/XJ_headcut/trainset/train_labels/XJTr0374.png', '/home/ubuntu/codes/radiology/2HeadCut_New/XJ_headcut/trainset/train_labels/XJTr0326.png', '/home/ubuntu/codes/radiology/2HeadCut_New/XJ_headcut/trainset/train_labels/XJTr0234.png', '/home/ubuntu/codes/radiology/2HeadCut_New/XJ_headcut/trainset/train_labels/XJTr0265.png', '/home/ubuntu/codes/radiology/2HeadCut_New/XJ_headcut/trainset/train_labels/XJTs0015.png', '/home/ubuntu/codes/radiology/2HeadCut_New/XJ_headcut/trainset/train_labels/XJTr0408.png', '/home/ubuntu/codes/radiology/2HeadCut_New/XJ_headcut/trainset/train_labels/XJTr0431.png', '/home/ubuntu/codes/radiology/2HeadCut_New/XJ_headcut/trainset/train_labels/XJTr0216.png', '/home/ubuntu/codes/radiology/2HeadCut_New/XJ_headcut/trainset/train_labels/XJTr0298.png', '/home/ubuntu/codes/radiology/2HeadCut_New/XJ_headcut/trainset/train_labels/XJTr0398.png', '/home/ubuntu/codes/radiology/2HeadCut_New/XJ_headcut/trainset/train_labels/XJTr0383.png', '/home/ubuntu/codes/radiology/2HeadCut_New/XJ_headcut/trainset/train_labels/XJTr0156.png', '/home/ubuntu/codes/radiology/2HeadCut_New/XJ_headcut/trainset/train_labels/XJTr0068.png', '/home/ubuntu/codes/radiology/2HeadCut_New/XJ_headcut/trainset/train_labels/XJTr0044.png', '/home/ubuntu/codes/radiology/2HeadCut_New/XJ_headcut/trainset/train_labels/XJTs0001.png', '/home/ubuntu/codes/radiology/2HeadCut_New/XJ_headcut/trainset/train_labels/XJTr0264.png', '/home/ubuntu/codes/radiology/2HeadCut_New/XJ_headcut/trainset/train_labels/XJTr0047.png', '/home/ubuntu/codes/radiology/2HeadCut_New/XJ_headcut/trainset/train_labels/XJTr0289.png', '/home/ubuntu/codes/radiology/2HeadCut_New/XJ_headcut/trainset/train_labels/XJTr0058.png', '/home/ubuntu/codes/radiology/2HeadCut_New/XJ_headcut/trainset/train_labels/XJTr0229.png', '/home/ubuntu/codes/radiology/2HeadCut_New/XJ_headcut/trainset/train_labels/XJTr0387.png', '/home/ubuntu/codes/radiology/2HeadCut_New/XJ_headcut/trainset/train_labels/XJTr0320.png', '/home/ubuntu/codes/radiology/2HeadCut_New/XJ_headcut/trainset/train_labels/XJTr0197.png', '/home/ubuntu/codes/radiology/2HeadCut_New/XJ_headcut/trainset/train_labels/XJTs0025.png', '/home/ubuntu/codes/radiology/2HeadCut_New/XJ_headcut/trainset/train_labels/XJTr0072.png', '/home/ubuntu/codes/radiology/2HeadCut_New/XJ_headcut/trainset/train_labels/XJTr0212.png', '/home/ubuntu/codes/radiology/2HeadCut_New/XJ_headcut/trainset/train_labels/XJTr0430.png', '/home/ubuntu/codes/radiology/2HeadCut_New/XJ_headcut/trainset/train_labels/XJTr0001.png', '/home/ubuntu/codes/radiology/2HeadCut_New/XJ_headcut/trainset/train_labels/XJTr0285.png', '/home/ubuntu/codes/radiology/2HeadCut_New/XJ_headcut/trainset/train_labels/XJTs0011.png', '/home/ubuntu/codes/radiology/2HeadCut_New/XJ_headcut/trainset/train_labels/XJTr0092.png', '/home/ubuntu/codes/radiology/2HeadCut_New/XJ_headcut/trainset/train_labels/XJTr0300.png', '/home/ubuntu/codes/radiology/2HeadCut_New/XJ_headcut/trainset/train_labels/XJTs0053.png', '/home/ubuntu/codes/radiology/2HeadCut_New/XJ_headcut/trainset/train_labels/XJTr0066.png', '/home/ubuntu/codes/radiology/2HeadCut_New/XJ_headcut/trainset/train_labels/XJTr0024.png', '/home/ubuntu/codes/radiology/2HeadCut_New/XJ_headcut/trainset/train_labels/XJTr0205.png', '/home/ubuntu/codes/radiology/2HeadCut_New/XJ_headcut/trainset/train_labels/XJTr0161.png', '/home/ubuntu/codes/radiology/2HeadCut_New/XJ_headcut/trainset/train_labels/XJTr0042.png', '/home/ubuntu/codes/radiology/2HeadCut_New/XJ_headcut/trainset/train_labels/XJTr0315.png', '/home/ubuntu/codes/radiology/2HeadCut_New/XJ_headcut/trainset/train_labels/XJTs0051.png', '/home/ubuntu/codes/radiology/2HeadCut_New/XJ_headcut/trainset/train_labels/XJTs0000.png', '/home/ubuntu/codes/radiology/2HeadCut_New/XJ_headcut/trainset/train_labels/XJTr0118.png', '/home/ubuntu/codes/radiology/2HeadCut_New/XJ_headcut/trainset/train_labels/XJTr0309.png', '/home/ubuntu/codes/radiology/2HeadCut_New/XJ_headcut/trainset/train_labels/XJTr0495.png', '/home/ubuntu/codes/radiology/2HeadCut_New/XJ_headcut/trainset/train_labels/XJTr0088.png', '/home/ubuntu/codes/radiology/2HeadCut_New/XJ_headcut/trainset/train_labels/XJTs0021.png', '/home/ubuntu/codes/radiology/2HeadCut_New/XJ_headcut/trainset/train_labels/XJTs0009.png', '/home/ubuntu/codes/radiology/2HeadCut_New/XJ_headcut/trainset/train_labels/XJTr0195.png', '/home/ubuntu/codes/radiology/2HeadCut_New/XJ_headcut/trainset/train_labels/XJTr0436.png', '/home/ubuntu/codes/radiology/2HeadCut_New/XJ_headcut/trainset/train_labels/XJTs0023.png', '/home/ubuntu/codes/radiology/2HeadCut_New/XJ_headcut/trainset/train_labels/XJTr0439.png', '/home/ubuntu/codes/radiology/2HeadCut_New/XJ_headcut/trainset/train_labels/XJTr0177.png', '/home/ubuntu/codes/radiology/2HeadCut_New/XJ_headcut/trainset/train_labels/XJTr0323.png', '/home/ubuntu/codes/radiology/2HeadCut_New/XJ_headcut/trainset/train_labels/XJTs0044.png', '/home/ubuntu/codes/radiology/2HeadCut_New/XJ_headcut/trainset/train_labels/XJTr0345.png', '/home/ubuntu/codes/radiology/2HeadCut_New/XJ_headcut/trainset/train_labels/XJTr0090.png', '/home/ubuntu/codes/radiology/2HeadCut_New/XJ_headcut/trainset/train_labels/XJTs0027.png', '/home/ubuntu/codes/radiology/2HeadCut_New/XJ_headcut/trainset/train_labels/XJTs0054.png', '/home/ubuntu/codes/radiology/2HeadCut_New/XJ_headcut/trainset/train_labels/XJTr0054.png', '/home/ubuntu/codes/radiology/2HeadCut_New/XJ_headcut/trainset/train_labels/XJTr0396.png', '/home/ubuntu/codes/radiology/2HeadCut_New/XJ_headcut/trainset/train_labels/XJTr0417.png', '/home/ubuntu/codes/radiology/2HeadCut_New/XJ_headcut/trainset/train_labels/XJTr0437.png', '/home/ubuntu/codes/radiology/2HeadCut_New/XJ_headcut/trainset/train_labels/XJTr0201.png', '/home/ubuntu/codes/radiology/2HeadCut_New/XJ_headcut/trainset/train_labels/XJTr0461.png', '/home/ubuntu/codes/radiology/2HeadCut_New/XJ_headcut/trainset/train_labels/XJTr0049.png', '/home/ubuntu/codes/radiology/2HeadCut_New/XJ_headcut/trainset/train_labels/XJTr0438.png', '/home/ubuntu/codes/radiology/2HeadCut_New/XJ_headcut/trainset/train_labels/XJTr0051.png', '/home/ubuntu/codes/radiology/2HeadCut_New/XJ_headcut/trainset/train_labels/XJTr0465.png', '/home/ubuntu/codes/radiology/2HeadCut_New/XJ_headcut/trainset/train_labels/XJTr0013.png', '/home/ubuntu/codes/radiology/2HeadCut_New/XJ_headcut/trainset/train_labels/XJTs0029.png', '/home/ubuntu/codes/radiology/2HeadCut_New/XJ_headcut/trainset/train_labels/XJTr0449.png', '/home/ubuntu/codes/radiology/2HeadCut_New/XJ_headcut/trainset/train_labels/XJTr0091.png', '/home/ubuntu/codes/radiology/2HeadCut_New/XJ_headcut/trainset/train_labels/XJTr0244.png', '/home/ubuntu/codes/radiology/2HeadCut_New/XJ_headcut/trainset/train_labels/XJTr0200.png', '/home/ubuntu/codes/radiology/2HeadCut_New/XJ_headcut/trainset/train_labels/XJTr0021.png', '/home/ubuntu/codes/radiology/2HeadCut_New/XJ_headcut/trainset/train_labels/XJTr0390.png', '/home/ubuntu/codes/radiology/2HeadCut_New/XJ_headcut/trainset/train_labels/XJTr0210.png', '/home/ubuntu/codes/radiology/2HeadCut_New/XJ_headcut/trainset/train_labels/XJTr0270.png', '/home/ubuntu/codes/radiology/2HeadCut_New/XJ_headcut/trainset/train_labels/XJTr0444.png', '/home/ubuntu/codes/radiology/2HeadCut_New/XJ_headcut/trainset/train_labels/XJTr0056.png', '/home/ubuntu/codes/radiology/2HeadCut_New/XJ_headcut/trainset/train_labels/XJTr0250.png', '/home/ubuntu/codes/radiology/2HeadCut_New/XJ_headcut/trainset/train_labels/XJTr0142.png', '/home/ubuntu/codes/radiology/2HeadCut_New/XJ_headcut/trainset/train_labels/XJTr0469.png', '/home/ubuntu/codes/radiology/2HeadCut_New/XJ_headcut/trainset/train_labels/XJTr0030.png', '/home/ubuntu/codes/radiology/2HeadCut_New/XJ_headcut/trainset/train_labels/XJTr0475.png', '/home/ubuntu/codes/radiology/2HeadCut_New/XJ_headcut/trainset/train_labels/XJTr0274.png', '/home/ubuntu/codes/radiology/2HeadCut_New/XJ_headcut/trainset/train_labels/XJTr0097.png', '/home/ubuntu/codes/radiology/2HeadCut_New/XJ_headcut/trainset/train_labels/XJTs0007.png', '/home/ubuntu/codes/radiology/2HeadCut_New/XJ_headcut/trainset/train_labels/XJTr0440.png', '/home/ubuntu/codes/radiology/2HeadCut_New/XJ_headcut/trainset/train_labels/XJTr0111.png', '/home/ubuntu/codes/radiology/2HeadCut_New/XJ_headcut/trainset/train_labels/XJTs0028.png', '/home/ubuntu/codes/radiology/2HeadCut_New/XJ_headcut/trainset/train_labels/XJTs0030.png', '/home/ubuntu/codes/radiology/2HeadCut_New/XJ_headcut/trainset/train_labels/XJTr0316.png', '/home/ubuntu/codes/radiology/2HeadCut_New/XJ_headcut/trainset/train_labels/XJTr0295.png', '/home/ubuntu/codes/radiology/2HeadCut_New/XJ_headcut/trainset/train_labels/XJTr0474.png', '/home/ubuntu/codes/radiology/2HeadCut_New/XJ_headcut/trainset/train_labels/XJTs0040.png', '/home/ubuntu/codes/radiology/2HeadCut_New/XJ_headcut/trainset/train_labels/XJTr0405.png', '/home/ubuntu/codes/radiology/2HeadCut_New/XJ_headcut/trainset/train_labels/XJTr0392.png', '/home/ubuntu/codes/radiology/2HeadCut_New/XJ_headcut/trainset/train_labels/XJTr0144.png', '/home/ubuntu/codes/radiology/2HeadCut_New/XJ_headcut/trainset/train_labels/XJTr0000.png', '/home/ubuntu/codes/radiology/2HeadCut_New/XJ_headcut/trainset/train_labels/XJTr0441.png', '/home/ubuntu/codes/radiology/2HeadCut_New/XJ_headcut/trainset/train_labels/XJTr0099.png', '/home/ubuntu/codes/radiology/2HeadCut_New/XJ_headcut/trainset/train_labels/XJTr0434.png', '/home/ubuntu/codes/radiology/2HeadCut_New/XJ_headcut/trainset/train_labels/XJTr0433.png', '/home/ubuntu/codes/radiology/2HeadCut_New/XJ_headcut/trainset/train_labels/XJTr0279.png', '/home/ubuntu/codes/radiology/2HeadCut_New/XJ_headcut/trainset/train_labels/XJTr0313.png', '/home/ubuntu/codes/radiology/2HeadCut_New/XJ_headcut/trainset/train_labels/XJTr0167.png', '/home/ubuntu/codes/radiology/2HeadCut_New/XJ_headcut/trainset/train_labels/XJTr0359.png', '/home/ubuntu/codes/radiology/2HeadCut_New/XJ_headcut/trainset/train_labels/XJTr0082.png', '/home/ubuntu/codes/radiology/2HeadCut_New/XJ_headcut/trainset/train_labels/XJTr0260.png', '/home/ubuntu/codes/radiology/2HeadCut_New/XJ_headcut/trainset/train_labels/XJTr0181.png', '/home/ubuntu/codes/radiology/2HeadCut_New/XJ_headcut/trainset/train_labels/XJTr0104.png', '/home/ubuntu/codes/radiology/2HeadCut_New/XJ_headcut/trainset/train_labels/XJTr0148.png', '/home/ubuntu/codes/radiology/2HeadCut_New/XJ_headcut/trainset/train_labels/XJTr0292.png', '/home/ubuntu/codes/radiology/2HeadCut_New/XJ_headcut/trainset/train_labels/XJTs0058.png', '/home/ubuntu/codes/radiology/2HeadCut_New/XJ_headcut/trainset/train_labels/XJTr0296.png', '/home/ubuntu/codes/radiology/2HeadCut_New/XJ_headcut/trainset/train_labels/XJTr0252.png', '/home/ubuntu/codes/radiology/2HeadCut_New/XJ_headcut/trainset/train_labels/XJTr0406.png', '/home/ubuntu/codes/radiology/2HeadCut_New/XJ_headcut/trainset/train_labels/XJTs0045.png', '/home/ubuntu/codes/radiology/2HeadCut_New/XJ_headcut/trainset/train_labels/XJTr0232.png', '/home/ubuntu/codes/radiology/2HeadCut_New/XJ_headcut/trainset/train_labels/XJTr0483.png', '/home/ubuntu/codes/radiology/2HeadCut_New/XJ_headcut/trainset/train_labels/XJTr0151.png', '/home/ubuntu/codes/radiology/2HeadCut_New/XJ_headcut/trainset/train_labels/XJTr0312.png', '/home/ubuntu/codes/radiology/2HeadCut_New/XJ_headcut/trainset/train_labels/XJTr0344.png', '/home/ubuntu/codes/radiology/2HeadCut_New/XJ_headcut/trainset/train_labels/XJTr0204.png', '/home/ubuntu/codes/radiology/2HeadCut_New/XJ_headcut/trainset/train_labels/XJTs0046.png', '/home/ubuntu/codes/radiology/2HeadCut_New/XJ_headcut/trainset/train_labels/XJTr0290.png', '/home/ubuntu/codes/radiology/2HeadCut_New/XJ_headcut/trainset/train_labels/XJTr0267.png', '/home/ubuntu/codes/radiology/2HeadCut_New/XJ_headcut/trainset/train_labels/XJTr0154.png', '/home/ubuntu/codes/radiology/2HeadCut_New/XJ_headcut/trainset/train_labels/XJTr0136.png', '/home/ubuntu/codes/radiology/2HeadCut_New/XJ_headcut/trainset/train_labels/XJTr0215.png', '/home/ubuntu/codes/radiology/2HeadCut_New/XJ_headcut/trainset/train_labels/XJTr0026.png', '/home/ubuntu/codes/radiology/2HeadCut_New/XJ_headcut/trainset/train_labels/XJTr0499.png', '/home/ubuntu/codes/radiology/2HeadCut_New/XJ_headcut/trainset/train_labels/XJTr0455.png', '/home/ubuntu/codes/radiology/2HeadCut_New/XJ_headcut/trainset/train_labels/XJTr0351.png', '/home/ubuntu/codes/radiology/2HeadCut_New/XJ_headcut/trainset/train_labels/XJTr0174.png', '/home/ubuntu/codes/radiology/2HeadCut_New/XJ_headcut/trainset/train_labels/XJTr0028.png', '/home/ubuntu/codes/radiology/2HeadCut_New/XJ_headcut/trainset/train_labels/XJTr0325.png', '/home/ubuntu/codes/radiology/2HeadCut_New/XJ_headcut/trainset/train_labels/XJTr0102.png', '/home/ubuntu/codes/radiology/2HeadCut_New/XJ_headcut/trainset/train_labels/XJTs0019.png', '/home/ubuntu/codes/radiology/2HeadCut_New/XJ_headcut/trainset/train_labels/XJTr0470.png', '/home/ubuntu/codes/radiology/2HeadCut_New/XJ_headcut/trainset/train_labels/XJTr0394.png', '/home/ubuntu/codes/radiology/2HeadCut_New/XJ_headcut/trainset/train_labels/XJTr0422.png', '/home/ubuntu/codes/radiology/2HeadCut_New/XJ_headcut/trainset/train_labels/XJTr0043.png', '/home/ubuntu/codes/radiology/2HeadCut_New/XJ_headcut/trainset/train_labels/XJTr0141.png', '/home/ubuntu/codes/radiology/2HeadCut_New/XJ_headcut/trainset/train_labels/XJTr0429.png', '/home/ubuntu/codes/radiology/2HeadCut_New/XJ_headcut/trainset/train_labels/XJTr0275.png', '/home/ubuntu/codes/radiology/2HeadCut_New/XJ_headcut/trainset/train_labels/XJTr0040.png', '/home/ubuntu/codes/radiology/2HeadCut_New/XJ_headcut/trainset/train_labels/XJTs0048.png', '/home/ubuntu/codes/radiology/2HeadCut_New/XJ_headcut/trainset/train_labels/XJTr0477.png', '/home/ubuntu/codes/radiology/2HeadCut_New/XJ_headcut/trainset/train_labels/XJTr0393.png', '/home/ubuntu/codes/radiology/2HeadCut_New/XJ_headcut/trainset/train_labels/XJTr0065.png', '/home/ubuntu/codes/radiology/2HeadCut_New/XJ_headcut/trainset/train_labels/XJTr0152.png', '/home/ubuntu/codes/radiology/2HeadCut_New/XJ_headcut/trainset/train_labels/XJTr0107.png', '/home/ubuntu/codes/radiology/2HeadCut_New/XJ_headcut/trainset/train_labels/XJTr0442.png', '/home/ubuntu/codes/radiology/2HeadCut_New/XJ_headcut/trainset/train_labels/XJTr0109.png', '/home/ubuntu/codes/radiology/2HeadCut_New/XJ_headcut/trainset/train_labels/XJTr0079.png', '/home/ubuntu/codes/radiology/2HeadCut_New/XJ_headcut/trainset/train_labels/XJTr0095.png', '/home/ubuntu/codes/radiology/2HeadCut_New/XJ_headcut/trainset/train_labels/XJTr0184.png', '/home/ubuntu/codes/radiology/2HeadCut_New/XJ_headcut/trainset/train_labels/XJTr0448.png', '/home/ubuntu/codes/radiology/2HeadCut_New/XJ_headcut/trainset/train_labels/XJTr0245.png', '/home/ubuntu/codes/radiology/2HeadCut_New/XJ_headcut/trainset/train_labels/XJTr0069.png', '/home/ubuntu/codes/radiology/2HeadCut_New/XJ_headcut/trainset/train_labels/XJTr0046.png', '/home/ubuntu/codes/radiology/2HeadCut_New/XJ_headcut/trainset/train_labels/XJTr0127.png', '/home/ubuntu/codes/radiology/2HeadCut_New/XJ_headcut/trainset/train_labels/XJTr0199.png', '/home/ubuntu/codes/radiology/2HeadCut_New/XJ_headcut/trainset/train_labels/XJTr0022.png', '/home/ubuntu/codes/radiology/2HeadCut_New/XJ_headcut/trainset/train_labels/XJTr0299.png', '/home/ubuntu/codes/radiology/2HeadCut_New/XJ_headcut/trainset/train_labels/XJTs0035.png', '/home/ubuntu/codes/radiology/2HeadCut_New/XJ_headcut/trainset/train_labels/XJTr0067.png', '/home/ubuntu/codes/radiology/2HeadCut_New/XJ_headcut/trainset/train_labels/XJTr0094.png', '/home/ubuntu/codes/radiology/2HeadCut_New/XJ_headcut/trainset/train_labels/XJTr0369.png', '/home/ubuntu/codes/radiology/2HeadCut_New/XJ_headcut/trainset/train_labels/XJTr0209.png', '/home/ubuntu/codes/radiology/2HeadCut_New/XJ_headcut/trainset/train_labels/XJTr0395.png', '/home/ubuntu/codes/radiology/2HeadCut_New/XJ_headcut/trainset/train_labels/XJTs0003.png', '/home/ubuntu/codes/radiology/2HeadCut_New/XJ_headcut/trainset/train_labels/XJTr0023.png', '/home/ubuntu/codes/radiology/2HeadCut_New/XJ_headcut/trainset/train_labels/XJTr0354.png', '/home/ubuntu/codes/radiology/2HeadCut_New/XJ_headcut/trainset/train_labels/XJTs0006.png', '/home/ubuntu/codes/radiology/2HeadCut_New/XJ_headcut/trainset/train_labels/XJTr0414.png', '/home/ubuntu/codes/radiology/2HeadCut_New/XJ_headcut/trainset/train_labels/XJTr0145.png', '/home/ubuntu/codes/radiology/2HeadCut_New/XJ_headcut/trainset/train_labels/XJTr0120.png', '/home/ubuntu/codes/radiology/2HeadCut_New/XJ_headcut/trainset/train_labels/XJTr0456.png', '/home/ubuntu/codes/radiology/2HeadCut_New/XJ_headcut/trainset/train_labels/XJTr0157.png', '/home/ubuntu/codes/radiology/2HeadCut_New/XJ_headcut/trainset/train_labels/XJTr0098.png', '/home/ubuntu/codes/radiology/2HeadCut_New/XJ_headcut/trainset/train_labels/XJTr0027.png', '/home/ubuntu/codes/radiology/2HeadCut_New/XJ_headcut/trainset/train_labels/XJTr0303.png', '/home/ubuntu/codes/radiology/2HeadCut_New/XJ_headcut/trainset/train_labels/XJTr0155.png', '/home/ubuntu/codes/radiology/2HeadCut_New/XJ_headcut/trainset/train_labels/XJTr0206.png', '/home/ubuntu/codes/radiology/2HeadCut_New/XJ_headcut/trainset/train_labels/XJTr0191.png', '/home/ubuntu/codes/radiology/2HeadCut_New/XJ_headcut/trainset/train_labels/XJTs0065.png', '/home/ubuntu/codes/radiology/2HeadCut_New/XJ_headcut/trainset/train_labels/XJTr0401.png', '/home/ubuntu/codes/radiology/2HeadCut_New/XJ_headcut/trainset/train_labels/XJTr0188.png', '/home/ubuntu/codes/radiology/2HeadCut_New/XJ_headcut/trainset/train_labels/XJTr0179.png', '/home/ubuntu/codes/radiology/2HeadCut_New/XJ_headcut/trainset/train_labels/XJTr0399.png', '/home/ubuntu/codes/radiology/2HeadCut_New/XJ_headcut/trainset/train_labels/XJTs0002.png', '/home/ubuntu/codes/radiology/2HeadCut_New/XJ_headcut/trainset/train_labels/XJTr0424.png', '/home/ubuntu/codes/radiology/2HeadCut_New/XJ_headcut/trainset/train_labels/XJTr0223.png', '/home/ubuntu/codes/radiology/2HeadCut_New/XJ_headcut/trainset/train_labels/XJTr0384.png', '/home/ubuntu/codes/radiology/2HeadCut_New/XJ_headcut/trainset/train_labels/XJTs0056.png', '/home/ubuntu/codes/radiology/2HeadCut_New/XJ_headcut/trainset/train_labels/XJTr0276.png', '/home/ubuntu/codes/radiology/2HeadCut_New/XJ_headcut/trainset/train_labels/XJTr0183.png', '/home/ubuntu/codes/radiology/2HeadCut_New/XJ_headcut/trainset/train_labels/XJTr0020.png', '/home/ubuntu/codes/radiology/2HeadCut_New/XJ_headcut/trainset/train_labels/XJTr0480.png', '/home/ubuntu/codes/radiology/2HeadCut_New/XJ_headcut/trainset/train_labels/XJTr0108.png', '/home/ubuntu/codes/radiology/2HeadCut_New/XJ_headcut/trainset/train_labels/XJTr0147.png', '/home/ubuntu/codes/radiology/2HeadCut_New/XJ_headcut/trainset/train_labels/XJTr0365.png', '/home/ubuntu/codes/radiology/2HeadCut_New/XJ_headcut/trainset/train_labels/XJTs0060.png', '/home/ubuntu/codes/radiology/2HeadCut_New/XJ_headcut/trainset/train_labels/XJTr0093.png', '/home/ubuntu/codes/radiology/2HeadCut_New/XJ_headcut/trainset/train_labels/XJTr0346.png', '/home/ubuntu/codes/radiology/2HeadCut_New/XJ_headcut/trainset/train_labels/XJTr0171.png', '/home/ubuntu/codes/radiology/2HeadCut_New/XJ_headcut/trainset/train_labels/XJTr0238.png', '/home/ubuntu/codes/radiology/2HeadCut_New/XJ_headcut/trainset/train_labels/XJTr0334.png', '/home/ubuntu/codes/radiology/2HeadCut_New/XJ_headcut/trainset/train_labels/XJTr0084.png', '/home/ubuntu/codes/radiology/2HeadCut_New/XJ_headcut/trainset/train_labels/XJTr0081.png', '/home/ubuntu/codes/radiology/2HeadCut_New/XJ_headcut/trainset/train_labels/XJTr0236.png', '/home/ubuntu/codes/radiology/2HeadCut_New/XJ_headcut/trainset/train_labels/XJTr0100.png', '/home/ubuntu/codes/radiology/2HeadCut_New/XJ_headcut/trainset/train_labels/XJTr0180.png', '/home/ubuntu/codes/radiology/2HeadCut_New/XJ_headcut/trainset/train_labels/XJTr0301.png', '/home/ubuntu/codes/radiology/2HeadCut_New/XJ_headcut/trainset/train_labels/XJTs0059.png', '/home/ubuntu/codes/radiology/2HeadCut_New/XJ_headcut/trainset/train_labels/XJTr0078.png', '/home/ubuntu/codes/radiology/2HeadCut_New/XJ_headcut/trainset/train_labels/XJTr0130.png', '/home/ubuntu/codes/radiology/2HeadCut_New/XJ_headcut/trainset/train_labels/XJTr0185.png', '/home/ubuntu/codes/radiology/2HeadCut_New/XJ_headcut/trainset/train_labels/XJTr0338.png', '/home/ubuntu/codes/radiology/2HeadCut_New/XJ_headcut/trainset/train_labels/XJTr0222.png', '/home/ubuntu/codes/radiology/2HeadCut_New/XJ_headcut/trainset/train_labels/XJTr0340.png', '/home/ubuntu/codes/radiology/2HeadCut_New/XJ_headcut/trainset/train_labels/XJTr0063.png', '/home/ubuntu/codes/radiology/2HeadCut_New/XJ_headcut/trainset/train_labels/XJTr0039.png', '/home/ubuntu/codes/radiology/2HeadCut_New/XJ_headcut/trainset/train_labels/XJTr0105.png', '/home/ubuntu/codes/radiology/2HeadCut_New/XJ_headcut/trainset/train_labels/XJTr0272.png', '/home/ubuntu/codes/radiology/2HeadCut_New/XJ_headcut/trainset/train_labels/XJTs0014.png', '/home/ubuntu/codes/radiology/2HeadCut_New/XJ_headcut/trainset/train_labels/XJTs0012.png', '/home/ubuntu/codes/radiology/2HeadCut_New/XJ_headcut/trainset/train_labels/XJTr0356.png', '/home/ubuntu/codes/radiology/2HeadCut_New/XJ_headcut/trainset/train_labels/XJTr0059.png', '/home/ubuntu/codes/radiology/2HeadCut_New/XJ_headcut/trainset/train_labels/XJTr0050.png', '/home/ubuntu/codes/radiology/2HeadCut_New/XJ_headcut/trainset/train_labels/XJTr0137.png', '/home/ubuntu/codes/radiology/2HeadCut_New/XJ_headcut/trainset/train_labels/XJTr0454.png', '/home/ubuntu/codes/radiology/2HeadCut_New/XJ_headcut/trainset/train_labels/XJTr0029.png', '/home/ubuntu/codes/radiology/2HeadCut_New/XJ_headcut/trainset/train_labels/XJTr0277.png', '/home/ubuntu/codes/radiology/2HeadCut_New/XJ_headcut/trainset/train_labels/XJTs0050.png', '/home/ubuntu/codes/radiology/2HeadCut_New/XJ_headcut/trainset/train_labels/XJTr0003.png', '/home/ubuntu/codes/radiology/2HeadCut_New/XJ_headcut/trainset/train_labels/XJTr0055.png', '/home/ubuntu/codes/radiology/2HeadCut_New/XJ_headcut/trainset/train_labels/XJTr0324.png', '/home/ubuntu/codes/radiology/2HeadCut_New/XJ_headcut/trainset/train_labels/XJTr0019.png', '/home/ubuntu/codes/radiology/2HeadCut_New/XJ_headcut/trainset/train_labels/XJTr0294.png', '/home/ubuntu/codes/radiology/2HeadCut_New/XJ_headcut/trainset/train_labels/XJTr0366.png', '/home/ubuntu/codes/radiology/2HeadCut_New/XJ_headcut/trainset/train_labels/XJTr0421.png', '/home/ubuntu/codes/radiology/2HeadCut_New/XJ_headcut/trainset/train_labels/XJTr0403.png', '/home/ubuntu/codes/radiology/2HeadCut_New/XJ_headcut/trainset/train_labels/XJTr0293.png', '/home/ubuntu/codes/radiology/2HeadCut_New/XJ_headcut/trainset/train_labels/XJTr0400.png', '/home/ubuntu/codes/radiology/2HeadCut_New/XJ_headcut/trainset/train_labels/XJTr0048.png', '/home/ubuntu/codes/radiology/2HeadCut_New/XJ_headcut/trainset/train_labels/XJTr0352.png', '/home/ubuntu/codes/radiology/2HeadCut_New/XJ_headcut/trainset/train_labels/XJTr0425.png', '/home/ubuntu/codes/radiology/2HeadCut_New/XJ_headcut/trainset/train_labels/XJTs0062.png', '/home/ubuntu/codes/radiology/2HeadCut_New/XJ_headcut/trainset/train_labels/XJTr0198.png', '/home/ubuntu/codes/radiology/2HeadCut_New/XJ_headcut/trainset/train_labels/XJTr0138.png', '/home/ubuntu/codes/radiology/2HeadCut_New/XJ_headcut/trainset/train_labels/XJTr0085.png', '/home/ubuntu/codes/radiology/2HeadCut_New/XJ_headcut/trainset/train_labels/XJTr0335.png', '/home/ubuntu/codes/radiology/2HeadCut_New/XJ_headcut/trainset/train_labels/XJTr0083.png']\n"
     ]
    }
   ],
   "source": [
    "print (len(train_images))\n",
    "print (len(train_label))\n",
    "\n",
    "s = train_images + train_label\n",
    "print (s)\n"
   ]
  },
  {
   "cell_type": "raw",
   "metadata": {},
   "source": [
    "for brain in brain_list:\n",
    "    \n",
    "    \n",
    "    name = os.path.basename(brain)[:-11]\n",
    "    print (name)\n",
    "    \n",
    "    brain_itk = sitk.ReadImage(brain)\n",
    "    brain_np = sitk.GetArrayFromImage(brain_itk).astype(np.int32)\n",
    "    brain_np = sitk.GetImageFromArray(brain_np)\n",
    "    \n",
    "    brain_np.SetSpacing(data1[name]['itk_spacing'])\n",
    "    brain_np.SetOrigin(data1[name][\"itk_origin\"])\n",
    "    \n",
    "    sitk.WriteImage(brain_itk, os.path.join(brain_mask_path,name+'.nii.gz'))\n",
    "\n",
    "    \n",
    "    "
   ]
  },
  {
   "cell_type": "code",
   "execution_count": 26,
   "metadata": {},
   "outputs": [],
   "source": [
    "full_cta = sitk.ReadImage(brain_mha)\n",
    "cta_np = sitk.GetArrayFromImage(full_cta).astype(np.int32)"
   ]
  },
  {
   "cell_type": "code",
   "execution_count": null,
   "metadata": {},
   "outputs": [],
   "source": [
    "brain_nii = sitk.ReadImage(brain_file)\n",
    "brain_np = sitk.GetArrayFromImage(brain_nii).astype(np.int32)"
   ]
  },
  {
   "cell_type": "code",
   "execution_count": 23,
   "metadata": {},
   "outputs": [],
   "source": [
    "ren_list = glob.glob(os.path.join('/home/ubuntu/codes/radiology/2HeadCut_New/brain_mask','*.nii.gz'))"
   ]
  },
  {
   "cell_type": "code",
   "execution_count": null,
   "metadata": {},
   "outputs": [],
   "source": []
  },
  {
   "cell_type": "code",
   "execution_count": 5,
   "metadata": {},
   "outputs": [
    {
     "name": "stdout",
     "output_type": "stream",
     "text": [
      "Image (0x56414481bf60)\n",
      "  RTTI typeinfo:   itk::Image<int, 3u>\n",
      "  Reference Count: 1\n",
      "  Modified Time: 886\n",
      "  Debug: Off\n",
      "  Object Name: \n",
      "  Observers: \n",
      "    none\n",
      "  Source: (none)\n",
      "  Source output name: (none)\n",
      "  Release Data: Off\n",
      "  Data Released: False\n",
      "  Global Release Data: Off\n",
      "  PipelineMTime: 864\n",
      "  UpdateMTime: 885\n",
      "  RealTimeStamp: 0 seconds \n",
      "  LargestPossibleRegion: \n",
      "    Dimension: 3\n",
      "    Index: [0, 0, 0]\n",
      "    Size: [512, 512, 579]\n",
      "  BufferedRegion: \n",
      "    Dimension: 3\n",
      "    Index: [0, 0, 0]\n",
      "    Size: [512, 512, 579]\n",
      "  RequestedRegion: \n",
      "    Dimension: 3\n",
      "    Index: [0, 0, 0]\n",
      "    Size: [512, 512, 579]\n",
      "  Spacing: [0.488281, 0.488281, 0.625]\n",
      "  Origin: [-127.9, -181.6, -267]\n",
      "  Direction: \n",
      "1 0 0\n",
      "0 1 0\n",
      "0 0 1\n",
      "\n",
      "  IndexToPointMatrix: \n",
      "0.488281 0 0\n",
      "0 0.488281 0\n",
      "0 0 0.625\n",
      "\n",
      "  PointToIndexMatrix: \n",
      "2.048 0 0\n",
      "0 2.048 0\n",
      "0 0 1.6\n",
      "\n",
      "  Inverse Direction: \n",
      "1 0 0\n",
      "0 1 0\n",
      "0 0 1\n",
      "\n",
      "  PixelContainer: \n",
      "    ImportImageContainer (0x564144629410)\n",
      "      RTTI typeinfo:   itk::ImportImageContainer<unsigned long, int>\n",
      "      Reference Count: 1\n",
      "      Modified Time: 882\n",
      "      Debug: Off\n",
      "      Object Name: \n",
      "      Observers: \n",
      "        none\n",
      "      Pointer: 0x7f41bd8d2010\n",
      "      Container manages memory: true\n",
      "      Size: 151781376\n",
      "      Capacity: 151781376\n",
      "\n"
     ]
    }
   ],
   "source": [
    "data = sitk.ReadImage(brain_file)\n",
    "print (data)"
   ]
  },
  {
   "cell_type": "code",
   "execution_count": null,
   "metadata": {},
   "outputs": [],
   "source": [
    "itk_image = sitk.GetImageFromArray(data).astype(np.float32)"
   ]
  },
  {
   "cell_type": "code",
   "execution_count": null,
   "metadata": {},
   "outputs": [],
   "source": []
  },
  {
   "cell_type": "code",
   "execution_count": null,
   "metadata": {},
   "outputs": [],
   "source": [
    "itk_image.SetSpacing(data1['813'][\"itk_spacing\"])\n",
    "itk_image.SetOrigin(data1['813'][\"itk_origin\"])"
   ]
  },
  {
   "cell_type": "code",
   "execution_count": 12,
   "metadata": {},
   "outputs": [],
   "source": []
  },
  {
   "cell_type": "code",
   "execution_count": 2,
   "metadata": {},
   "outputs": [],
   "source": [
    "def save_itk(save_img, origin_img, output_file):\n",
    "    save_itk_image = sitk.GetImageFromArray(sitk.ReadImage(save_img))\n",
    "    save_itk_image.CopyInformation(sitk.ReadImage(origin_img))\n",
    "    sitk.WriteImage(save_itk_image, output_file)"
   ]
  },
  {
   "cell_type": "code",
   "execution_count": null,
   "metadata": {},
   "outputs": [],
   "source": [
    "mha_file = '/home/ubuntu/codes/radiology/2HeadCut_New/813.nii.gz.mha'\n",
    "orig_cta = '/media/ubuntu/Seagate Expansion Drive/IACTA/xianjin/Medzoo_code_use_data/nii/cta_img/813.nii.gz'\n",
    "save_file = './813.nii.gz'\n",
    "\n",
    "\n",
    "\n",
    "save_itk_from_numpy(mha_file,orig_cta,save_file)"
   ]
  },
  {
   "cell_type": "code",
   "execution_count": null,
   "metadata": {},
   "outputs": [],
   "source": []
  }
 ],
 "metadata": {
  "kernelspec": {
   "display_name": "medzoo",
   "language": "python",
   "name": "medzoo"
  },
  "language_info": {
   "codemirror_mode": {
    "name": "ipython",
    "version": 3
   },
   "file_extension": ".py",
   "mimetype": "text/x-python",
   "name": "python",
   "nbconvert_exporter": "python",
   "pygments_lexer": "ipython3",
   "version": "3.8.3"
  }
 },
 "nbformat": 4,
 "nbformat_minor": 4
}
