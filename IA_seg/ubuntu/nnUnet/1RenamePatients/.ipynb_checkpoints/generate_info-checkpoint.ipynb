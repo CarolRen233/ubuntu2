{
 "cells": [
  {
   "cell_type": "code",
   "execution_count": 1,
   "metadata": {},
   "outputs": [],
   "source": [
    "import os,glob\n",
    "import numpy as np\n",
    "import SimpleITK as sitk\n",
    "from math import fabs, copysign\n",
    "from collections import OrderedDict\n",
    "import shutil\n",
    "from utils import *"
   ]
  },
  {
   "cell_type": "code",
   "execution_count": 2,
   "metadata": {},
   "outputs": [],
   "source": [
    "data_file = '/media/ubuntu/Seagate Expansion Drive/IACTA/CellPress1338/external/A'"
   ]
  },
  {
   "cell_type": "code",
   "execution_count": 3,
   "metadata": {},
   "outputs": [
    {
     "name": "stdout",
     "output_type": "stream",
     "text": [
      "71\n",
      "ExtA0001.nii.gz\n"
     ]
    }
   ],
   "source": [
    "data_list = sorted(os.listdir(os.path.join(data_file,'cta_img')))\n",
    "print (len(data_list))\n",
    "print (data_list[0])"
   ]
  },
  {
   "cell_type": "code",
   "execution_count": 4,
   "metadata": {},
   "outputs": [],
   "source": [
    "def generate_datainfo_csv(name,IA_voxels,IA_minz,slices):\n",
    " \n",
    "    #name_attribute = ['id','slices','IA_voxels','IA_minz','IA_size']\n",
    "\n",
    "    img = dict()\n",
    "    img['id'] = name\n",
    "    img['slices'] = slices\n",
    "    img['IA_voxels'] = IA_voxels\n",
    "    img['IA_minz'] = IA_minz\n",
    "    \n",
    "    x = img['IA_voxels']\n",
    "    y = copysign(fabs(x) ** (1 / 3), x)\n",
    "    \n",
    "    img['IA_size'] = int(y)\n",
    "    \n",
    "    return img"
   ]
  },
  {
   "cell_type": "code",
   "execution_count": 5,
   "metadata": {},
   "outputs": [],
   "source": [
    "def generate_datainfo_pkl(name,cta,seg,data_file):\n",
    "\n",
    "    property = OrderedDict()\n",
    "    property['id'] = name\n",
    "    property['ori_cta'] = os.path.join(data_file, 'cta_img', name + '.nii.gz')\n",
    "    property['ori_seg'] = os.path.join(data_file, 'ane_seg', name + '.nii.gz')\n",
    "    \n",
    "    data_itk = cta\n",
    "    property[\"original_size_of_raw_data\"] = np.array(data_itk.GetSize())[[2, 1, 0]]\n",
    "    property[\"original_spacing\"] = np.array(data_itk.GetSpacing())[[2, 1, 0]]\n",
    "    property[\"itk_origin\"] = data_itk.GetOrigin()\n",
    "    property[\"itk_spacing\"] = data_itk.GetSpacing()\n",
    "    property[\"itk_direction\"] = data_itk.GetDirection()\n",
    "    \n",
    "    seg_np = sitk.GetArrayFromImage(seg).astype(np.int32)\n",
    "    property['slices'] = seg_np.shape[0]\n",
    "    property['IA_voxels'] = seg_np.sum()\n",
    "    try:\n",
    "        IA_minz = np.min(np.where(seg_np==1)[0])\n",
    "    except:\n",
    "        IA_minz = -1\n",
    "    property['IA_minz'] = int(IA_minz)\n",
    "\n",
    "    return property,property['IA_voxels'],property['IA_minz'],property['slices']\n"
   ]
  },
  {
   "cell_type": "code",
   "execution_count": 6,
   "metadata": {},
   "outputs": [
    {
     "name": "stdout",
     "output_type": "stream",
     "text": [
      "name: ExtA0001\n",
      "IA_minz: 326\n",
      "slices: 529\n",
      "\n",
      "name: ExtA0002\n",
      "IA_minz: 409\n",
      "slices: 665\n",
      "\n",
      "name: ExtA0003\n",
      "IA_minz: 501\n",
      "slices: 720\n",
      "\n",
      "name: ExtA0004\n",
      "IA_minz: 383\n",
      "slices: 665\n",
      "\n",
      "name: ExtA0005\n"
     ]
    },
    {
     "ename": "ValueError",
     "evalue": "zero-size array to reduction operation minimum which has no identity",
     "output_type": "error",
     "traceback": [
      "\u001b[0;31m---------------------------------------------------------------------------\u001b[0m",
      "\u001b[0;31mValueError\u001b[0m                                Traceback (most recent call last)",
      "\u001b[0;32m/tmp/ipykernel_208242/940546770.py\u001b[0m in \u001b[0;36m<module>\u001b[0;34m\u001b[0m\n\u001b[1;32m      9\u001b[0m \u001b[0;34m\u001b[0m\u001b[0m\n\u001b[1;32m     10\u001b[0m     \u001b[0;31m#pkl\u001b[0m\u001b[0;34m\u001b[0m\u001b[0;34m\u001b[0m\u001b[0;34m\u001b[0m\u001b[0m\n\u001b[0;32m---> 11\u001b[0;31m     \u001b[0mproperti\u001b[0m\u001b[0;34m,\u001b[0m\u001b[0mIA_voxels\u001b[0m\u001b[0;34m,\u001b[0m\u001b[0mIA_minz\u001b[0m\u001b[0;34m,\u001b[0m\u001b[0mslices\u001b[0m \u001b[0;34m=\u001b[0m \u001b[0mgenerate_datainfo_pkl\u001b[0m\u001b[0;34m(\u001b[0m\u001b[0mname\u001b[0m\u001b[0;34m,\u001b[0m\u001b[0mcta_itk\u001b[0m\u001b[0;34m,\u001b[0m\u001b[0mseg_itk\u001b[0m\u001b[0;34m,\u001b[0m\u001b[0mdata_file\u001b[0m\u001b[0;34m)\u001b[0m\u001b[0;34m\u001b[0m\u001b[0;34m\u001b[0m\u001b[0m\n\u001b[0m\u001b[1;32m     12\u001b[0m     \u001b[0mprint\u001b[0m \u001b[0;34m(\u001b[0m\u001b[0;34m'IA_minz:'\u001b[0m\u001b[0;34m,\u001b[0m\u001b[0mIA_minz\u001b[0m\u001b[0;34m)\u001b[0m\u001b[0;34m\u001b[0m\u001b[0;34m\u001b[0m\u001b[0m\n\u001b[1;32m     13\u001b[0m     \u001b[0mprint\u001b[0m \u001b[0;34m(\u001b[0m\u001b[0;34m'slices:'\u001b[0m\u001b[0;34m,\u001b[0m\u001b[0mslices\u001b[0m\u001b[0;34m)\u001b[0m\u001b[0;34m\u001b[0m\u001b[0;34m\u001b[0m\u001b[0m\n",
      "\u001b[0;32m/tmp/ipykernel_208242/4159769177.py\u001b[0m in \u001b[0;36mgenerate_datainfo_pkl\u001b[0;34m(name, cta, seg, data_file)\u001b[0m\n\u001b[1;32m     16\u001b[0m     \u001b[0mproperty\u001b[0m\u001b[0;34m[\u001b[0m\u001b[0;34m'slices'\u001b[0m\u001b[0;34m]\u001b[0m \u001b[0;34m=\u001b[0m \u001b[0mseg_np\u001b[0m\u001b[0;34m.\u001b[0m\u001b[0mshape\u001b[0m\u001b[0;34m[\u001b[0m\u001b[0;36m0\u001b[0m\u001b[0;34m]\u001b[0m\u001b[0;34m\u001b[0m\u001b[0;34m\u001b[0m\u001b[0m\n\u001b[1;32m     17\u001b[0m     \u001b[0mproperty\u001b[0m\u001b[0;34m[\u001b[0m\u001b[0;34m'IA_voxels'\u001b[0m\u001b[0;34m]\u001b[0m \u001b[0;34m=\u001b[0m \u001b[0mseg_np\u001b[0m\u001b[0;34m.\u001b[0m\u001b[0msum\u001b[0m\u001b[0;34m(\u001b[0m\u001b[0;34m)\u001b[0m\u001b[0;34m\u001b[0m\u001b[0;34m\u001b[0m\u001b[0m\n\u001b[0;32m---> 18\u001b[0;31m     \u001b[0mIA_minz\u001b[0m \u001b[0;34m=\u001b[0m \u001b[0mnp\u001b[0m\u001b[0;34m.\u001b[0m\u001b[0mmin\u001b[0m\u001b[0;34m(\u001b[0m\u001b[0mnp\u001b[0m\u001b[0;34m.\u001b[0m\u001b[0mwhere\u001b[0m\u001b[0;34m(\u001b[0m\u001b[0mseg_np\u001b[0m\u001b[0;34m==\u001b[0m\u001b[0;36m1\u001b[0m\u001b[0;34m)\u001b[0m\u001b[0;34m[\u001b[0m\u001b[0;36m0\u001b[0m\u001b[0;34m]\u001b[0m\u001b[0;34m)\u001b[0m\u001b[0;34m\u001b[0m\u001b[0;34m\u001b[0m\u001b[0m\n\u001b[0m\u001b[1;32m     19\u001b[0m     \u001b[0mproperty\u001b[0m\u001b[0;34m[\u001b[0m\u001b[0;34m'IA_minz'\u001b[0m\u001b[0;34m]\u001b[0m \u001b[0;34m=\u001b[0m \u001b[0mint\u001b[0m\u001b[0;34m(\u001b[0m\u001b[0mIA_minz\u001b[0m\u001b[0;34m)\u001b[0m\u001b[0;34m\u001b[0m\u001b[0;34m\u001b[0m\u001b[0m\n\u001b[1;32m     20\u001b[0m \u001b[0;34m\u001b[0m\u001b[0m\n",
      "\u001b[0;32m<__array_function__ internals>\u001b[0m in \u001b[0;36mamin\u001b[0;34m(*args, **kwargs)\u001b[0m\n",
      "\u001b[0;32m~/anaconda3/envs/medzoo/lib/python3.7/site-packages/numpy/core/fromnumeric.py\u001b[0m in \u001b[0;36mamin\u001b[0;34m(a, axis, out, keepdims, initial, where)\u001b[0m\n\u001b[1;32m   2878\u001b[0m     \"\"\"\n\u001b[1;32m   2879\u001b[0m     return _wrapreduction(a, np.minimum, 'min', axis, None, out,\n\u001b[0;32m-> 2880\u001b[0;31m                           keepdims=keepdims, initial=initial, where=where)\n\u001b[0m\u001b[1;32m   2881\u001b[0m \u001b[0;34m\u001b[0m\u001b[0m\n\u001b[1;32m   2882\u001b[0m \u001b[0;34m\u001b[0m\u001b[0m\n",
      "\u001b[0;32m~/anaconda3/envs/medzoo/lib/python3.7/site-packages/numpy/core/fromnumeric.py\u001b[0m in \u001b[0;36m_wrapreduction\u001b[0;34m(obj, ufunc, method, axis, dtype, out, **kwargs)\u001b[0m\n\u001b[1;32m     84\u001b[0m                 \u001b[0;32mreturn\u001b[0m \u001b[0mreduction\u001b[0m\u001b[0;34m(\u001b[0m\u001b[0maxis\u001b[0m\u001b[0;34m=\u001b[0m\u001b[0maxis\u001b[0m\u001b[0;34m,\u001b[0m \u001b[0mout\u001b[0m\u001b[0;34m=\u001b[0m\u001b[0mout\u001b[0m\u001b[0;34m,\u001b[0m \u001b[0;34m**\u001b[0m\u001b[0mpasskwargs\u001b[0m\u001b[0;34m)\u001b[0m\u001b[0;34m\u001b[0m\u001b[0;34m\u001b[0m\u001b[0m\n\u001b[1;32m     85\u001b[0m \u001b[0;34m\u001b[0m\u001b[0m\n\u001b[0;32m---> 86\u001b[0;31m     \u001b[0;32mreturn\u001b[0m \u001b[0mufunc\u001b[0m\u001b[0;34m.\u001b[0m\u001b[0mreduce\u001b[0m\u001b[0;34m(\u001b[0m\u001b[0mobj\u001b[0m\u001b[0;34m,\u001b[0m \u001b[0maxis\u001b[0m\u001b[0;34m,\u001b[0m \u001b[0mdtype\u001b[0m\u001b[0;34m,\u001b[0m \u001b[0mout\u001b[0m\u001b[0;34m,\u001b[0m \u001b[0;34m**\u001b[0m\u001b[0mpasskwargs\u001b[0m\u001b[0;34m)\u001b[0m\u001b[0;34m\u001b[0m\u001b[0;34m\u001b[0m\u001b[0m\n\u001b[0m\u001b[1;32m     87\u001b[0m \u001b[0;34m\u001b[0m\u001b[0m\n\u001b[1;32m     88\u001b[0m \u001b[0;34m\u001b[0m\u001b[0m\n",
      "\u001b[0;31mValueError\u001b[0m: zero-size array to reduction operation minimum which has no identity"
     ]
    }
   ],
   "source": [
    "csv_info_list = []\n",
    "all_properties = OrderedDict()\n",
    "\n",
    "for data in data_list:\n",
    "    name = data[:-7]\n",
    "    print ('name:',name)\n",
    "    cta_itk = sitk.ReadImage(os.path.join(data_file,'cta_img',data))\n",
    "    seg_itk = sitk.ReadImage(os.path.join(data_file,'ane_seg',data))\n",
    "    \n",
    "    #pkl\n",
    "    properti,IA_voxels,IA_minz,slices = generate_datainfo_pkl(name,cta_itk,seg_itk,data_file)\n",
    "    print ('IA_minz:',IA_minz)\n",
    "    print ('slices:',slices)\n",
    "    print ()\n",
    "    all_properties[name] = properti\n",
    "    \n",
    "    \n",
    "    #csv\n",
    "    csv_info_list.append(generate_datainfo_csv(name,IA_voxels,IA_minz,slices))\n",
    "    \n"
   ]
  },
  {
   "cell_type": "code",
   "execution_count": null,
   "metadata": {},
   "outputs": [],
   "source": [
    "# save csv\n",
    "name_attribute = ['id','slices','IA_voxels','IA_minz','IA_size']\n",
    "save_csv(csv_info_list,'external_A_All_Data_Info.csv',name_attribute)\n",
    "\n",
    "\n",
    "# save pkl\n",
    "save_pickle(all_properties,'external_A_All_Data_Info.pkl')"
   ]
  },
  {
   "cell_type": "code",
   "execution_count": null,
   "metadata": {},
   "outputs": [],
   "source": []
  }
 ],
 "metadata": {
  "kernelspec": {
   "display_name": "medzoo",
   "language": "python",
   "name": "medzoo"
  },
  "language_info": {
   "codemirror_mode": {
    "name": "ipython",
    "version": 3
   },
   "file_extension": ".py",
   "mimetype": "text/x-python",
   "name": "python",
   "nbconvert_exporter": "python",
   "pygments_lexer": "ipython3",
   "version": "3.7.11"
  }
 },
 "nbformat": 4,
 "nbformat_minor": 2
}
