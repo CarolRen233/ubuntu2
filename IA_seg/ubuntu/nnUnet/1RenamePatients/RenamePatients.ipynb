{
 "cells": [
  {
   "cell_type": "code",
   "execution_count": 1,
   "metadata": {},
   "outputs": [],
   "source": [
    "import os,glob\n",
    "import pandas as pd\n",
    "import pickle\n",
    "from utils import save_csv,load_pickle,save_pickle\n",
    "import shutil\n",
    "from collections import OrderedDict"
   ]
  },
  {
   "cell_type": "code",
   "execution_count": 2,
   "metadata": {},
   "outputs": [],
   "source": [
    "ori_path = '/media/ubuntu/Seagate Expansion Drive/IACTA/xianjin/Medzoo_code_use_data/nii'\n",
    "dst_path = '/mnt/f/data/xianjin_data'"
   ]
  },
  {
   "cell_type": "code",
   "execution_count": 3,
   "metadata": {},
   "outputs": [
    {
     "name": "stdout",
     "output_type": "stream",
     "text": [
      "500\n",
      "66\n"
     ]
    }
   ],
   "source": [
    "df = pd.read_csv('All_Data_Info_split.csv')\n",
    "tr_list,ts_list = [],[]\n",
    "\n",
    "for i in range(len(df)):\n",
    "    ori_name = df.loc[i]['id']\n",
    "    if df.loc[i]['subset'] == 'train':\n",
    "        tr_list.append(ori_name)\n",
    "    elif df.loc[i]['subset'] == 'test':\n",
    "        ts_list.append(ori_name)\n",
    "    \n",
    "print (len(tr_list))\n",
    "print (len(ts_list))"
   ]
  },
  {
   "cell_type": "code",
   "execution_count": 4,
   "metadata": {},
   "outputs": [],
   "source": [
    "rename_txt = []\n",
    "rename_csv = []\n",
    "\n",
    "data_info = load_pickle('./All_Data_Info.pkl')\n",
    "new_all_properties = OrderedDict()\n",
    "\n",
    "for i in range(len(tr_list)):\n",
    "    num = str(i).zfill(4)\n",
    "    new_name = 'XJTr'+num\n",
    "    rename_txt.append(tr_list[i] + ' ' + new_name)\n",
    "    \n",
    "    \n",
    "    row = dict()\n",
    "    row['id'] = tr_list[i]\n",
    "    row['new_id'] = new_name\n",
    "    rename_csv.append(row)\n",
    "    \n",
    "    ori_cta_file = os.path.join(ori_path,'cta_img',tr_list[i]+'.nii.gz')\n",
    "    ori_seg_file = os.path.join(ori_path,'ane_seg',tr_list[i]+'.nii.gz')\n",
    "    \n",
    "    dst_cta_file = os.path.join(dst_path,'cta_img',new_name+'.nii.gz')\n",
    "    dst_seg_file = os.path.join(dst_path,'ane_seg',new_name+'.nii.gz')\n",
    "    \n",
    "    \n",
    "    new_properties = data_info[tr_list[i]]\n",
    "    new_properties['full_cta_file'] = dst_cta_file\n",
    "    new_properties['full_seg_file'] = dst_seg_file\n",
    "    \n",
    "    \n",
    "    shutil.copyfile(ori_cta_file,dst_cta_file)\n",
    "    shutil.copyfile(ori_seg_file,dst_seg_file)\n",
    "    \n",
    "    new_all_properties[new_name] = new_properties\n",
    "    \n",
    "\n",
    "for i in range(len(ts_list)):\n",
    "    num = str(i).zfill(4)\n",
    "    new_name = 'XJTs'+num\n",
    "    rename_txt.append(ts_list[i] + ' ' + new_name)\n",
    "    \n",
    "    \n",
    "    row = dict()\n",
    "    row['id'] = ts_list[i]\n",
    "    row['new_id'] = new_name\n",
    "    rename_csv.append(row)\n",
    "    \n",
    "    ori_cta_file = os.path.join(ori_path,'cta_img',ts_list[i]+'.nii.gz')\n",
    "    ori_seg_file = os.path.join(ori_path,'ane_seg',ts_list[i]+'.nii.gz')\n",
    "    \n",
    "    dst_cta_file = os.path.join(dst_path,'cta_img',new_name+'.nii.gz')\n",
    "    dst_seg_file = os.path.join(dst_path,'ane_seg',new_name+'.nii.gz')\n",
    "    \n",
    "    \n",
    "    new_properties = data_info[ts_list[i]]\n",
    "    new_properties['full_cta_file'] = dst_cta_file\n",
    "    new_properties['full_seg_file'] = dst_seg_file\n",
    "    \n",
    "    \n",
    "    shutil.copyfile(ori_cta_file,dst_cta_file)\n",
    "    shutil.copyfile(ori_seg_file,dst_seg_file)\n",
    "    \n",
    "    new_all_properties[new_name] = new_properties"
   ]
  },
  {
   "cell_type": "code",
   "execution_count": 9,
   "metadata": {},
   "outputs": [],
   "source": [
    "f1 = open('raneme.txt','w')\n",
    "\n",
    "for line in rename_txt:\n",
    "    f1.write(line + '\\n')\n",
    "f1.close()\n",
    "    "
   ]
  },
  {
   "cell_type": "code",
   "execution_count": 10,
   "metadata": {},
   "outputs": [],
   "source": [
    "name_attribute = ['id','new_id']\n",
    "save_csv(rename_csv,'rename.csv',name_attribute)\n"
   ]
  },
  {
   "cell_type": "code",
   "execution_count": 11,
   "metadata": {},
   "outputs": [],
   "source": [
    "save_pickle(new_all_properties,'rename_All_Data_Info.pkl')"
   ]
  },
  {
   "cell_type": "code",
   "execution_count": 13,
   "metadata": {},
   "outputs": [
    {
     "data": {
      "text/plain": [
       "'/home/ubuntu/codes/radiology/2HeadCut/rename_All_Data_Info.pkl'"
      ]
     },
     "execution_count": 13,
     "metadata": {},
     "output_type": "execute_result"
    }
   ],
   "source": [
    "shutil.copyfile('./rename_All_Data_Info.pkl',os.path.join(dst_path,'rename_All_Data_Info.pkl'))\n",
    "\n",
    "shutil.copyfile('./rename_All_Data_Info.pkl',os.path.join('/home/ubuntu/data/XJ_headcut','rename_All_Data_Info.pkl'))\n",
    "\n",
    "shutil.copyfile('./rename_All_Data_Info.pkl',os.path.join('/home/ubuntu/codes/radiology/2HeadCut','rename_All_Data_Info.pkl'))"
   ]
  },
  {
   "cell_type": "code",
   "execution_count": null,
   "metadata": {},
   "outputs": [],
   "source": []
  }
 ],
 "metadata": {
  "kernelspec": {
   "display_name": "medzoo",
   "language": "python",
   "name": "medzoo"
  },
  "language_info": {
   "codemirror_mode": {
    "name": "ipython",
    "version": 3
   },
   "file_extension": ".py",
   "mimetype": "text/x-python",
   "name": "python",
   "nbconvert_exporter": "python",
   "pygments_lexer": "ipython3",
   "version": "3.7.11"
  }
 },
 "nbformat": 4,
 "nbformat_minor": 2
}
