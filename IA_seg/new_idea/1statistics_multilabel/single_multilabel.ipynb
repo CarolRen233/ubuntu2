{
 "cells": [
  {
   "cell_type": "markdown",
   "metadata": {},
   "source": [
    "单个case的修改"
   ]
  },
  {
   "cell_type": "code",
   "execution_count": 1,
   "metadata": {},
   "outputs": [],
   "source": [
    "import sys, glob, os, argparse\n",
    "import SimpleITK as sitk\n",
    "import pandas as pd\n",
    "import shutil\n",
    "import pprint, pickle\n",
    "import numpy as np\n",
    "from skimage import measure\n",
    "import math\n",
    "from utils import *"
   ]
  },
  {
   "cell_type": "code",
   "execution_count": null,
   "metadata": {},
   "outputs": [],
   "source": [
    "pkl_file = './after_headcut_properties_CellPressAll.pkl'\n",
    "prediction = './Tr0214.nii.gz'"
   ]
  },
  {
   "cell_type": "code",
   "execution_count": 4,
   "metadata": {},
   "outputs": [
    {
     "name": "stdout",
     "output_type": "stream",
     "text": [
      "OrderedDict([('id', 'Ts0001'),\n",
      "             ('ori_cta', 'F:/data/CellPress1338\\\\cta_img\\\\Ts0001.nii.gz'),\n",
      "             ('ori_seg', 'F:/data/CellPress1338\\\\ane_seg\\\\Ts0001.nii.gz'),\n",
      "             ('original_size_of_raw_data', array([693, 512, 512])),\n",
      "             ('original_spacing', array([0.70001221, 0.62695312, 0.62695312])),\n",
      "             ('itk_origin',\n",
      "              (-156.1865234375, -310.1865234375, -411.20001220703125)),\n",
      "             ('itk_spacing', (0.626953125, 0.626953125, 0.70001220703125)),\n",
      "             ('itk_direction', (1.0, 0.0, 0.0, 0.0, 1.0, 0.0, 0.0, 0.0, 1.0)),\n",
      "             ('slices', 693),\n",
      "             ('IA_voxels', 0),\n",
      "             ('coords', (559, 693, 83, 444, 83, 444)),\n",
      "             ('before_size', (693, 512, 512)),\n",
      "             ('after_size', (134, 361, 361)),\n",
      "             ('just_head_cta_save',\n",
      "              'F:/data/CellPress1338/headcut_all\\\\cta_img\\\\Ts0001.nii.gz'),\n",
      "             ('just_head_seg_save',\n",
      "              'F:/data/CellPress1338/headcut_all\\\\ane_seg\\\\Ts0001.nii.gz')])\n",
      "1338\n"
     ]
    }
   ],
   "source": [
    "small_IAs_num, middle_IAs_num, large_IAs_num = 0,0,0\n",
    "\n",
    "patientID = os.path.basename(prediction)[:-7]\n",
    "\n",
    "print (patientID)\n",
    "\n",
    "pred_nii = sitk.ReadImage(prediction)\n",
    "pred_np = sitk.GetArrayFromImage(pred_nii).astype(np.int32)\n",
    "\n",
    "pred_bin_np = pred_np > 0\n",
    "pred_lbls_np = measure.label(pred_bin_np)\n",
    "labels = np.unique(pred_lbls_np)\n",
    "\n",
    "if len(labels) == 1 and labels[0] == 0:\n",
    "    shutil.copyfile(prediction,os.path.join(args.ori_folder,'multilabel',patientID+'.nii.gz'))\n",
    "\n",
    "\n",
    "elif len(labels) > 1:\n",
    "    labels = labels[1:]\n",
    "\n",
    "    new_multilabel_save_np = np.zeros_like(pred_lbls_np)\n",
    "\n",
    "    space_prod = np.prod(propertes[patientID]['original_spacing'])\n",
    "\n",
    "    diameters = []\n",
    "    voxels = []\n",
    "    for lbl in labels:\n",
    "        pred_lbl_np = np.zeros_like(pred_lbls_np)\n",
    "        lbl_voxels = np.sum(pred_lbls_np == lbl)\n",
    "        voxels.append(lbl_voxels)\n",
    "        diameter = 2*(((space_prod*lbl_voxels)*(3/(4*math.pi)))**(1/3))\n",
    "        diameters.append(diameter)\n",
    "        assert diameter > 0\n",
    "\n",
    "        if diameter < 5:\n",
    "            new_multilabel_save_np[pred_lbls_np == lbl] = 1\n",
    "            small_IAs_num += 1\n",
    "\n",
    "        elif (diameter >= 5) and (diameter < 15):\n",
    "            new_multilabel_save_np[pred_lbls_np == lbl] = 2\n",
    "            middle_IAs_num += 1\n",
    "\n",
    "        elif diameter >= 15:\n",
    "            new_multilabel_save_np[pred_lbls_np == lbl] = 3\n",
    "            large_IAs_num += 1\n",
    "\n",
    "    new_multilabel_nii = save_itk_from_numpy(new_multilabel_save_np, propertes[patientID])\n",
    "    sitk.WriteImage(new_multilabel_nii, os.path.join(args.ori_folder,'multilabel',patientID+'.nii.gz'))\n"
   ]
  },
  {
   "cell_type": "code",
   "execution_count": null,
   "metadata": {},
   "outputs": [],
   "source": []
  }
 ],
 "metadata": {
  "kernelspec": {
   "display_name": "Python 3",
   "language": "python",
   "name": "python3"
  },
  "language_info": {
   "codemirror_mode": {
    "name": "ipython",
    "version": 3
   },
   "file_extension": ".py",
   "mimetype": "text/x-python",
   "name": "python",
   "nbconvert_exporter": "python",
   "pygments_lexer": "ipython3",
   "version": "3.8.3"
  }
 },
 "nbformat": 4,
 "nbformat_minor": 4
}
