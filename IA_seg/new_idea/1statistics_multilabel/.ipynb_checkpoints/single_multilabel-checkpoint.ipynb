{
 "cells": [
  {
   "cell_type": "markdown",
   "metadata": {},
   "source": [
    "单个case的修改，只改pkl文件"
   ]
  },
  {
   "cell_type": "code",
   "execution_count": 1,
   "metadata": {},
   "outputs": [],
   "source": [
    "import sys, glob, os, argparse\n",
    "import SimpleITK as sitk\n",
    "import pandas as pd\n",
    "import shutil\n",
    "import pprint, pickle\n",
    "import numpy as np\n",
    "from skimage import measure\n",
    "import math\n",
    "from utils import *"
   ]
  },
  {
   "cell_type": "code",
   "execution_count": 4,
   "metadata": {},
   "outputs": [
    {
     "name": "stdout",
     "output_type": "stream",
     "text": [
      "OrderedDict([('id', 'Ts0001'),\n",
      "             ('ori_cta', 'F:/data/CellPress1338\\\\cta_img\\\\Ts0001.nii.gz'),\n",
      "             ('ori_seg', 'F:/data/CellPress1338\\\\ane_seg\\\\Ts0001.nii.gz'),\n",
      "             ('original_size_of_raw_data', array([693, 512, 512])),\n",
      "             ('original_spacing', array([0.70001221, 0.62695312, 0.62695312])),\n",
      "             ('itk_origin',\n",
      "              (-156.1865234375, -310.1865234375, -411.20001220703125)),\n",
      "             ('itk_spacing', (0.626953125, 0.626953125, 0.70001220703125)),\n",
      "             ('itk_direction', (1.0, 0.0, 0.0, 0.0, 1.0, 0.0, 0.0, 0.0, 1.0)),\n",
      "             ('slices', 693),\n",
      "             ('IA_voxels', 0),\n",
      "             ('coords', (559, 693, 83, 444, 83, 444)),\n",
      "             ('before_size', (693, 512, 512)),\n",
      "             ('after_size', (134, 361, 361)),\n",
      "             ('just_head_cta_save',\n",
      "              'F:/data/CellPress1338/headcut_all\\\\cta_img\\\\Ts0001.nii.gz'),\n",
      "             ('just_head_seg_save',\n",
      "              'F:/data/CellPress1338/headcut_all\\\\ane_seg\\\\Ts0001.nii.gz')])\n",
      "1338\n"
     ]
    }
   ],
   "source": [
    "import pprint, pickle\n",
    "#after_headcut_properties_XJdata\n",
    "\n",
    "pkl_file = open('F:/codes/ubuntu/nnUnet/2HeadCut_New/after_headcut_properties_CellPressAll.pkl', 'rb')\n",
    "data1 = pickle.load(pkl_file)\n",
    "pprint.pprint(data1['Ts0001'])\n",
    "print (len(data1.keys()))\n",
    "pkl_file.close()"
   ]
  },
  {
   "cell_type": "code",
   "execution_count": null,
   "metadata": {},
   "outputs": [],
   "source": []
  }
 ],
 "metadata": {
  "kernelspec": {
   "display_name": "Python 3",
   "language": "python",
   "name": "python3"
  },
  "language_info": {
   "codemirror_mode": {
    "name": "ipython",
    "version": 3
   },
   "file_extension": ".py",
   "mimetype": "text/x-python",
   "name": "python",
   "nbconvert_exporter": "python",
   "pygments_lexer": "ipython3",
   "version": "3.8.3"
  }
 },
 "nbformat": 4,
 "nbformat_minor": 4
}
