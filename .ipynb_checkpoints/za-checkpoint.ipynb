{
 "cells": [
  {
   "cell_type": "markdown",
   "metadata": {},
   "source": [
    "### figure 7 time spend\n"
   ]
  },
  {
   "cell_type": "code",
   "execution_count": 1,
   "metadata": {},
   "outputs": [],
   "source": [
    "import os,glob\n",
    "import shutil\n",
    "import pandas as pd\n",
    "from collections import OrderedDict\n",
    "import pickle\n"
   ]
  },
  {
   "cell_type": "code",
   "execution_count": 2,
   "metadata": {},
   "outputs": [],
   "source": [
    "def save_pickle(obj, file: str, mode: str = 'wb') -> None:\n",
    "    with open(file, mode) as f:\n",
    "        pickle.dump(obj, f)"
   ]
  },
  {
   "cell_type": "code",
   "execution_count": 6,
   "metadata": {},
   "outputs": [
    {
     "name": "stdout",
     "output_type": "stream",
     "text": [
      "OrderedDict([('id', 'Ts0001'),\n",
      "             ('ori_cta', 'F:/data/CellPress1338\\\\cta_img\\\\Ts0001.nii.gz'),\n",
      "             ('ori_seg', 'F:/data/CellPress1338\\\\ane_seg\\\\Ts0001.nii.gz'),\n",
      "             ('original_size_of_raw_data', array([693, 512, 512], dtype=int64)),\n",
      "             ('original_spacing', array([0.70001221, 0.62695312, 0.62695312])),\n",
      "             ('itk_origin',\n",
      "              (-156.1865234375, -310.1865234375, -411.20001220703125)),\n",
      "             ('itk_spacing', (0.626953125, 0.626953125, 0.70001220703125)),\n",
      "             ('itk_direction', (1.0, 0.0, 0.0, 0.0, 1.0, 0.0, 0.0, 0.0, 1.0)),\n",
      "             ('slices', 693),\n",
      "             ('IA_voxels', 0)])\n",
      "152\n"
     ]
    }
   ],
   "source": [
    "import pprint, pickle\n",
    "#after_headcut_properties_XJdata\n",
    "\n",
    "pkl_file = open('F:/codes/ubuntu/nnUnet/2HeadCut_New/All_CellPress1338_info.pkl', 'rb')\n",
    "data1 = pickle.load(pkl_file)\n",
    "pprint.pprint(data1['Ts0001'])\n",
    "print (len(data1.keys()))\n",
    "pkl_file.close()"
   ]
  },
  {
   "cell_type": "code",
   "execution_count": null,
   "metadata": {},
   "outputs": [],
   "source": [
    "\n",
    "for key in data1.keys():\n",
    "    data1[key]['just_head_cta_save'] = \n",
    "    data1[key]['just_head_seg_save'] = "
   ]
  },
  {
   "cell_type": "code",
   "execution_count": 2,
   "metadata": {},
   "outputs": [
    {
     "name": "stdout",
     "output_type": "stream",
     "text": [
      "<class 'list'>\n",
      "21\n"
     ]
    }
   ],
   "source": [
    "aneurysm_path = \"F:/codes/untitled.txt\"\n",
    "with open(aneurysm_path) as f:\n",
    "    class_names = f.readlines()# 全部读取最后返回一个列表存所有的类,每行后面都会带有“\\n”\n",
    "    cta_list = [c.strip() for c in class_names]# 采用strip（）方法可以去掉最后的“\\n”\n",
    "    print (type(cta_list))\n",
    "    print (len(cta_list))\n",
    "    f.close()"
   ]
  },
  {
   "cell_type": "code",
   "execution_count": 6,
   "metadata": {},
   "outputs": [
    {
     "name": "stdout",
     "output_type": "stream",
     "text": [
      "mklink F:\\data\\XJ18\\cta_img\\XJTs0000.nii.gz F:\\data\\xianjin_data\\cta_img\\XJTs0000.nii.gz\n",
      "mklink F:\\data\\XJ18\\ane_seg\\XJTs0000.nii.gz F:\\data\\xianjin_data\\ane_seg\\XJTs0000.nii.gz\n",
      "mklink F:\\data\\XJ18\\cta_img\\XJTs0003.nii.gz F:\\data\\xianjin_data\\cta_img\\XJTs0003.nii.gz\n",
      "mklink F:\\data\\XJ18\\ane_seg\\XJTs0003.nii.gz F:\\data\\xianjin_data\\ane_seg\\XJTs0003.nii.gz\n",
      "mklink F:\\data\\XJ18\\cta_img\\XJTs0010.nii.gz F:\\data\\xianjin_data\\cta_img\\XJTs0010.nii.gz\n",
      "mklink F:\\data\\XJ18\\ane_seg\\XJTs0010.nii.gz F:\\data\\xianjin_data\\ane_seg\\XJTs0010.nii.gz\n",
      "mklink F:\\data\\XJ18\\cta_img\\XJTs0028.nii.gz F:\\data\\xianjin_data\\cta_img\\XJTs0028.nii.gz\n",
      "mklink F:\\data\\XJ18\\ane_seg\\XJTs0028.nii.gz F:\\data\\xianjin_data\\ane_seg\\XJTs0028.nii.gz\n",
      "mklink F:\\data\\XJ18\\cta_img\\XJTs0033.nii.gz F:\\data\\xianjin_data\\cta_img\\XJTs0033.nii.gz\n",
      "mklink F:\\data\\XJ18\\ane_seg\\XJTs0033.nii.gz F:\\data\\xianjin_data\\ane_seg\\XJTs0033.nii.gz\n",
      "mklink F:\\data\\XJ18\\cta_img\\XJTs0001.nii.gz F:\\data\\xianjin_data\\cta_img\\XJTs0001.nii.gz\n",
      "mklink F:\\data\\XJ18\\ane_seg\\XJTs0001.nii.gz F:\\data\\xianjin_data\\ane_seg\\XJTs0001.nii.gz\n",
      "mklink F:\\data\\XJ18\\cta_img\\XJTs0004.nii.gz F:\\data\\xianjin_data\\cta_img\\XJTs0004.nii.gz\n",
      "mklink F:\\data\\XJ18\\ane_seg\\XJTs0004.nii.gz F:\\data\\xianjin_data\\ane_seg\\XJTs0004.nii.gz\n",
      "mklink F:\\data\\XJ18\\cta_img\\XJTs0015.nii.gz F:\\data\\xianjin_data\\cta_img\\XJTs0015.nii.gz\n",
      "mklink F:\\data\\XJ18\\ane_seg\\XJTs0015.nii.gz F:\\data\\xianjin_data\\ane_seg\\XJTs0015.nii.gz\n",
      "mklink F:\\data\\XJ18\\cta_img\\XJTs0030.nii.gz F:\\data\\xianjin_data\\cta_img\\XJTs0030.nii.gz\n",
      "mklink F:\\data\\XJ18\\ane_seg\\XJTs0030.nii.gz F:\\data\\xianjin_data\\ane_seg\\XJTs0030.nii.gz\n",
      "mklink F:\\data\\XJ18\\cta_img\\XJTs0034.nii.gz F:\\data\\xianjin_data\\cta_img\\XJTs0034.nii.gz\n",
      "mklink F:\\data\\XJ18\\ane_seg\\XJTs0034.nii.gz F:\\data\\xianjin_data\\ane_seg\\XJTs0034.nii.gz\n",
      "mklink F:\\data\\XJ18\\cta_img\\XJTs0002.nii.gz F:\\data\\xianjin_data\\cta_img\\XJTs0002.nii.gz\n",
      "mklink F:\\data\\XJ18\\ane_seg\\XJTs0002.nii.gz F:\\data\\xianjin_data\\ane_seg\\XJTs0002.nii.gz\n",
      "mklink F:\\data\\XJ18\\cta_img\\XJTs0005.nii.gz F:\\data\\xianjin_data\\cta_img\\XJTs0005.nii.gz\n",
      "mklink F:\\data\\XJ18\\ane_seg\\XJTs0005.nii.gz F:\\data\\xianjin_data\\ane_seg\\XJTs0005.nii.gz\n",
      "mklink F:\\data\\XJ18\\cta_img\\XJTs0023.nii.gz F:\\data\\xianjin_data\\cta_img\\XJTs0023.nii.gz\n",
      "mklink F:\\data\\XJ18\\ane_seg\\XJTs0023.nii.gz F:\\data\\xianjin_data\\ane_seg\\XJTs0023.nii.gz\n",
      "mklink F:\\data\\XJ18\\cta_img\\XJTs0032.nii.gz F:\\data\\xianjin_data\\cta_img\\XJTs0032.nii.gz\n",
      "mklink F:\\data\\XJ18\\ane_seg\\XJTs0032.nii.gz F:\\data\\xianjin_data\\ane_seg\\XJTs0032.nii.gz\n",
      "mklink F:\\data\\XJ18\\cta_img\\XJTs0035.nii.gz F:\\data\\xianjin_data\\cta_img\\XJTs0035.nii.gz\n",
      "mklink F:\\data\\XJ18\\ane_seg\\XJTs0035.nii.gz F:\\data\\xianjin_data\\ane_seg\\XJTs0035.nii.gz\n",
      "mklink F:\\data\\XJ18\\cta_img\\XJTs0037.nii.gz F:\\data\\xianjin_data\\cta_img\\XJTs0037.nii.gz\n",
      "mklink F:\\data\\XJ18\\ane_seg\\XJTs0037.nii.gz F:\\data\\xianjin_data\\ane_seg\\XJTs0037.nii.gz\n",
      "mklink F:\\data\\XJ18\\cta_img\\XJTs0039.nii.gz F:\\data\\xianjin_data\\cta_img\\XJTs0039.nii.gz\n",
      "mklink F:\\data\\XJ18\\ane_seg\\XJTs0039.nii.gz F:\\data\\xianjin_data\\ane_seg\\XJTs0039.nii.gz\n",
      "mklink F:\\data\\XJ18\\cta_img\\XJTs0041.nii.gz F:\\data\\xianjin_data\\cta_img\\XJTs0041.nii.gz\n",
      "mklink F:\\data\\XJ18\\ane_seg\\XJTs0041.nii.gz F:\\data\\xianjin_data\\ane_seg\\XJTs0041.nii.gz\n",
      "mklink F:\\data\\XJ18\\cta_img\\XJTs0046.nii.gz F:\\data\\xianjin_data\\cta_img\\XJTs0046.nii.gz\n",
      "mklink F:\\data\\XJ18\\ane_seg\\XJTs0046.nii.gz F:\\data\\xianjin_data\\ane_seg\\XJTs0046.nii.gz\n",
      "mklink F:\\data\\XJ18\\cta_img\\XJTs0053.nii.gz F:\\data\\xianjin_data\\cta_img\\XJTs0053.nii.gz\n",
      "mklink F:\\data\\XJ18\\ane_seg\\XJTs0053.nii.gz F:\\data\\xianjin_data\\ane_seg\\XJTs0053.nii.gz\n",
      "mklink F:\\data\\XJ18\\cta_img\\XJTs0065.nii.gz F:\\data\\xianjin_data\\cta_img\\XJTs0065.nii.gz\n",
      "mklink F:\\data\\XJ18\\ane_seg\\XJTs0065.nii.gz F:\\data\\xianjin_data\\ane_seg\\XJTs0065.nii.gz\n",
      "\n"
     ]
    }
   ],
   "source": [
    "mklink_cmd_txt = ''\n",
    "datafile = \"F:\\\\data\\\\xianjin_data\"\n",
    "dst_file = \"F:\\\\data\\\\XJ18\"\n",
    "for name in cta_list:\n",
    "    ori_cta = datafile + '\\\\cta_img\\\\' + name + '.nii.gz'\n",
    "    ori_seg = datafile + '\\\\ane_seg\\\\' + name + '.nii.gz'\n",
    "    \n",
    "    dst_cta = dst_file+  '\\\\cta_img\\\\' + name + '.nii.gz'\n",
    "    dst_seg = dst_file+  '\\\\ane_seg\\\\' + name + '.nii.gz'\n",
    "    \n",
    "    mklink_cmd_txt+='mklink ' + dst_cta + ' ' + ori_cta +'\\n'\n",
    "    mklink_cmd_txt+='mklink ' + dst_seg + ' ' + ori_seg +'\\n'\n",
    "print (mklink_cmd_txt)"
   ]
  },
  {
   "cell_type": "code",
   "execution_count": 4,
   "metadata": {},
   "outputs": [],
   "source": [
    "datafile = 'F:/data/CellPress1338'\n",
    "for name in data1.keys():\n",
    "\n",
    "    data1[name]['ori_cta'] =  os.path.join(datafile,'cta_img',name+'.nii.gz')\n",
    "    data1[name]['ori_seg'] =  os.path.join(datafile,'ane_seg',name+'.nii.gz')\n",
    "\n"
   ]
  },
  {
   "cell_type": "code",
   "execution_count": 5,
   "metadata": {},
   "outputs": [],
   "source": [
    "save_pickle(data1,'F:/codes/ubuntu/nnUnet/2HeadCut_New/All_CellPress1338_info.pkl')"
   ]
  },
  {
   "cell_type": "code",
   "execution_count": null,
   "metadata": {},
   "outputs": [],
   "source": []
  }
 ],
 "metadata": {
  "kernelspec": {
   "display_name": "Python 3",
   "language": "python",
   "name": "python3"
  },
  "language_info": {
   "codemirror_mode": {
    "name": "ipython",
    "version": 3
   },
   "file_extension": ".py",
   "mimetype": "text/x-python",
   "name": "python",
   "nbconvert_exporter": "python",
   "pygments_lexer": "ipython3",
   "version": "3.8.3"
  }
 },
 "nbformat": 4,
 "nbformat_minor": 4
}
